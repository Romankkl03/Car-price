{
  "cells": [
    {
      "cell_type": "markdown",
      "metadata": {
        "id": "NDF-276vDUVX"
      },
      "source": [
        "# Определение стоимости автомобилей"
      ]
    },
    {
      "cell_type": "markdown",
      "metadata": {
        "id": "ZUMNwtwyDUVa"
      },
      "source": [
        "Сервис по продаже автомобилей с пробегом «Не бит, не крашен» разрабатывает приложение для привлечения новых клиентов. В нём можно быстро узнать рыночную стоимость своего автомобиля. В вашем распоряжении исторические данные: технические характеристики, комплектации и цены автомобилей. Вам нужно построить модель для определения стоимости.\n",
        "\n",
        "Заказчику важны:\n",
        "\n",
        "- качество предсказания;\n",
        "- скорость предсказания;\n",
        "- время обучения."
      ]
    },
    {
      "cell_type": "markdown",
      "metadata": {
        "id": "0AiLAKvHDUVb"
      },
      "source": [
        "## Описание и план проекта"
      ]
    },
    {
      "cell_type": "markdown",
      "metadata": {
        "id": "OBnuLhmUDUVb"
      },
      "source": [
        "Необходимо построить модели, предсказывающие цены на машины по их техническим характеристикам. Из моделей выбрать лучшую по метрике RMSE.\n",
        "    \n",
        "План:\n",
        "\n",
        "* Сделать предобработку данных\n",
        "* Проанализировать данные (выделить важные признаки, убрать ненужные)\n",
        "* Построить модели\n",
        "* Проанализировать результаты"
      ]
    },
    {
      "cell_type": "markdown",
      "metadata": {
        "id": "4NbSb_AMDUVc"
      },
      "source": [
        "## Импорт необходимых библиотек"
      ]
    },
    {
      "cell_type": "code",
      "execution_count": 3,
      "metadata": {
        "colab": {
          "base_uri": "https://localhost:8080/"
        },
        "id": "R0S5TqyMDUVd",
        "outputId": "7241229d-30fa-46e1-d50b-0f5e7a6f86e1"
      },
      "outputs": [
        {
          "output_type": "stream",
          "name": "stdout",
          "text": [
            "\u001b[2K   \u001b[90m━━━━━━━━━━━━━━━━━━━━━━━━━━━━━━━━━━━━━━━━\u001b[0m \u001b[32m98.2/98.2 MB\u001b[0m \u001b[31m7.4 MB/s\u001b[0m eta \u001b[36m0:00:00\u001b[0m\n",
            "\u001b[?25h"
          ]
        }
      ],
      "source": [
        "!pip install -q lightgbm\n",
        "!pip install -q catboost"
      ]
    },
    {
      "cell_type": "code",
      "execution_count": 126,
      "metadata": {
        "id": "Nz_XXgTmDUVe"
      },
      "outputs": [],
      "source": [
        "import numpy as np\n",
        "import pandas as pd\n",
        "import matplotlib.pyplot as plt\n",
        "from sklearn.model_selection import train_test_split\n",
        "from sklearn.preprocessing import OrdinalEncoder\n",
        "from sklearn.preprocessing import OneHotEncoder\n",
        "from sklearn.model_selection import GridSearchCV\n",
        "from sklearn.metrics import mean_squared_error\n",
        "from sklearn.dummy import DummyClassifier\n",
        "import lightgbm as lgb\n",
        "from lightgbm import LGBMRegressor\n",
        "from sklearn.linear_model import LinearRegression\n",
        "from sklearn.model_selection import GridSearchCV\n",
        "from sklearn.ensemble import GradientBoostingRegressor\n",
        "from catboost import CatBoostRegressor\n",
        "from sklearn import linear_model\n",
        "from time import time\n",
        "import os\n",
        "import warnings\n",
        "plt.rcParams[\"figure.figsize\"] = (8,8)"
      ]
    },
    {
      "cell_type": "markdown",
      "metadata": {
        "id": "-fWDgXbSDUVf"
      },
      "source": [
        "## Подготовка данных"
      ]
    },
    {
      "cell_type": "code",
      "execution_count": 129,
      "metadata": {
        "id": "CdxrT5YuDUVg"
      },
      "outputs": [],
      "source": [
        "data_path = '/content'\n",
        "warnings.filterwarnings('ignore')\n",
        "st = 12345"
      ]
    },
    {
      "cell_type": "code",
      "execution_count": 63,
      "metadata": {
        "colab": {
          "base_uri": "https://localhost:8080/",
          "height": 400
        },
        "id": "hOEUc5n3DUVg",
        "outputId": "32a33bfe-9d7a-405c-820f-b669768f2974"
      },
      "outputs": [
        {
          "output_type": "execute_result",
          "data": {
            "text/plain": [
              "                DateCrawled  Price VehicleType  RegistrationYear Gearbox  \\\n",
              "151985  2016-04-01 09:54:50    100       wagon              1995  manual   \n",
              "42350   2016-03-31 19:38:33   5499       coupe              1981    auto   \n",
              "115547  2016-03-22 20:46:43    500       sedan              1997  manual   \n",
              "235598  2016-03-28 19:52:49    850       wagon              1993  manual   \n",
              "68247   2016-03-30 19:45:06  17299       sedan              2010  manual   \n",
              "\n",
              "        Power     Model  Kilometer  RegistrationMonth  FuelType  \\\n",
              "151985     75     astra     150000                  3    petrol   \n",
              "42350     132  e_klasse      20000                  9    petrol   \n",
              "115547     60     astra     125000                  1    petrol   \n",
              "235598    116    passat     150000                  7    petrol   \n",
              "68247     190        a5     150000                 10  gasoline   \n",
              "\n",
              "                Brand Repaired          DateCreated  NumberOfPictures  \\\n",
              "151985           opel      yes  2016-04-01 00:00:00                 0   \n",
              "42350   mercedes_benz      NaN  2016-03-31 00:00:00                 0   \n",
              "115547           opel       no  2016-03-22 00:00:00                 0   \n",
              "235598     volkswagen       no  2016-03-28 00:00:00                 0   \n",
              "68247            audi       no  2016-03-30 00:00:00                 0   \n",
              "\n",
              "        PostalCode             LastSeen  \n",
              "151985       95326  2016-04-07 06:17:40  \n",
              "42350        38855  2016-04-06 13:45:22  \n",
              "115547       37520  2016-03-30 13:44:33  \n",
              "235598       56727  2016-04-04 23:44:57  \n",
              "68247        41239  2016-04-07 11:16:16  "
            ],
            "text/html": [
              "\n",
              "  <div id=\"df-ad905a50-1a2c-459d-a94f-b3a9d89f2316\" class=\"colab-df-container\">\n",
              "    <div>\n",
              "<style scoped>\n",
              "    .dataframe tbody tr th:only-of-type {\n",
              "        vertical-align: middle;\n",
              "    }\n",
              "\n",
              "    .dataframe tbody tr th {\n",
              "        vertical-align: top;\n",
              "    }\n",
              "\n",
              "    .dataframe thead th {\n",
              "        text-align: right;\n",
              "    }\n",
              "</style>\n",
              "<table border=\"1\" class=\"dataframe\">\n",
              "  <thead>\n",
              "    <tr style=\"text-align: right;\">\n",
              "      <th></th>\n",
              "      <th>DateCrawled</th>\n",
              "      <th>Price</th>\n",
              "      <th>VehicleType</th>\n",
              "      <th>RegistrationYear</th>\n",
              "      <th>Gearbox</th>\n",
              "      <th>Power</th>\n",
              "      <th>Model</th>\n",
              "      <th>Kilometer</th>\n",
              "      <th>RegistrationMonth</th>\n",
              "      <th>FuelType</th>\n",
              "      <th>Brand</th>\n",
              "      <th>Repaired</th>\n",
              "      <th>DateCreated</th>\n",
              "      <th>NumberOfPictures</th>\n",
              "      <th>PostalCode</th>\n",
              "      <th>LastSeen</th>\n",
              "    </tr>\n",
              "  </thead>\n",
              "  <tbody>\n",
              "    <tr>\n",
              "      <th>151985</th>\n",
              "      <td>2016-04-01 09:54:50</td>\n",
              "      <td>100</td>\n",
              "      <td>wagon</td>\n",
              "      <td>1995</td>\n",
              "      <td>manual</td>\n",
              "      <td>75</td>\n",
              "      <td>astra</td>\n",
              "      <td>150000</td>\n",
              "      <td>3</td>\n",
              "      <td>petrol</td>\n",
              "      <td>opel</td>\n",
              "      <td>yes</td>\n",
              "      <td>2016-04-01 00:00:00</td>\n",
              "      <td>0</td>\n",
              "      <td>95326</td>\n",
              "      <td>2016-04-07 06:17:40</td>\n",
              "    </tr>\n",
              "    <tr>\n",
              "      <th>42350</th>\n",
              "      <td>2016-03-31 19:38:33</td>\n",
              "      <td>5499</td>\n",
              "      <td>coupe</td>\n",
              "      <td>1981</td>\n",
              "      <td>auto</td>\n",
              "      <td>132</td>\n",
              "      <td>e_klasse</td>\n",
              "      <td>20000</td>\n",
              "      <td>9</td>\n",
              "      <td>petrol</td>\n",
              "      <td>mercedes_benz</td>\n",
              "      <td>NaN</td>\n",
              "      <td>2016-03-31 00:00:00</td>\n",
              "      <td>0</td>\n",
              "      <td>38855</td>\n",
              "      <td>2016-04-06 13:45:22</td>\n",
              "    </tr>\n",
              "    <tr>\n",
              "      <th>115547</th>\n",
              "      <td>2016-03-22 20:46:43</td>\n",
              "      <td>500</td>\n",
              "      <td>sedan</td>\n",
              "      <td>1997</td>\n",
              "      <td>manual</td>\n",
              "      <td>60</td>\n",
              "      <td>astra</td>\n",
              "      <td>125000</td>\n",
              "      <td>1</td>\n",
              "      <td>petrol</td>\n",
              "      <td>opel</td>\n",
              "      <td>no</td>\n",
              "      <td>2016-03-22 00:00:00</td>\n",
              "      <td>0</td>\n",
              "      <td>37520</td>\n",
              "      <td>2016-03-30 13:44:33</td>\n",
              "    </tr>\n",
              "    <tr>\n",
              "      <th>235598</th>\n",
              "      <td>2016-03-28 19:52:49</td>\n",
              "      <td>850</td>\n",
              "      <td>wagon</td>\n",
              "      <td>1993</td>\n",
              "      <td>manual</td>\n",
              "      <td>116</td>\n",
              "      <td>passat</td>\n",
              "      <td>150000</td>\n",
              "      <td>7</td>\n",
              "      <td>petrol</td>\n",
              "      <td>volkswagen</td>\n",
              "      <td>no</td>\n",
              "      <td>2016-03-28 00:00:00</td>\n",
              "      <td>0</td>\n",
              "      <td>56727</td>\n",
              "      <td>2016-04-04 23:44:57</td>\n",
              "    </tr>\n",
              "    <tr>\n",
              "      <th>68247</th>\n",
              "      <td>2016-03-30 19:45:06</td>\n",
              "      <td>17299</td>\n",
              "      <td>sedan</td>\n",
              "      <td>2010</td>\n",
              "      <td>manual</td>\n",
              "      <td>190</td>\n",
              "      <td>a5</td>\n",
              "      <td>150000</td>\n",
              "      <td>10</td>\n",
              "      <td>gasoline</td>\n",
              "      <td>audi</td>\n",
              "      <td>no</td>\n",
              "      <td>2016-03-30 00:00:00</td>\n",
              "      <td>0</td>\n",
              "      <td>41239</td>\n",
              "      <td>2016-04-07 11:16:16</td>\n",
              "    </tr>\n",
              "  </tbody>\n",
              "</table>\n",
              "</div>\n",
              "    <div class=\"colab-df-buttons\">\n",
              "\n",
              "  <div class=\"colab-df-container\">\n",
              "    <button class=\"colab-df-convert\" onclick=\"convertToInteractive('df-ad905a50-1a2c-459d-a94f-b3a9d89f2316')\"\n",
              "            title=\"Convert this dataframe to an interactive table.\"\n",
              "            style=\"display:none;\">\n",
              "\n",
              "  <svg xmlns=\"http://www.w3.org/2000/svg\" height=\"24px\" viewBox=\"0 -960 960 960\">\n",
              "    <path d=\"M120-120v-720h720v720H120Zm60-500h600v-160H180v160Zm220 220h160v-160H400v160Zm0 220h160v-160H400v160ZM180-400h160v-160H180v160Zm440 0h160v-160H620v160ZM180-180h160v-160H180v160Zm440 0h160v-160H620v160Z\"/>\n",
              "  </svg>\n",
              "    </button>\n",
              "\n",
              "  <style>\n",
              "    .colab-df-container {\n",
              "      display:flex;\n",
              "      gap: 12px;\n",
              "    }\n",
              "\n",
              "    .colab-df-convert {\n",
              "      background-color: #E8F0FE;\n",
              "      border: none;\n",
              "      border-radius: 50%;\n",
              "      cursor: pointer;\n",
              "      display: none;\n",
              "      fill: #1967D2;\n",
              "      height: 32px;\n",
              "      padding: 0 0 0 0;\n",
              "      width: 32px;\n",
              "    }\n",
              "\n",
              "    .colab-df-convert:hover {\n",
              "      background-color: #E2EBFA;\n",
              "      box-shadow: 0px 1px 2px rgba(60, 64, 67, 0.3), 0px 1px 3px 1px rgba(60, 64, 67, 0.15);\n",
              "      fill: #174EA6;\n",
              "    }\n",
              "\n",
              "    .colab-df-buttons div {\n",
              "      margin-bottom: 4px;\n",
              "    }\n",
              "\n",
              "    [theme=dark] .colab-df-convert {\n",
              "      background-color: #3B4455;\n",
              "      fill: #D2E3FC;\n",
              "    }\n",
              "\n",
              "    [theme=dark] .colab-df-convert:hover {\n",
              "      background-color: #434B5C;\n",
              "      box-shadow: 0px 1px 3px 1px rgba(0, 0, 0, 0.15);\n",
              "      filter: drop-shadow(0px 1px 2px rgba(0, 0, 0, 0.3));\n",
              "      fill: #FFFFFF;\n",
              "    }\n",
              "  </style>\n",
              "\n",
              "    <script>\n",
              "      const buttonEl =\n",
              "        document.querySelector('#df-ad905a50-1a2c-459d-a94f-b3a9d89f2316 button.colab-df-convert');\n",
              "      buttonEl.style.display =\n",
              "        google.colab.kernel.accessAllowed ? 'block' : 'none';\n",
              "\n",
              "      async function convertToInteractive(key) {\n",
              "        const element = document.querySelector('#df-ad905a50-1a2c-459d-a94f-b3a9d89f2316');\n",
              "        const dataTable =\n",
              "          await google.colab.kernel.invokeFunction('convertToInteractive',\n",
              "                                                    [key], {});\n",
              "        if (!dataTable) return;\n",
              "\n",
              "        const docLinkHtml = 'Like what you see? Visit the ' +\n",
              "          '<a target=\"_blank\" href=https://colab.research.google.com/notebooks/data_table.ipynb>data table notebook</a>'\n",
              "          + ' to learn more about interactive tables.';\n",
              "        element.innerHTML = '';\n",
              "        dataTable['output_type'] = 'display_data';\n",
              "        await google.colab.output.renderOutput(dataTable, element);\n",
              "        const docLink = document.createElement('div');\n",
              "        docLink.innerHTML = docLinkHtml;\n",
              "        element.appendChild(docLink);\n",
              "      }\n",
              "    </script>\n",
              "  </div>\n",
              "\n",
              "\n",
              "<div id=\"df-143bb11d-3bb4-4fdb-8f75-827b3f827422\">\n",
              "  <button class=\"colab-df-quickchart\" onclick=\"quickchart('df-143bb11d-3bb4-4fdb-8f75-827b3f827422')\"\n",
              "            title=\"Suggest charts\"\n",
              "            style=\"display:none;\">\n",
              "\n",
              "<svg xmlns=\"http://www.w3.org/2000/svg\" height=\"24px\"viewBox=\"0 0 24 24\"\n",
              "     width=\"24px\">\n",
              "    <g>\n",
              "        <path d=\"M19 3H5c-1.1 0-2 .9-2 2v14c0 1.1.9 2 2 2h14c1.1 0 2-.9 2-2V5c0-1.1-.9-2-2-2zM9 17H7v-7h2v7zm4 0h-2V7h2v10zm4 0h-2v-4h2v4z\"/>\n",
              "    </g>\n",
              "</svg>\n",
              "  </button>\n",
              "\n",
              "<style>\n",
              "  .colab-df-quickchart {\n",
              "      --bg-color: #E8F0FE;\n",
              "      --fill-color: #1967D2;\n",
              "      --hover-bg-color: #E2EBFA;\n",
              "      --hover-fill-color: #174EA6;\n",
              "      --disabled-fill-color: #AAA;\n",
              "      --disabled-bg-color: #DDD;\n",
              "  }\n",
              "\n",
              "  [theme=dark] .colab-df-quickchart {\n",
              "      --bg-color: #3B4455;\n",
              "      --fill-color: #D2E3FC;\n",
              "      --hover-bg-color: #434B5C;\n",
              "      --hover-fill-color: #FFFFFF;\n",
              "      --disabled-bg-color: #3B4455;\n",
              "      --disabled-fill-color: #666;\n",
              "  }\n",
              "\n",
              "  .colab-df-quickchart {\n",
              "    background-color: var(--bg-color);\n",
              "    border: none;\n",
              "    border-radius: 50%;\n",
              "    cursor: pointer;\n",
              "    display: none;\n",
              "    fill: var(--fill-color);\n",
              "    height: 32px;\n",
              "    padding: 0;\n",
              "    width: 32px;\n",
              "  }\n",
              "\n",
              "  .colab-df-quickchart:hover {\n",
              "    background-color: var(--hover-bg-color);\n",
              "    box-shadow: 0 1px 2px rgba(60, 64, 67, 0.3), 0 1px 3px 1px rgba(60, 64, 67, 0.15);\n",
              "    fill: var(--button-hover-fill-color);\n",
              "  }\n",
              "\n",
              "  .colab-df-quickchart-complete:disabled,\n",
              "  .colab-df-quickchart-complete:disabled:hover {\n",
              "    background-color: var(--disabled-bg-color);\n",
              "    fill: var(--disabled-fill-color);\n",
              "    box-shadow: none;\n",
              "  }\n",
              "\n",
              "  .colab-df-spinner {\n",
              "    border: 2px solid var(--fill-color);\n",
              "    border-color: transparent;\n",
              "    border-bottom-color: var(--fill-color);\n",
              "    animation:\n",
              "      spin 1s steps(1) infinite;\n",
              "  }\n",
              "\n",
              "  @keyframes spin {\n",
              "    0% {\n",
              "      border-color: transparent;\n",
              "      border-bottom-color: var(--fill-color);\n",
              "      border-left-color: var(--fill-color);\n",
              "    }\n",
              "    20% {\n",
              "      border-color: transparent;\n",
              "      border-left-color: var(--fill-color);\n",
              "      border-top-color: var(--fill-color);\n",
              "    }\n",
              "    30% {\n",
              "      border-color: transparent;\n",
              "      border-left-color: var(--fill-color);\n",
              "      border-top-color: var(--fill-color);\n",
              "      border-right-color: var(--fill-color);\n",
              "    }\n",
              "    40% {\n",
              "      border-color: transparent;\n",
              "      border-right-color: var(--fill-color);\n",
              "      border-top-color: var(--fill-color);\n",
              "    }\n",
              "    60% {\n",
              "      border-color: transparent;\n",
              "      border-right-color: var(--fill-color);\n",
              "    }\n",
              "    80% {\n",
              "      border-color: transparent;\n",
              "      border-right-color: var(--fill-color);\n",
              "      border-bottom-color: var(--fill-color);\n",
              "    }\n",
              "    90% {\n",
              "      border-color: transparent;\n",
              "      border-bottom-color: var(--fill-color);\n",
              "    }\n",
              "  }\n",
              "</style>\n",
              "\n",
              "  <script>\n",
              "    async function quickchart(key) {\n",
              "      const quickchartButtonEl =\n",
              "        document.querySelector('#' + key + ' button');\n",
              "      quickchartButtonEl.disabled = true;  // To prevent multiple clicks.\n",
              "      quickchartButtonEl.classList.add('colab-df-spinner');\n",
              "      try {\n",
              "        const charts = await google.colab.kernel.invokeFunction(\n",
              "            'suggestCharts', [key], {});\n",
              "      } catch (error) {\n",
              "        console.error('Error during call to suggestCharts:', error);\n",
              "      }\n",
              "      quickchartButtonEl.classList.remove('colab-df-spinner');\n",
              "      quickchartButtonEl.classList.add('colab-df-quickchart-complete');\n",
              "    }\n",
              "    (() => {\n",
              "      let quickchartButtonEl =\n",
              "        document.querySelector('#df-143bb11d-3bb4-4fdb-8f75-827b3f827422 button');\n",
              "      quickchartButtonEl.style.display =\n",
              "        google.colab.kernel.accessAllowed ? 'block' : 'none';\n",
              "    })();\n",
              "  </script>\n",
              "</div>\n",
              "    </div>\n",
              "  </div>\n"
            ],
            "application/vnd.google.colaboratory.intrinsic+json": {
              "type": "dataframe",
              "repr_error": "0"
            }
          },
          "metadata": {},
          "execution_count": 63
        }
      ],
      "source": [
        "#загрузка данных\n",
        "df = pd.read_csv(os.path.join(data_path, 'autos.csv'))\n",
        "df.sample(5)"
      ]
    },
    {
      "cell_type": "markdown",
      "metadata": {
        "id": "lRis8UcJDUVi"
      },
      "source": [
        "### Типы данных"
      ]
    },
    {
      "cell_type": "code",
      "execution_count": 64,
      "metadata": {
        "colab": {
          "base_uri": "https://localhost:8080/"
        },
        "id": "IGHs4WDdDUVi",
        "outputId": "5e0dd1dd-6c33-4ddd-efa2-439683064beb"
      },
      "outputs": [
        {
          "output_type": "stream",
          "name": "stdout",
          "text": [
            "<class 'pandas.core.frame.DataFrame'>\n",
            "RangeIndex: 354369 entries, 0 to 354368\n",
            "Data columns (total 16 columns):\n",
            " #   Column             Non-Null Count   Dtype \n",
            "---  ------             --------------   ----- \n",
            " 0   DateCrawled        354369 non-null  object\n",
            " 1   Price              354369 non-null  int64 \n",
            " 2   VehicleType        316879 non-null  object\n",
            " 3   RegistrationYear   354369 non-null  int64 \n",
            " 4   Gearbox            334536 non-null  object\n",
            " 5   Power              354369 non-null  int64 \n",
            " 6   Model              334664 non-null  object\n",
            " 7   Kilometer          354369 non-null  int64 \n",
            " 8   RegistrationMonth  354369 non-null  int64 \n",
            " 9   FuelType           321474 non-null  object\n",
            " 10  Brand              354369 non-null  object\n",
            " 11  Repaired           283215 non-null  object\n",
            " 12  DateCreated        354369 non-null  object\n",
            " 13  NumberOfPictures   354369 non-null  int64 \n",
            " 14  PostalCode         354369 non-null  int64 \n",
            " 15  LastSeen           354369 non-null  object\n",
            "dtypes: int64(7), object(9)\n",
            "memory usage: 43.3+ MB\n"
          ]
        }
      ],
      "source": [
        "df.info()"
      ]
    },
    {
      "cell_type": "code",
      "execution_count": 65,
      "metadata": {
        "id": "uNOP-hueDUVi"
      },
      "outputs": [],
      "source": [
        "df['DateCrawled'] = pd.to_datetime(df['DateCrawled'], format='%Y-%m-%d %H:%M:%S')\n",
        "df['DateCreated'] = pd.to_datetime(df['DateCreated'], format='%Y-%m-%d %H:%M:%S')\n",
        "df['LastSeen'] = pd.to_datetime(df['LastSeen'], format='%Y-%m-%d %H:%M:%S')"
      ]
    },
    {
      "cell_type": "markdown",
      "metadata": {
        "id": "_-IraKkJDUVj"
      },
      "source": [
        "Есть несколько столбцов с датами типа object, преобразуем их к типу datetime64."
      ]
    },
    {
      "cell_type": "code",
      "execution_count": 66,
      "metadata": {
        "colab": {
          "base_uri": "https://localhost:8080/"
        },
        "id": "AU7o4Kx7DUVj",
        "outputId": "09d4530e-295b-4d13-8793-d07af8fcb23b"
      },
      "outputs": [
        {
          "output_type": "stream",
          "name": "stdout",
          "text": [
            "<class 'pandas.core.frame.DataFrame'>\n",
            "RangeIndex: 354369 entries, 0 to 354368\n",
            "Data columns (total 16 columns):\n",
            " #   Column             Non-Null Count   Dtype         \n",
            "---  ------             --------------   -----         \n",
            " 0   DateCrawled        354369 non-null  datetime64[ns]\n",
            " 1   Price              354369 non-null  int64         \n",
            " 2   VehicleType        316879 non-null  object        \n",
            " 3   RegistrationYear   354369 non-null  int64         \n",
            " 4   Gearbox            334536 non-null  object        \n",
            " 5   Power              354369 non-null  int64         \n",
            " 6   Model              334664 non-null  object        \n",
            " 7   Kilometer          354369 non-null  int64         \n",
            " 8   RegistrationMonth  354369 non-null  int64         \n",
            " 9   FuelType           321474 non-null  object        \n",
            " 10  Brand              354369 non-null  object        \n",
            " 11  Repaired           283215 non-null  object        \n",
            " 12  DateCreated        354369 non-null  datetime64[ns]\n",
            " 13  NumberOfPictures   354369 non-null  int64         \n",
            " 14  PostalCode         354369 non-null  int64         \n",
            " 15  LastSeen           354369 non-null  datetime64[ns]\n",
            "dtypes: datetime64[ns](3), int64(7), object(6)\n",
            "memory usage: 43.3+ MB\n"
          ]
        }
      ],
      "source": [
        "df.info()"
      ]
    },
    {
      "cell_type": "markdown",
      "metadata": {
        "id": "BE4_p3dhDUVj"
      },
      "source": [
        "### Дубликаты"
      ]
    },
    {
      "cell_type": "code",
      "execution_count": 67,
      "metadata": {
        "colab": {
          "base_uri": "https://localhost:8080/"
        },
        "id": "ZxAi5HKNDUVj",
        "outputId": "6029daac-6175-4a46-a11d-bc2e8d22b051"
      },
      "outputs": [
        {
          "output_type": "execute_result",
          "data": {
            "text/plain": [
              "4"
            ]
          },
          "metadata": {},
          "execution_count": 67
        }
      ],
      "source": [
        "df.duplicated().sum()"
      ]
    },
    {
      "cell_type": "markdown",
      "metadata": {
        "id": "jPVY4SLEDUVk"
      },
      "source": [
        "Имеются явные дубликаты, удалим их."
      ]
    },
    {
      "cell_type": "code",
      "execution_count": 68,
      "metadata": {
        "colab": {
          "base_uri": "https://localhost:8080/"
        },
        "id": "h6xkcGU_DUVk",
        "outputId": "979ff14e-17d9-4dc1-f23b-8a2b651fc3a5"
      },
      "outputs": [
        {
          "output_type": "execute_result",
          "data": {
            "text/plain": [
              "0"
            ]
          },
          "metadata": {},
          "execution_count": 68
        }
      ],
      "source": [
        "df = df.drop_duplicates(keep='first')\n",
        "df.duplicated().sum()"
      ]
    },
    {
      "cell_type": "code",
      "execution_count": 69,
      "metadata": {
        "colab": {
          "base_uri": "https://localhost:8080/"
        },
        "id": "_vGFQQKwDUVk",
        "outputId": "ba5c30ac-a9cf-4232-819e-035b8ba81cef"
      },
      "outputs": [
        {
          "output_type": "stream",
          "name": "stdout",
          "text": [
            "VehicleType [nan 'coupe' 'suv' 'small' 'sedan' 'convertible' 'bus' 'wagon' 'other']\n",
            "Gearbox ['manual' 'auto' nan]\n",
            "Model ['golf' nan 'grand' 'fabia' '3er' '2_reihe' 'other' 'c_max' '3_reihe'\n",
            " 'passat' 'navara' 'ka' 'polo' 'twingo' 'a_klasse' 'scirocco' '5er'\n",
            " 'meriva' 'arosa' 'c4' 'civic' 'transporter' 'punto' 'e_klasse' 'clio'\n",
            " 'kadett' 'kangoo' 'corsa' 'one' 'fortwo' '1er' 'b_klasse' 'signum'\n",
            " 'astra' 'a8' 'jetta' 'fiesta' 'c_klasse' 'micra' 'vito' 'sprinter' '156'\n",
            " 'escort' 'forester' 'xc_reihe' 'scenic' 'a4' 'a1' 'insignia' 'combo'\n",
            " 'focus' 'tt' 'a6' 'jazz' 'omega' 'slk' '7er' '80' '147' '100' 'z_reihe'\n",
            " 'sportage' 'sorento' 'v40' 'ibiza' 'mustang' 'eos' 'touran' 'getz' 'a3'\n",
            " 'almera' 'megane' 'lupo' 'r19' 'zafira' 'caddy' 'mondeo' 'cordoba' 'colt'\n",
            " 'impreza' 'vectra' 'berlingo' 'tiguan' 'i_reihe' 'espace' 'sharan'\n",
            " '6_reihe' 'panda' 'up' 'seicento' 'ceed' '5_reihe' 'yeti' 'octavia' 'mii'\n",
            " 'rx_reihe' '6er' 'modus' 'fox' 'matiz' 'beetle' 'c1' 'rio' 'touareg'\n",
            " 'logan' 'spider' 'cuore' 's_max' 'a2' 'galaxy' 'c3' 'viano' 's_klasse'\n",
            " '1_reihe' 'avensis' 'roomster' 'sl' 'kaefer' 'santa' 'cooper' 'leon'\n",
            " '4_reihe' 'a5' '500' 'laguna' 'ptcruiser' 'clk' 'primera' 'x_reihe'\n",
            " 'exeo' '159' 'transit' 'juke' 'qashqai' 'carisma' 'accord' 'corolla'\n",
            " 'lanos' 'phaeton' 'verso' 'swift' 'rav' 'picanto' 'boxster' 'kalos'\n",
            " 'superb' 'stilo' 'alhambra' 'mx_reihe' 'roadster' 'ypsilon' 'cayenne'\n",
            " 'galant' 'justy' '90' 'sirion' 'crossfire' 'agila' 'duster' 'cr_reihe'\n",
            " 'v50' 'c_reihe' 'v_klasse' 'm_klasse' 'yaris' 'c5' 'aygo' 'cc' 'carnival'\n",
            " 'fusion' '911' 'bora' 'forfour' 'm_reihe' 'cl' 'tigra' '300c' 'spark'\n",
            " 'v70' 'kuga' 'x_type' 'ducato' 's_type' 'x_trail' 'toledo' 'altea'\n",
            " 'voyager' 'calibra' 'bravo' 'antara' 'tucson' 'citigo' 'jimny' 'wrangler'\n",
            " 'lybra' 'q7' 'lancer' 'captiva' 'c2' 'discovery' 'freelander' 'sandero'\n",
            " 'note' '900' 'cherokee' 'clubman' 'samara' 'defender' '601' 'cx_reihe'\n",
            " 'legacy' 'pajero' 'auris' 'niva' 's60' 'nubira' 'vivaro' 'g_klasse'\n",
            " 'lodgy' '850' 'range_rover' 'q3' 'serie_2' 'glk' 'charade' 'croma'\n",
            " 'outlander' 'doblo' 'musa' 'move' '9000' 'v60' '145' 'aveo' '200' 'b_max'\n",
            " 'range_rover_sport' 'terios' 'rangerover' 'q5' 'range_rover_evoque'\n",
            " 'materia' 'delta' 'gl' 'kalina' 'amarok' 'elefantino' 'i3' 'kappa'\n",
            " 'serie_3' 'serie_1']\n",
            "FuelType ['petrol' 'gasoline' nan 'lpg' 'other' 'hybrid' 'cng' 'electric']\n",
            "Brand ['volkswagen' 'audi' 'jeep' 'skoda' 'bmw' 'peugeot' 'ford' 'mazda'\n",
            " 'nissan' 'renault' 'mercedes_benz' 'opel' 'seat' 'citroen' 'honda' 'fiat'\n",
            " 'mini' 'smart' 'hyundai' 'sonstige_autos' 'alfa_romeo' 'subaru' 'volvo'\n",
            " 'mitsubishi' 'kia' 'suzuki' 'lancia' 'toyota' 'chevrolet' 'dacia'\n",
            " 'daihatsu' 'trabant' 'saab' 'chrysler' 'jaguar' 'daewoo' 'porsche'\n",
            " 'rover' 'land_rover' 'lada']\n",
            "Repaired [nan 'yes' 'no']\n"
          ]
        }
      ],
      "source": [
        "print('VehicleType', df['VehicleType'].unique())\n",
        "print('Gearbox', df['Gearbox'].unique())\n",
        "print('Model', df['Model'].unique())\n",
        "print('FuelType', df['FuelType'].unique())\n",
        "print('Brand', df['Brand'].unique())\n",
        "print('Repaired', df['Repaired'].unique())"
      ]
    },
    {
      "cell_type": "markdown",
      "metadata": {
        "id": "o5WmRA5ZDUVl"
      },
      "source": [
        "Неявных дубликатов не обнаружено"
      ]
    },
    {
      "cell_type": "markdown",
      "metadata": {
        "id": "_QcLghPXDUVl"
      },
      "source": [
        "### Пропуски"
      ]
    },
    {
      "cell_type": "code",
      "execution_count": 70,
      "metadata": {
        "colab": {
          "base_uri": "https://localhost:8080/"
        },
        "id": "_chco5DiDUVl",
        "outputId": "9e3c459e-ec31-4c81-cc42-61af0be2358d"
      },
      "outputs": [
        {
          "output_type": "execute_result",
          "data": {
            "text/plain": [
              "DateCrawled           0.000000\n",
              "Price                 0.000000\n",
              "VehicleType          10.579487\n",
              "RegistrationYear      0.000000\n",
              "Gearbox               5.596772\n",
              "Power                 0.000000\n",
              "Model                 5.560651\n",
              "Kilometer             0.000000\n",
              "RegistrationMonth     0.000000\n",
              "FuelType              9.282802\n",
              "Brand                 0.000000\n",
              "Repaired             20.079297\n",
              "DateCreated           0.000000\n",
              "NumberOfPictures      0.000000\n",
              "PostalCode            0.000000\n",
              "LastSeen              0.000000\n",
              "dtype: float64"
            ]
          },
          "metadata": {},
          "execution_count": 70
        }
      ],
      "source": [
        "df.isna().sum()/df.shape[0]*100"
      ]
    },
    {
      "cell_type": "code",
      "execution_count": 71,
      "metadata": {
        "colab": {
          "base_uri": "https://localhost:8080/"
        },
        "id": "bonW5q5uDUVm",
        "outputId": "20a657e7-b0a7-475f-b23c-38a43761e2d0"
      },
      "outputs": [
        {
          "output_type": "execute_result",
          "data": {
            "text/plain": [
              "DateCrawled          0\n",
              "Price                0\n",
              "VehicleType          0\n",
              "RegistrationYear     0\n",
              "Gearbox              0\n",
              "Power                0\n",
              "Model                0\n",
              "Kilometer            0\n",
              "RegistrationMonth    0\n",
              "FuelType             0\n",
              "Brand                0\n",
              "Repaired             0\n",
              "DateCreated          0\n",
              "NumberOfPictures     0\n",
              "PostalCode           0\n",
              "LastSeen             0\n",
              "dtype: int64"
            ]
          },
          "metadata": {},
          "execution_count": 71
        }
      ],
      "source": [
        "nan_columns = ['VehicleType', 'Repaired', 'Model', 'FuelType', 'Gearbox']\n",
        "df[nan_columns] = df[nan_columns].fillna('Missing')\n",
        "df.isna().sum()"
      ]
    },
    {
      "cell_type": "markdown",
      "metadata": {
        "id": "ajWP-K3iDUVm"
      },
      "source": [
        "Заменим пропуски в категориальных данных на заглушки, так как их больше 1%."
      ]
    },
    {
      "cell_type": "markdown",
      "metadata": {
        "id": "BViKErpcDUVm"
      },
      "source": [
        "## Анализ данных и признаков"
      ]
    },
    {
      "cell_type": "code",
      "execution_count": 72,
      "metadata": {
        "scrolled": true,
        "colab": {
          "base_uri": "https://localhost:8080/",
          "height": 424
        },
        "id": "huIHTaK_DUVn",
        "outputId": "07958076-e26c-44b5-aa7d-42dc66fe8d05"
      },
      "outputs": [
        {
          "output_type": "execute_result",
          "data": {
            "text/plain": [
              "                         DateCrawled          Price  RegistrationYear  \\\n",
              "count                         354365  354365.000000     354365.000000   \n",
              "mean   2016-03-21 12:58:09.520460544    4416.679830       2004.234481   \n",
              "min              2016-03-05 14:06:22       0.000000       1000.000000   \n",
              "25%              2016-03-13 11:52:33    1050.000000       1999.000000   \n",
              "50%              2016-03-21 17:50:55    2700.000000       2003.000000   \n",
              "75%              2016-03-29 14:37:20    6400.000000       2008.000000   \n",
              "max              2016-04-07 14:36:58   20000.000000       9999.000000   \n",
              "std                              NaN    4514.176349         90.228466   \n",
              "\n",
              "               Power      Kilometer  RegistrationMonth  \\\n",
              "count  354365.000000  354365.000000      354365.000000   \n",
              "mean      110.093816  128211.363989           5.714650   \n",
              "min         0.000000    5000.000000           0.000000   \n",
              "25%        69.000000  125000.000000           3.000000   \n",
              "50%       105.000000  150000.000000           6.000000   \n",
              "75%       143.000000  150000.000000           9.000000   \n",
              "max     20000.000000  150000.000000          12.000000   \n",
              "std       189.851330   37905.083858           3.726432   \n",
              "\n",
              "                         DateCreated  NumberOfPictures     PostalCode  \\\n",
              "count                         354365          354365.0  354365.000000   \n",
              "mean   2016-03-20 19:12:06.583042560               0.0   50508.503800   \n",
              "min              2014-03-10 00:00:00               0.0    1067.000000   \n",
              "25%              2016-03-13 00:00:00               0.0   30165.000000   \n",
              "50%              2016-03-21 00:00:00               0.0   49413.000000   \n",
              "75%              2016-03-29 00:00:00               0.0   71083.000000   \n",
              "max              2016-04-07 00:00:00               0.0   99998.000000   \n",
              "std                              NaN               0.0   25783.100078   \n",
              "\n",
              "                            LastSeen  \n",
              "count                         354365  \n",
              "mean   2016-03-29 23:51:06.766184960  \n",
              "min              2016-03-05 14:15:08  \n",
              "25%              2016-03-23 02:50:03  \n",
              "50%              2016-04-03 15:15:52  \n",
              "75%              2016-04-06 10:15:19  \n",
              "max              2016-04-07 14:58:51  \n",
              "std                              NaN  "
            ],
            "text/html": [
              "\n",
              "  <div id=\"df-ca232afd-7abc-4df4-a2f6-f673befdd040\" class=\"colab-df-container\">\n",
              "    <div>\n",
              "<style scoped>\n",
              "    .dataframe tbody tr th:only-of-type {\n",
              "        vertical-align: middle;\n",
              "    }\n",
              "\n",
              "    .dataframe tbody tr th {\n",
              "        vertical-align: top;\n",
              "    }\n",
              "\n",
              "    .dataframe thead th {\n",
              "        text-align: right;\n",
              "    }\n",
              "</style>\n",
              "<table border=\"1\" class=\"dataframe\">\n",
              "  <thead>\n",
              "    <tr style=\"text-align: right;\">\n",
              "      <th></th>\n",
              "      <th>DateCrawled</th>\n",
              "      <th>Price</th>\n",
              "      <th>RegistrationYear</th>\n",
              "      <th>Power</th>\n",
              "      <th>Kilometer</th>\n",
              "      <th>RegistrationMonth</th>\n",
              "      <th>DateCreated</th>\n",
              "      <th>NumberOfPictures</th>\n",
              "      <th>PostalCode</th>\n",
              "      <th>LastSeen</th>\n",
              "    </tr>\n",
              "  </thead>\n",
              "  <tbody>\n",
              "    <tr>\n",
              "      <th>count</th>\n",
              "      <td>354365</td>\n",
              "      <td>354365.000000</td>\n",
              "      <td>354365.000000</td>\n",
              "      <td>354365.000000</td>\n",
              "      <td>354365.000000</td>\n",
              "      <td>354365.000000</td>\n",
              "      <td>354365</td>\n",
              "      <td>354365.0</td>\n",
              "      <td>354365.000000</td>\n",
              "      <td>354365</td>\n",
              "    </tr>\n",
              "    <tr>\n",
              "      <th>mean</th>\n",
              "      <td>2016-03-21 12:58:09.520460544</td>\n",
              "      <td>4416.679830</td>\n",
              "      <td>2004.234481</td>\n",
              "      <td>110.093816</td>\n",
              "      <td>128211.363989</td>\n",
              "      <td>5.714650</td>\n",
              "      <td>2016-03-20 19:12:06.583042560</td>\n",
              "      <td>0.0</td>\n",
              "      <td>50508.503800</td>\n",
              "      <td>2016-03-29 23:51:06.766184960</td>\n",
              "    </tr>\n",
              "    <tr>\n",
              "      <th>min</th>\n",
              "      <td>2016-03-05 14:06:22</td>\n",
              "      <td>0.000000</td>\n",
              "      <td>1000.000000</td>\n",
              "      <td>0.000000</td>\n",
              "      <td>5000.000000</td>\n",
              "      <td>0.000000</td>\n",
              "      <td>2014-03-10 00:00:00</td>\n",
              "      <td>0.0</td>\n",
              "      <td>1067.000000</td>\n",
              "      <td>2016-03-05 14:15:08</td>\n",
              "    </tr>\n",
              "    <tr>\n",
              "      <th>25%</th>\n",
              "      <td>2016-03-13 11:52:33</td>\n",
              "      <td>1050.000000</td>\n",
              "      <td>1999.000000</td>\n",
              "      <td>69.000000</td>\n",
              "      <td>125000.000000</td>\n",
              "      <td>3.000000</td>\n",
              "      <td>2016-03-13 00:00:00</td>\n",
              "      <td>0.0</td>\n",
              "      <td>30165.000000</td>\n",
              "      <td>2016-03-23 02:50:03</td>\n",
              "    </tr>\n",
              "    <tr>\n",
              "      <th>50%</th>\n",
              "      <td>2016-03-21 17:50:55</td>\n",
              "      <td>2700.000000</td>\n",
              "      <td>2003.000000</td>\n",
              "      <td>105.000000</td>\n",
              "      <td>150000.000000</td>\n",
              "      <td>6.000000</td>\n",
              "      <td>2016-03-21 00:00:00</td>\n",
              "      <td>0.0</td>\n",
              "      <td>49413.000000</td>\n",
              "      <td>2016-04-03 15:15:52</td>\n",
              "    </tr>\n",
              "    <tr>\n",
              "      <th>75%</th>\n",
              "      <td>2016-03-29 14:37:20</td>\n",
              "      <td>6400.000000</td>\n",
              "      <td>2008.000000</td>\n",
              "      <td>143.000000</td>\n",
              "      <td>150000.000000</td>\n",
              "      <td>9.000000</td>\n",
              "      <td>2016-03-29 00:00:00</td>\n",
              "      <td>0.0</td>\n",
              "      <td>71083.000000</td>\n",
              "      <td>2016-04-06 10:15:19</td>\n",
              "    </tr>\n",
              "    <tr>\n",
              "      <th>max</th>\n",
              "      <td>2016-04-07 14:36:58</td>\n",
              "      <td>20000.000000</td>\n",
              "      <td>9999.000000</td>\n",
              "      <td>20000.000000</td>\n",
              "      <td>150000.000000</td>\n",
              "      <td>12.000000</td>\n",
              "      <td>2016-04-07 00:00:00</td>\n",
              "      <td>0.0</td>\n",
              "      <td>99998.000000</td>\n",
              "      <td>2016-04-07 14:58:51</td>\n",
              "    </tr>\n",
              "    <tr>\n",
              "      <th>std</th>\n",
              "      <td>NaN</td>\n",
              "      <td>4514.176349</td>\n",
              "      <td>90.228466</td>\n",
              "      <td>189.851330</td>\n",
              "      <td>37905.083858</td>\n",
              "      <td>3.726432</td>\n",
              "      <td>NaN</td>\n",
              "      <td>0.0</td>\n",
              "      <td>25783.100078</td>\n",
              "      <td>NaN</td>\n",
              "    </tr>\n",
              "  </tbody>\n",
              "</table>\n",
              "</div>\n",
              "    <div class=\"colab-df-buttons\">\n",
              "\n",
              "  <div class=\"colab-df-container\">\n",
              "    <button class=\"colab-df-convert\" onclick=\"convertToInteractive('df-ca232afd-7abc-4df4-a2f6-f673befdd040')\"\n",
              "            title=\"Convert this dataframe to an interactive table.\"\n",
              "            style=\"display:none;\">\n",
              "\n",
              "  <svg xmlns=\"http://www.w3.org/2000/svg\" height=\"24px\" viewBox=\"0 -960 960 960\">\n",
              "    <path d=\"M120-120v-720h720v720H120Zm60-500h600v-160H180v160Zm220 220h160v-160H400v160Zm0 220h160v-160H400v160ZM180-400h160v-160H180v160Zm440 0h160v-160H620v160ZM180-180h160v-160H180v160Zm440 0h160v-160H620v160Z\"/>\n",
              "  </svg>\n",
              "    </button>\n",
              "\n",
              "  <style>\n",
              "    .colab-df-container {\n",
              "      display:flex;\n",
              "      gap: 12px;\n",
              "    }\n",
              "\n",
              "    .colab-df-convert {\n",
              "      background-color: #E8F0FE;\n",
              "      border: none;\n",
              "      border-radius: 50%;\n",
              "      cursor: pointer;\n",
              "      display: none;\n",
              "      fill: #1967D2;\n",
              "      height: 32px;\n",
              "      padding: 0 0 0 0;\n",
              "      width: 32px;\n",
              "    }\n",
              "\n",
              "    .colab-df-convert:hover {\n",
              "      background-color: #E2EBFA;\n",
              "      box-shadow: 0px 1px 2px rgba(60, 64, 67, 0.3), 0px 1px 3px 1px rgba(60, 64, 67, 0.15);\n",
              "      fill: #174EA6;\n",
              "    }\n",
              "\n",
              "    .colab-df-buttons div {\n",
              "      margin-bottom: 4px;\n",
              "    }\n",
              "\n",
              "    [theme=dark] .colab-df-convert {\n",
              "      background-color: #3B4455;\n",
              "      fill: #D2E3FC;\n",
              "    }\n",
              "\n",
              "    [theme=dark] .colab-df-convert:hover {\n",
              "      background-color: #434B5C;\n",
              "      box-shadow: 0px 1px 3px 1px rgba(0, 0, 0, 0.15);\n",
              "      filter: drop-shadow(0px 1px 2px rgba(0, 0, 0, 0.3));\n",
              "      fill: #FFFFFF;\n",
              "    }\n",
              "  </style>\n",
              "\n",
              "    <script>\n",
              "      const buttonEl =\n",
              "        document.querySelector('#df-ca232afd-7abc-4df4-a2f6-f673befdd040 button.colab-df-convert');\n",
              "      buttonEl.style.display =\n",
              "        google.colab.kernel.accessAllowed ? 'block' : 'none';\n",
              "\n",
              "      async function convertToInteractive(key) {\n",
              "        const element = document.querySelector('#df-ca232afd-7abc-4df4-a2f6-f673befdd040');\n",
              "        const dataTable =\n",
              "          await google.colab.kernel.invokeFunction('convertToInteractive',\n",
              "                                                    [key], {});\n",
              "        if (!dataTable) return;\n",
              "\n",
              "        const docLinkHtml = 'Like what you see? Visit the ' +\n",
              "          '<a target=\"_blank\" href=https://colab.research.google.com/notebooks/data_table.ipynb>data table notebook</a>'\n",
              "          + ' to learn more about interactive tables.';\n",
              "        element.innerHTML = '';\n",
              "        dataTable['output_type'] = 'display_data';\n",
              "        await google.colab.output.renderOutput(dataTable, element);\n",
              "        const docLink = document.createElement('div');\n",
              "        docLink.innerHTML = docLinkHtml;\n",
              "        element.appendChild(docLink);\n",
              "      }\n",
              "    </script>\n",
              "  </div>\n",
              "\n",
              "\n",
              "<div id=\"df-199fe244-52f7-4c8f-bdc3-9b83504457bd\">\n",
              "  <button class=\"colab-df-quickchart\" onclick=\"quickchart('df-199fe244-52f7-4c8f-bdc3-9b83504457bd')\"\n",
              "            title=\"Suggest charts\"\n",
              "            style=\"display:none;\">\n",
              "\n",
              "<svg xmlns=\"http://www.w3.org/2000/svg\" height=\"24px\"viewBox=\"0 0 24 24\"\n",
              "     width=\"24px\">\n",
              "    <g>\n",
              "        <path d=\"M19 3H5c-1.1 0-2 .9-2 2v14c0 1.1.9 2 2 2h14c1.1 0 2-.9 2-2V5c0-1.1-.9-2-2-2zM9 17H7v-7h2v7zm4 0h-2V7h2v10zm4 0h-2v-4h2v4z\"/>\n",
              "    </g>\n",
              "</svg>\n",
              "  </button>\n",
              "\n",
              "<style>\n",
              "  .colab-df-quickchart {\n",
              "      --bg-color: #E8F0FE;\n",
              "      --fill-color: #1967D2;\n",
              "      --hover-bg-color: #E2EBFA;\n",
              "      --hover-fill-color: #174EA6;\n",
              "      --disabled-fill-color: #AAA;\n",
              "      --disabled-bg-color: #DDD;\n",
              "  }\n",
              "\n",
              "  [theme=dark] .colab-df-quickchart {\n",
              "      --bg-color: #3B4455;\n",
              "      --fill-color: #D2E3FC;\n",
              "      --hover-bg-color: #434B5C;\n",
              "      --hover-fill-color: #FFFFFF;\n",
              "      --disabled-bg-color: #3B4455;\n",
              "      --disabled-fill-color: #666;\n",
              "  }\n",
              "\n",
              "  .colab-df-quickchart {\n",
              "    background-color: var(--bg-color);\n",
              "    border: none;\n",
              "    border-radius: 50%;\n",
              "    cursor: pointer;\n",
              "    display: none;\n",
              "    fill: var(--fill-color);\n",
              "    height: 32px;\n",
              "    padding: 0;\n",
              "    width: 32px;\n",
              "  }\n",
              "\n",
              "  .colab-df-quickchart:hover {\n",
              "    background-color: var(--hover-bg-color);\n",
              "    box-shadow: 0 1px 2px rgba(60, 64, 67, 0.3), 0 1px 3px 1px rgba(60, 64, 67, 0.15);\n",
              "    fill: var(--button-hover-fill-color);\n",
              "  }\n",
              "\n",
              "  .colab-df-quickchart-complete:disabled,\n",
              "  .colab-df-quickchart-complete:disabled:hover {\n",
              "    background-color: var(--disabled-bg-color);\n",
              "    fill: var(--disabled-fill-color);\n",
              "    box-shadow: none;\n",
              "  }\n",
              "\n",
              "  .colab-df-spinner {\n",
              "    border: 2px solid var(--fill-color);\n",
              "    border-color: transparent;\n",
              "    border-bottom-color: var(--fill-color);\n",
              "    animation:\n",
              "      spin 1s steps(1) infinite;\n",
              "  }\n",
              "\n",
              "  @keyframes spin {\n",
              "    0% {\n",
              "      border-color: transparent;\n",
              "      border-bottom-color: var(--fill-color);\n",
              "      border-left-color: var(--fill-color);\n",
              "    }\n",
              "    20% {\n",
              "      border-color: transparent;\n",
              "      border-left-color: var(--fill-color);\n",
              "      border-top-color: var(--fill-color);\n",
              "    }\n",
              "    30% {\n",
              "      border-color: transparent;\n",
              "      border-left-color: var(--fill-color);\n",
              "      border-top-color: var(--fill-color);\n",
              "      border-right-color: var(--fill-color);\n",
              "    }\n",
              "    40% {\n",
              "      border-color: transparent;\n",
              "      border-right-color: var(--fill-color);\n",
              "      border-top-color: var(--fill-color);\n",
              "    }\n",
              "    60% {\n",
              "      border-color: transparent;\n",
              "      border-right-color: var(--fill-color);\n",
              "    }\n",
              "    80% {\n",
              "      border-color: transparent;\n",
              "      border-right-color: var(--fill-color);\n",
              "      border-bottom-color: var(--fill-color);\n",
              "    }\n",
              "    90% {\n",
              "      border-color: transparent;\n",
              "      border-bottom-color: var(--fill-color);\n",
              "    }\n",
              "  }\n",
              "</style>\n",
              "\n",
              "  <script>\n",
              "    async function quickchart(key) {\n",
              "      const quickchartButtonEl =\n",
              "        document.querySelector('#' + key + ' button');\n",
              "      quickchartButtonEl.disabled = true;  // To prevent multiple clicks.\n",
              "      quickchartButtonEl.classList.add('colab-df-spinner');\n",
              "      try {\n",
              "        const charts = await google.colab.kernel.invokeFunction(\n",
              "            'suggestCharts', [key], {});\n",
              "      } catch (error) {\n",
              "        console.error('Error during call to suggestCharts:', error);\n",
              "      }\n",
              "      quickchartButtonEl.classList.remove('colab-df-spinner');\n",
              "      quickchartButtonEl.classList.add('colab-df-quickchart-complete');\n",
              "    }\n",
              "    (() => {\n",
              "      let quickchartButtonEl =\n",
              "        document.querySelector('#df-199fe244-52f7-4c8f-bdc3-9b83504457bd button');\n",
              "      quickchartButtonEl.style.display =\n",
              "        google.colab.kernel.accessAllowed ? 'block' : 'none';\n",
              "    })();\n",
              "  </script>\n",
              "</div>\n",
              "    </div>\n",
              "  </div>\n"
            ],
            "application/vnd.google.colaboratory.intrinsic+json": {
              "type": "dataframe",
              "summary": "{\n  \"name\": \"df\",\n  \"rows\": 8,\n  \"fields\": [\n    {\n      \"column\": \"DateCrawled\",\n      \"properties\": {\n        \"dtype\": \"date\",\n        \"min\": \"1970-01-01 00:00:00.000354365\",\n        \"max\": \"2016-04-07 14:36:58\",\n        \"num_unique_values\": 7,\n        \"samples\": [\n          \"354365\",\n          \"2016-03-21 12:58:09.520460544\",\n          \"2016-03-29 14:37:20\"\n        ],\n        \"semantic_type\": \"\",\n        \"description\": \"\"\n      }\n    },\n    {\n      \"column\": \"Price\",\n      \"properties\": {\n        \"dtype\": \"number\",\n        \"std\": 123469.97052827668,\n        \"min\": 0.0,\n        \"max\": 354365.0,\n        \"num_unique_values\": 8,\n        \"samples\": [\n          4416.679830118663,\n          6400.0,\n          354365.0\n        ],\n        \"semantic_type\": \"\",\n        \"description\": \"\"\n      }\n    },\n    {\n      \"column\": \"RegistrationYear\",\n      \"properties\": {\n        \"dtype\": \"number\",\n        \"std\": 124359.36508761292,\n        \"min\": 90.22846639444015,\n        \"max\": 354365.0,\n        \"num_unique_values\": 8,\n        \"samples\": [\n          2004.2344813963005,\n          2008.0,\n          354365.0\n        ],\n        \"semantic_type\": \"\",\n        \"description\": \"\"\n      }\n    },\n    {\n      \"column\": \"Power\",\n      \"properties\": {\n        \"dtype\": \"number\",\n        \"std\": 124440.57975366055,\n        \"min\": 0.0,\n        \"max\": 354365.0,\n        \"num_unique_values\": 8,\n        \"samples\": [\n          110.09381569850295,\n          143.0,\n          354365.0\n        ],\n        \"semantic_type\": \"\",\n        \"description\": \"\"\n      }\n    },\n    {\n      \"column\": \"Kilometer\",\n      \"properties\": {\n        \"dtype\": \"number\",\n        \"std\": 103659.52187766561,\n        \"min\": 5000.0,\n        \"max\": 354365.0,\n        \"num_unique_values\": 6,\n        \"samples\": [\n          354365.0,\n          128211.36398910728,\n          37905.08385763643\n        ],\n        \"semantic_type\": \"\",\n        \"description\": \"\"\n      }\n    },\n    {\n      \"column\": \"RegistrationMonth\",\n      \"properties\": {\n        \"dtype\": \"number\",\n        \"std\": 125284.95523586743,\n        \"min\": 0.0,\n        \"max\": 354365.0,\n        \"num_unique_values\": 8,\n        \"samples\": [\n          5.7146501488578165,\n          9.0,\n          354365.0\n        ],\n        \"semantic_type\": \"\",\n        \"description\": \"\"\n      }\n    },\n    {\n      \"column\": \"DateCreated\",\n      \"properties\": {\n        \"dtype\": \"date\",\n        \"min\": \"1970-01-01 00:00:00.000354365\",\n        \"max\": \"2016-04-07 00:00:00\",\n        \"num_unique_values\": 7,\n        \"samples\": [\n          \"354365\",\n          \"2016-03-20 19:12:06.583042560\",\n          \"2016-03-29 00:00:00\"\n        ],\n        \"semantic_type\": \"\",\n        \"description\": \"\"\n      }\n    },\n    {\n      \"column\": \"NumberOfPictures\",\n      \"properties\": {\n        \"dtype\": \"number\",\n        \"std\": 125286.94725758546,\n        \"min\": 0.0,\n        \"max\": 354365.0,\n        \"num_unique_values\": 2,\n        \"samples\": [\n          0.0,\n          354365.0\n        ],\n        \"semantic_type\": \"\",\n        \"description\": \"\"\n      }\n    },\n    {\n      \"column\": \"PostalCode\",\n      \"properties\": {\n        \"dtype\": \"number\",\n        \"std\": 112751.16809488877,\n        \"min\": 1067.0,\n        \"max\": 354365.0,\n        \"num_unique_values\": 8,\n        \"samples\": [\n          50508.50379975449,\n          71083.0\n        ],\n        \"semantic_type\": \"\",\n        \"description\": \"\"\n      }\n    },\n    {\n      \"column\": \"LastSeen\",\n      \"properties\": {\n        \"dtype\": \"date\",\n        \"min\": \"1970-01-01 00:00:00.000354365\",\n        \"max\": \"2016-04-07 14:58:51\",\n        \"num_unique_values\": 7,\n        \"samples\": [\n          \"354365\",\n          \"2016-03-29 23:51:06.766184960\"\n        ],\n        \"semantic_type\": \"\",\n        \"description\": \"\"\n      }\n    }\n  ]\n}"
            }
          },
          "metadata": {},
          "execution_count": 72
        }
      ],
      "source": [
        "df.describe()"
      ]
    },
    {
      "cell_type": "code",
      "execution_count": 73,
      "metadata": {
        "id": "E4wr6XhoDUVn"
      },
      "outputs": [],
      "source": [
        "df = df.drop('PostalCode', axis=1)"
      ]
    },
    {
      "cell_type": "markdown",
      "metadata": {
        "id": "9rJR16SVDUVn"
      },
      "source": [
        "Удалили столбей PostalCode, так как он идентифицирует пользователя, а не товар, поэтому никак не влияет на цену."
      ]
    },
    {
      "cell_type": "code",
      "execution_count": 74,
      "metadata": {
        "colab": {
          "base_uri": "https://localhost:8080/",
          "height": 784
        },
        "id": "TfDxWRPNDUVo",
        "outputId": "e6690fb2-d197-4e9f-9e82-4051475c70a4"
      },
      "outputs": [
        {
          "output_type": "display_data",
          "data": {
            "text/plain": [
              "<Figure size 800x800 with 1 Axes>"
            ],
            "image/png": "[encoded data removed]"
          },
          "metadata": {}
        }
      ],
      "source": [
        "df['DateCrawled'].hist()\n",
        "plt.xlabel('Дата скачивания')\n",
        "plt.ylabel('Количество анкет')\n",
        "plt.title('Количество анкет в зависимости от даты скачивания')\n",
        "plt.xticks(rotation=90)\n",
        "plt.show();"
      ]
    },
    {
      "cell_type": "code",
      "execution_count": 75,
      "metadata": {
        "id": "cLIJZQSXDUVo"
      },
      "outputs": [],
      "source": [
        "df['DateCrawled'] = pd.to_datetime(df['DateCrawled']).dt.date"
      ]
    },
    {
      "cell_type": "markdown",
      "metadata": {
        "id": "rrRfK0LwDUVo"
      },
      "source": [
        "Добавили столбец только с датой по DateCrawled, рассмотрим сводную таблицу средних цен за каждый день."
      ]
    },
    {
      "cell_type": "code",
      "execution_count": 76,
      "metadata": {
        "colab": {
          "base_uri": "https://localhost:8080/",
          "height": 803
        },
        "id": "1bluwiLPDUVp",
        "outputId": "f0ff950a-46f9-4506-db82-89c36a9b3405"
      },
      "outputs": [
        {
          "output_type": "display_data",
          "data": {
            "text/plain": [
              "<Figure size 800x800 with 1 Axes>"
            ],
            "image/png": "[encoded data removed]"
          },
          "metadata": {}
        }
      ],
      "source": [
        "pd.pivot_table(df, values='Price', columns='DateCrawled', aggfunc='mean').plot(kind='bar')\n",
        "plt.xlabel('Дата скачавания')\n",
        "plt.ylabel('Средняя цена')\n",
        "plt.title('Средняя цена предложений в зависимости от дня скачивания')\n",
        "plt.show();"
      ]
    },
    {
      "cell_type": "markdown",
      "metadata": {
        "id": "Dj5deGVGDUVp"
      },
      "source": [
        "Из графика видно, что DateCrawled слабо влияет на итоговую цену автомобиля, если сравнивать по средним показателям за каждый день. Поэтому уберем столбец с полной датой чуть позже."
      ]
    },
    {
      "cell_type": "code",
      "execution_count": 77,
      "metadata": {
        "colab": {
          "base_uri": "https://localhost:8080/"
        },
        "id": "7yqBdJ44DUVp",
        "outputId": "6829f56a-3532-49de-a65a-0c7a1c84bd30"
      },
      "outputs": [
        {
          "output_type": "stream",
          "name": "stdout",
          "text": [
            "Index([2016, 2015, 2014], dtype='int32', name='DateCreated')\n",
            "Index([0], dtype='int32', name='DateCreated')\n",
            "Index([0], dtype='int32', name='DateCreated')\n"
          ]
        },
        {
          "output_type": "execute_result",
          "data": {
            "text/plain": [
              "Index([0], dtype='int32', name='DateCreated')"
            ]
          },
          "metadata": {},
          "execution_count": 77
        }
      ],
      "source": [
        "print(pd.DatetimeIndex(df['DateCreated']).year.unique())\n",
        "print(pd.DatetimeIndex(df['DateCreated']).hour.unique())\n",
        "print(pd.DatetimeIndex(df['DateCreated']).minute.unique())\n",
        "pd.DatetimeIndex(df['DateCreated']).second.unique()"
      ]
    },
    {
      "cell_type": "markdown",
      "metadata": {
        "id": "qvq3Xzx5DUVp"
      },
      "source": [
        "Представлены данные по анкетам за три года (DateCreated). От времени можем вообще избавиться."
      ]
    },
    {
      "cell_type": "code",
      "execution_count": 78,
      "metadata": {
        "id": "EqWG8v4FDUVq"
      },
      "outputs": [],
      "source": [
        "df['DateCreated'] = pd.to_datetime(df['DateCreated']).dt.date"
      ]
    },
    {
      "cell_type": "code",
      "execution_count": 79,
      "metadata": {
        "colab": {
          "base_uri": "https://localhost:8080/",
          "height": 738
        },
        "id": "udmnHN8pDUVq",
        "outputId": "34396461-7815-4ded-a5a5-54bd960f54f9"
      },
      "outputs": [
        {
          "output_type": "display_data",
          "data": {
            "text/plain": [
              "<Figure size 800x800 with 1 Axes>"
            ],
            "image/png": "[encoded data removed]"
          },
          "metadata": {}
        }
      ],
      "source": [
        "pd.pivot_table(df, values='Price', columns='DateCreated', aggfunc='median').plot(kind='bar', legend=False)\n",
        "plt.xlabel('Дата')\n",
        "plt.ylabel('Медиана')\n",
        "plt.title('Медианное значение цены в зависимости от дня создания')\n",
        "plt.show();"
      ]
    },
    {
      "cell_type": "markdown",
      "metadata": {
        "id": "UmkCRdbzDUVq"
      },
      "source": [
        "Видно, что цена от даты создания не зависит, нет общего тренда, кроме того модель будет слишком привязываться к этому признаку. Лучше всего будет от него избавиться."
      ]
    },
    {
      "cell_type": "code",
      "execution_count": 80,
      "metadata": {
        "id": "XD3JbdvEDUVs"
      },
      "outputs": [],
      "source": [
        "df = df.drop('DateCreated', axis=1)"
      ]
    },
    {
      "cell_type": "markdown",
      "metadata": {
        "id": "jtp9OGcgDUVs"
      },
      "source": [
        "Рассмотрим столбец с датой последней активности пользователя. Преобразуем его в столбец с датой."
      ]
    },
    {
      "cell_type": "code",
      "execution_count": 81,
      "metadata": {
        "id": "ZeAv9FRzDUVt"
      },
      "outputs": [],
      "source": [
        "df['LastSeen'] = pd.to_datetime(df['LastSeen']).dt.date"
      ]
    },
    {
      "cell_type": "code",
      "execution_count": 82,
      "metadata": {
        "colab": {
          "base_uri": "https://localhost:8080/"
        },
        "id": "xVhYUZanDUVt",
        "outputId": "70ae0ebe-cf2d-4bed-bde7-32e7e886d68c"
      },
      "outputs": [
        {
          "output_type": "execute_result",
          "data": {
            "text/plain": [
              "Index([2016], dtype='int32', name='LastSeen')"
            ]
          },
          "metadata": {},
          "execution_count": 82
        }
      ],
      "source": [
        "pd.DatetimeIndex(df['LastSeen']).year.unique()"
      ]
    },
    {
      "cell_type": "markdown",
      "metadata": {
        "id": "12K2cy1lDUVt"
      },
      "source": [
        "Все пользователи заходили на сайт в последний раз в 2016 году."
      ]
    },
    {
      "cell_type": "code",
      "execution_count": 83,
      "metadata": {
        "colab": {
          "base_uri": "https://localhost:8080/",
          "height": 803
        },
        "id": "H2TSQSfjDUVt",
        "outputId": "9d6a386c-cdfb-4195-b7a4-90e7a820c0bc"
      },
      "outputs": [
        {
          "output_type": "display_data",
          "data": {
            "text/plain": [
              "<Figure size 800x800 with 1 Axes>"
            ],
            "image/png": "[encoded data removed]"
          },
          "metadata": {}
        }
      ],
      "source": [
        "pd.pivot_table(df, values='Price', columns='LastSeen', aggfunc='mean').plot(kind='bar')\n",
        "plt.xlabel('Дата')\n",
        "plt.ylabel('Средняя цена')\n",
        "plt.title('Средняя цена в зависимости от даты последней активности пользователя')\n",
        "plt.show();"
      ]
    },
    {
      "cell_type": "markdown",
      "metadata": {
        "id": "IyMhCiOCDUVu"
      },
      "source": [
        "Видим, что средняя стоимость автомобилей пользователей сайта, которые заходили позднее других, выше. Оставим этот признак. Это может говорить о том, что более активные пользователи чаще отслеживают цену и повышают свою. Для этого создадим два новых столбца с днем и месяцем последней активности."
      ]
    },
    {
      "cell_type": "code",
      "execution_count": 84,
      "metadata": {
        "id": "1SUXk_IcDUVu"
      },
      "outputs": [],
      "source": [
        "df = df.drop('LastSeen', axis=1)"
      ]
    },
    {
      "cell_type": "code",
      "execution_count": 85,
      "metadata": {
        "colab": {
          "base_uri": "https://localhost:8080/"
        },
        "id": "gNIV4-_ADUVu",
        "outputId": "6dfba354-d846-4129-869d-b251fe26b5c8"
      },
      "outputs": [
        {
          "output_type": "execute_result",
          "data": {
            "text/plain": [
              "array([1993, 2011, 2004, 2001, 2008, 1995, 1980, 2014, 1998, 2005, 1910,\n",
              "       2016, 2007, 2009, 2002, 2018, 1997, 1990, 2017, 1981, 2003, 1994,\n",
              "       1991, 1984, 2006, 1999, 2012, 2010, 2000, 1992, 2013, 1996, 1985,\n",
              "       1989, 2015, 1982, 1976, 1983, 1973, 1111, 1969, 1971, 1987, 1986,\n",
              "       1988, 1970, 1965, 1945, 1925, 1974, 1979, 1955, 1978, 1972, 1968,\n",
              "       1977, 1961, 1960, 1966, 1975, 1963, 1964, 5000, 1954, 1958, 1967,\n",
              "       1959, 9999, 1956, 3200, 1000, 1941, 8888, 1500, 2200, 4100, 1962,\n",
              "       1929, 1957, 1940, 3000, 2066, 1949, 2019, 1937, 1951, 1800, 1953,\n",
              "       1234, 8000, 5300, 9000, 2900, 6000, 5900, 5911, 1933, 1400, 1950,\n",
              "       4000, 1948, 1952, 1200, 8500, 1932, 1255, 3700, 3800, 4800, 1942,\n",
              "       7000, 1935, 1936, 6500, 1923, 2290, 2500, 1930, 1001, 9450, 1944,\n",
              "       1943, 1934, 1938, 1688, 2800, 1253, 1928, 1919, 5555, 5600, 1600,\n",
              "       2222, 1039, 9996, 1300, 8455, 1931, 1915, 4500, 1920, 1602, 7800,\n",
              "       9229, 1947, 1927, 7100, 8200, 1946, 7500, 3500])"
            ]
          },
          "metadata": {},
          "execution_count": 85
        }
      ],
      "source": [
        "df['RegistrationYear'].unique()"
      ]
    },
    {
      "cell_type": "code",
      "execution_count": 86,
      "metadata": {
        "colab": {
          "base_uri": "https://localhost:8080/",
          "height": 699
        },
        "id": "whc7c2dgDUVv",
        "outputId": "5284610d-b3c1-4e96-cb90-1ce0f3f89a88"
      },
      "outputs": [
        {
          "output_type": "display_data",
          "data": {
            "text/plain": [
              "<Figure size 800x800 with 1 Axes>"
            ],
            "image/png": "[encoded data removed]"
          },
          "metadata": {}
        }
      ],
      "source": [
        "df.boxplot('RegistrationYear')\n",
        "plt.ylabel('Год регистрации автомобиля')\n",
        "plt.title('Boxplot \"RegistrationYear\" ')\n",
        "plt.show();"
      ]
    },
    {
      "cell_type": "code",
      "execution_count": 87,
      "metadata": {
        "id": "BfzzYhOoDUVv"
      },
      "outputs": [],
      "source": [
        "#Функция проверки, ставим флаг 1, если дата скачивания анкеты раньше, чем регистрация авто, это и есть аномалии\n",
        "def checking_date(raw):\n",
        "    if raw['DateCrawled'].year<raw['RegistrationYear']:\n",
        "        return 1\n",
        "    elif raw['DateCrawled'].year==raw['RegistrationYear']:\n",
        "        if raw['DateCrawled'].month<raw['RegistrationMonth']:\n",
        "            return 1\n",
        "    return 0"
      ]
    },
    {
      "cell_type": "code",
      "execution_count": 88,
      "metadata": {
        "scrolled": true,
        "id": "pwkR8J8jDUVw"
      },
      "outputs": [],
      "source": [
        "df['date_checking'] = df.apply(checking_date, axis=1)# столбец проверки"
      ]
    },
    {
      "cell_type": "code",
      "execution_count": 89,
      "metadata": {
        "colab": {
          "base_uri": "https://localhost:8080/"
        },
        "id": "FY3D57RoDUVw",
        "outputId": "051c43d3-318c-47cb-f1a9-e2367f344927"
      },
      "outputs": [
        {
          "output_type": "stream",
          "name": "stdout",
          "text": [
            "Количество аномалий: 5.58 %\n"
          ]
        }
      ],
      "source": [
        "print('Количество аномалий:', round(df.loc[df['date_checking']==1, 'Price'].count()/df.shape[0]*100, 2), '%')"
      ]
    },
    {
      "cell_type": "code",
      "execution_count": 90,
      "metadata": {
        "scrolled": true,
        "id": "bDvIMycPDUVw"
      },
      "outputs": [],
      "source": [
        "df = df[df['date_checking']==0]\n",
        "df = df[df['RegistrationYear']>1800]\n",
        "df = df.drop('date_checking', axis=1)"
      ]
    },
    {
      "cell_type": "markdown",
      "metadata": {
        "id": "9RxsdvJkDUVw"
      },
      "source": [
        "Видим, что есть строки с выбросами по году регистрации автомобиля как снизу, так и сверху. Например, дата регистрация может превосходить дату скачивания датафрейма. Удалим такие строки, так же сделаем ограничения снизу, автомобиль максимум может быть 1800-х годов."
      ]
    },
    {
      "cell_type": "code",
      "execution_count": 91,
      "metadata": {
        "scrolled": true,
        "colab": {
          "base_uri": "https://localhost:8080/"
        },
        "id": "bhkyWgRIDUVx",
        "outputId": "47f64314-a513-434c-c670-79cada31dec1"
      },
      "outputs": [
        {
          "output_type": "execute_result",
          "data": {
            "text/plain": [
              "array([ 0,  5,  8,  6,  7, 10, 12, 11,  2,  3,  1,  4,  9])"
            ]
          },
          "metadata": {},
          "execution_count": 91
        }
      ],
      "source": [
        "df['RegistrationMonth'].unique()"
      ]
    },
    {
      "cell_type": "code",
      "execution_count": 92,
      "metadata": {
        "colab": {
          "base_uri": "https://localhost:8080/"
        },
        "id": "LcZDkKClDUVx",
        "outputId": "8e448f07-9bd0-4881-cb24-96b22ae41d69"
      },
      "outputs": [
        {
          "output_type": "stream",
          "name": "stdout",
          "text": [
            "\"0\" is Registration month: 10.05 %\n"
          ]
        }
      ],
      "source": [
        "print('\"0\" is Registration month:', round(df[df['RegistrationMonth']==0]['Price'].count()/df.shape[0]*100, 2), '%')"
      ]
    },
    {
      "cell_type": "code",
      "execution_count": 93,
      "metadata": {
        "id": "MM34Yl42DUVx"
      },
      "outputs": [],
      "source": [
        "df = df[df['RegistrationMonth']!=0]"
      ]
    },
    {
      "cell_type": "markdown",
      "metadata": {
        "id": "xcejlVMUDUVy"
      },
      "source": [
        "Месяц регистрации равен 0, возможно опечатка или проблема при преобразовании данных в этот признак. Удалим такие строчки."
      ]
    },
    {
      "cell_type": "code",
      "execution_count": 94,
      "metadata": {
        "colab": {
          "base_uri": "https://localhost:8080/",
          "height": 738
        },
        "id": "EzeR_M-qDUVy",
        "outputId": "d5522046-b8f7-4a54-d985-d532e34832f7"
      },
      "outputs": [
        {
          "output_type": "display_data",
          "data": {
            "text/plain": [
              "<Figure size 800x800 with 1 Axes>"
            ],
            "image/png": "[encoded data removed]"
          },
          "metadata": {}
        }
      ],
      "source": [
        "pd.pivot_table(df, values='Price', columns='RegistrationMonth', aggfunc='median').plot(kind='bar')\n",
        "plt.xlabel('Месяц регистрации')\n",
        "plt.ylabel('Цена')\n",
        "plt.title('Медианная цена в зависимости от месяца регистрации')\n",
        "plt.show();"
      ]
    },
    {
      "cell_type": "markdown",
      "metadata": {
        "id": "GnBUPIpiDUVy"
      },
      "source": [
        "Видно, что данный признак не сильно влияет на стоимость. Можно его убрать, чтобы уменьшить время обучения модели."
      ]
    },
    {
      "cell_type": "code",
      "execution_count": 95,
      "metadata": {
        "id": "FvIDkbFfDUVz"
      },
      "outputs": [],
      "source": [
        "df = df.drop('RegistrationMonth', axis=1)\n",
        "df = df.drop('DateCrawled', axis=1)"
      ]
    },
    {
      "cell_type": "code",
      "execution_count": 96,
      "metadata": {
        "colab": {
          "base_uri": "https://localhost:8080/",
          "height": 699
        },
        "id": "fCzm9qeUDUVz",
        "outputId": "d460b21b-ce2e-4c18-f1d5-85a62749ffd5"
      },
      "outputs": [
        {
          "output_type": "display_data",
          "data": {
            "text/plain": [
              "<Figure size 800x800 with 1 Axes>"
            ],
            "image/png": "[encoded data removed]"
          },
          "metadata": {}
        }
      ],
      "source": [
        "df.boxplot('Power')\n",
        "plt.ylabel('Мощность')\n",
        "plt.title('Boxplot \"Power\" ')\n",
        "plt.show();"
      ]
    },
    {
      "cell_type": "code",
      "execution_count": 97,
      "metadata": {
        "colab": {
          "base_uri": "https://localhost:8080/"
        },
        "id": "_mlOugPwDUVz",
        "outputId": "d455deaa-fbc6-4bc5-fe41-dde1ec16df88"
      },
      "outputs": [
        {
          "output_type": "stream",
          "name": "stdout",
          "text": [
            "Null power: 21727\n",
            ">2000 power: 90\n"
          ]
        }
      ],
      "source": [
        "print('Null power:', df[df['Power']<20]['Price'].count())\n",
        "print('>2000 power:', df[df['Power']>2000]['Price'].count())"
      ]
    },
    {
      "cell_type": "markdown",
      "metadata": {
        "id": "3N9gyOt2DUV0"
      },
      "source": [
        "Удалим строки с выбросами по мощности, ведь пока что автомобилей с более 2000 л.с. не существует. И нулевые мощности, то есть те, которые меньше 20(гузовые павозки)."
      ]
    },
    {
      "cell_type": "code",
      "execution_count": 98,
      "metadata": {
        "id": "ffquRM47DUV0"
      },
      "outputs": [],
      "source": [
        "df = df[df['Power']<=2000]\n",
        "df = df[df['Power']>20]"
      ]
    },
    {
      "cell_type": "code",
      "execution_count": 99,
      "metadata": {
        "colab": {
          "base_uri": "https://localhost:8080/"
        },
        "id": "iv6EBfD4DUV0",
        "outputId": "6712bf41-6063-431e-b9f6-fda4b3930dea"
      },
      "outputs": [
        {
          "output_type": "execute_result",
          "data": {
            "text/plain": [
              "array([  5000,  10000,  20000,  30000,  40000,  50000,  60000,  70000,\n",
              "        80000,  90000, 100000, 125000, 150000])"
            ]
          },
          "metadata": {},
          "execution_count": 99
        }
      ],
      "source": [
        "np.sort(df['Kilometer'].unique())"
      ]
    },
    {
      "cell_type": "code",
      "execution_count": 100,
      "metadata": {
        "colab": {
          "base_uri": "https://localhost:8080/",
          "height": 738
        },
        "id": "iibHGCBSDUV1",
        "outputId": "c5618139-ecb6-4baa-835b-7cf961f2391f"
      },
      "outputs": [
        {
          "output_type": "display_data",
          "data": {
            "text/plain": [
              "<Figure size 800x800 with 1 Axes>"
            ],
            "image/png": "[encoded data removed]"
          },
          "metadata": {}
        }
      ],
      "source": [
        "pd.pivot_table(df, values='Price', columns='Kilometer', aggfunc='median').plot(kind='bar')\n",
        "plt.xlabel('Пробег')\n",
        "plt.ylabel('Цена')\n",
        "plt.title('Медианная цена в зависимости от пробега')\n",
        "plt.show();"
      ]
    },
    {
      "cell_type": "markdown",
      "metadata": {
        "id": "nBBYZN8LDUV1"
      },
      "source": [
        "Создадим новый столбец с классификацией пробега."
      ]
    },
    {
      "cell_type": "code",
      "execution_count": 101,
      "metadata": {
        "id": "cnBAP-UMDUV1"
      },
      "outputs": [],
      "source": [
        "def km_class(raw):\n",
        "    if (raw['Kilometer']==5000) and (raw['Kilometer']==150000):\n",
        "        return 0\n",
        "    if (raw['Kilometer']==10000):\n",
        "        return 1\n",
        "    if (raw['Kilometer']>10000) and (raw['Kilometer']<80000):\n",
        "        return 2\n",
        "    else:\n",
        "        return 3"
      ]
    },
    {
      "cell_type": "code",
      "execution_count": 102,
      "metadata": {
        "id": "OB3LKj2DDUV2"
      },
      "outputs": [],
      "source": [
        "df['km_class'] = df.apply(km_class, axis=1)"
      ]
    },
    {
      "cell_type": "code",
      "execution_count": 103,
      "metadata": {
        "id": "iZ40cOqbDUV2"
      },
      "outputs": [],
      "source": [
        "df = df.drop('Kilometer', axis=1)"
      ]
    },
    {
      "cell_type": "markdown",
      "metadata": {
        "id": "TSUhqU11DUV2"
      },
      "source": [
        "В соответсвии с пробегом разделили на четыре класса(судя по графику сводной таблицы). Применили функцию km_class и создали новый столбец. Удалили столбец с пробегом.\n",
        "Видно, что медианные значения цены у автомобилей с пробегом 50000 и 150000 примерно одинаковые. Пробег в 10000 сильно влияет на цену. Оставшийся промежуток от 20000 км до 125000 км разделим поровну на два промежутка."
      ]
    },
    {
      "cell_type": "code",
      "execution_count": 104,
      "metadata": {
        "colab": {
          "base_uri": "https://localhost:8080/"
        },
        "id": "NI4kjR6iDUV3",
        "outputId": "aba0f6f3-ceec-44e8-f289-f894a5d7c17b"
      },
      "outputs": [
        {
          "output_type": "stream",
          "name": "stdout",
          "text": [
            "[0]\n"
          ]
        }
      ],
      "source": [
        "print(df['NumberOfPictures'].unique())\n",
        "df = df.drop('NumberOfPictures', axis=1)"
      ]
    },
    {
      "cell_type": "markdown",
      "metadata": {
        "id": "9Sz6uTAPDUV3"
      },
      "source": [
        "Неинформативный столбец с количеством картинок. Удалим его."
      ]
    },
    {
      "cell_type": "code",
      "execution_count": 105,
      "metadata": {
        "id": "kt5HQAGJDUV3"
      },
      "outputs": [],
      "source": [
        "df = df[df['Price']!=0]"
      ]
    },
    {
      "cell_type": "markdown",
      "metadata": {
        "id": "SemyuugKDUV4"
      },
      "source": [
        "Удалил объявления с нулевой ценой."
      ]
    },
    {
      "cell_type": "code",
      "execution_count": 106,
      "metadata": {
        "id": "uJCObHb0DUV4"
      },
      "outputs": [],
      "source": [
        "df = df.drop_duplicates(keep='first')"
      ]
    },
    {
      "cell_type": "markdown",
      "metadata": {
        "id": "n9IYFrumDUV4"
      },
      "source": [
        "В процессе обработки, могут появиться явные дубликаты. Уберал их."
      ]
    },
    {
      "cell_type": "code",
      "execution_count": 107,
      "metadata": {
        "colab": {
          "base_uri": "https://localhost:8080/"
        },
        "id": "llLxInmdDUV5",
        "outputId": "afc89489-a726-4e9d-ddd2-c65a30caebfa"
      },
      "outputs": [
        {
          "output_type": "stream",
          "name": "stdout",
          "text": [
            "<class 'pandas.core.frame.DataFrame'>\n",
            "Index: 231677 entries, 1 to 354368\n",
            "Data columns (total 10 columns):\n",
            " #   Column            Non-Null Count   Dtype \n",
            "---  ------            --------------   ----- \n",
            " 0   Price             231677 non-null  int64 \n",
            " 1   VehicleType       231677 non-null  object\n",
            " 2   RegistrationYear  231677 non-null  int64 \n",
            " 3   Gearbox           231677 non-null  object\n",
            " 4   Power             231677 non-null  int64 \n",
            " 5   Model             231677 non-null  object\n",
            " 6   FuelType          231677 non-null  object\n",
            " 7   Brand             231677 non-null  object\n",
            " 8   Repaired          231677 non-null  object\n",
            " 9   km_class          231677 non-null  int64 \n",
            "dtypes: int64(4), object(6)\n",
            "memory usage: 19.4+ MB\n"
          ]
        }
      ],
      "source": [
        "df.info()"
      ]
    },
    {
      "cell_type": "code",
      "execution_count": 108,
      "metadata": {
        "scrolled": true,
        "colab": {
          "base_uri": "https://localhost:8080/",
          "height": 206
        },
        "id": "jr2RgjKcDUV5",
        "outputId": "55ac62d2-ecce-4dca-96c4-e8695f791e5c"
      },
      "outputs": [
        {
          "output_type": "execute_result",
          "data": {
            "text/plain": [
              "   Price VehicleType  RegistrationYear Gearbox  Power    Model  FuelType  \\\n",
              "1  18300       coupe              2011  manual    190  Missing  gasoline   \n",
              "2   9800         suv              2004    auto    163    grand  gasoline   \n",
              "3   1500       small              2001  manual     75     golf    petrol   \n",
              "4   3600       small              2008  manual     69    fabia  gasoline   \n",
              "5    650       sedan              1995  manual    102      3er    petrol   \n",
              "\n",
              "        Brand Repaired  km_class  \n",
              "1        audi      yes         3  \n",
              "2        jeep  Missing         3  \n",
              "3  volkswagen       no         3  \n",
              "4       skoda       no         3  \n",
              "5         bmw      yes         3  "
            ],
            "text/html": [
              "\n",
              "  <div id=\"df-0ca3650d-8df6-40ae-bd78-7b4125f9f1c1\" class=\"colab-df-container\">\n",
              "    <div>\n",
              "<style scoped>\n",
              "    .dataframe tbody tr th:only-of-type {\n",
              "        vertical-align: middle;\n",
              "    }\n",
              "\n",
              "    .dataframe tbody tr th {\n",
              "        vertical-align: top;\n",
              "    }\n",
              "\n",
              "    .dataframe thead th {\n",
              "        text-align: right;\n",
              "    }\n",
              "</style>\n",
              "<table border=\"1\" class=\"dataframe\">\n",
              "  <thead>\n",
              "    <tr style=\"text-align: right;\">\n",
              "      <th></th>\n",
              "      <th>Price</th>\n",
              "      <th>VehicleType</th>\n",
              "      <th>RegistrationYear</th>\n",
              "      <th>Gearbox</th>\n",
              "      <th>Power</th>\n",
              "      <th>Model</th>\n",
              "      <th>FuelType</th>\n",
              "      <th>Brand</th>\n",
              "      <th>Repaired</th>\n",
              "      <th>km_class</th>\n",
              "    </tr>\n",
              "  </thead>\n",
              "  <tbody>\n",
              "    <tr>\n",
              "      <th>1</th>\n",
              "      <td>18300</td>\n",
              "      <td>coupe</td>\n",
              "      <td>2011</td>\n",
              "      <td>manual</td>\n",
              "      <td>190</td>\n",
              "      <td>Missing</td>\n",
              "      <td>gasoline</td>\n",
              "      <td>audi</td>\n",
              "      <td>yes</td>\n",
              "      <td>3</td>\n",
              "    </tr>\n",
              "    <tr>\n",
              "      <th>2</th>\n",
              "      <td>9800</td>\n",
              "      <td>suv</td>\n",
              "      <td>2004</td>\n",
              "      <td>auto</td>\n",
              "      <td>163</td>\n",
              "      <td>grand</td>\n",
              "      <td>gasoline</td>\n",
              "      <td>jeep</td>\n",
              "      <td>Missing</td>\n",
              "      <td>3</td>\n",
              "    </tr>\n",
              "    <tr>\n",
              "      <th>3</th>\n",
              "      <td>1500</td>\n",
              "      <td>small</td>\n",
              "      <td>2001</td>\n",
              "      <td>manual</td>\n",
              "      <td>75</td>\n",
              "      <td>golf</td>\n",
              "      <td>petrol</td>\n",
              "      <td>volkswagen</td>\n",
              "      <td>no</td>\n",
              "      <td>3</td>\n",
              "    </tr>\n",
              "    <tr>\n",
              "      <th>4</th>\n",
              "      <td>3600</td>\n",
              "      <td>small</td>\n",
              "      <td>2008</td>\n",
              "      <td>manual</td>\n",
              "      <td>69</td>\n",
              "      <td>fabia</td>\n",
              "      <td>gasoline</td>\n",
              "      <td>skoda</td>\n",
              "      <td>no</td>\n",
              "      <td>3</td>\n",
              "    </tr>\n",
              "    <tr>\n",
              "      <th>5</th>\n",
              "      <td>650</td>\n",
              "      <td>sedan</td>\n",
              "      <td>1995</td>\n",
              "      <td>manual</td>\n",
              "      <td>102</td>\n",
              "      <td>3er</td>\n",
              "      <td>petrol</td>\n",
              "      <td>bmw</td>\n",
              "      <td>yes</td>\n",
              "      <td>3</td>\n",
              "    </tr>\n",
              "  </tbody>\n",
              "</table>\n",
              "</div>\n",
              "    <div class=\"colab-df-buttons\">\n",
              "\n",
              "  <div class=\"colab-df-container\">\n",
              "    <button class=\"colab-df-convert\" onclick=\"convertToInteractive('df-0ca3650d-8df6-40ae-bd78-7b4125f9f1c1')\"\n",
              "            title=\"Convert this dataframe to an interactive table.\"\n",
              "            style=\"display:none;\">\n",
              "\n",
              "  <svg xmlns=\"http://www.w3.org/2000/svg\" height=\"24px\" viewBox=\"0 -960 960 960\">\n",
              "    <path d=\"M120-120v-720h720v720H120Zm60-500h600v-160H180v160Zm220 220h160v-160H400v160Zm0 220h160v-160H400v160ZM180-400h160v-160H180v160Zm440 0h160v-160H620v160ZM180-180h160v-160H180v160Zm440 0h160v-160H620v160Z\"/>\n",
              "  </svg>\n",
              "    </button>\n",
              "\n",
              "  <style>\n",
              "    .colab-df-container {\n",
              "      display:flex;\n",
              "      gap: 12px;\n",
              "    }\n",
              "\n",
              "    .colab-df-convert {\n",
              "      background-color: #E8F0FE;\n",
              "      border: none;\n",
              "      border-radius: 50%;\n",
              "      cursor: pointer;\n",
              "      display: none;\n",
              "      fill: #1967D2;\n",
              "      height: 32px;\n",
              "      padding: 0 0 0 0;\n",
              "      width: 32px;\n",
              "    }\n",
              "\n",
              "    .colab-df-convert:hover {\n",
              "      background-color: #E2EBFA;\n",
              "      box-shadow: 0px 1px 2px rgba(60, 64, 67, 0.3), 0px 1px 3px 1px rgba(60, 64, 67, 0.15);\n",
              "      fill: #174EA6;\n",
              "    }\n",
              "\n",
              "    .colab-df-buttons div {\n",
              "      margin-bottom: 4px;\n",
              "    }\n",
              "\n",
              "    [theme=dark] .colab-df-convert {\n",
              "      background-color: #3B4455;\n",
              "      fill: #D2E3FC;\n",
              "    }\n",
              "\n",
              "    [theme=dark] .colab-df-convert:hover {\n",
              "      background-color: #434B5C;\n",
              "      box-shadow: 0px 1px 3px 1px rgba(0, 0, 0, 0.15);\n",
              "      filter: drop-shadow(0px 1px 2px rgba(0, 0, 0, 0.3));\n",
              "      fill: #FFFFFF;\n",
              "    }\n",
              "  </style>\n",
              "\n",
              "    <script>\n",
              "      const buttonEl =\n",
              "        document.querySelector('#df-0ca3650d-8df6-40ae-bd78-7b4125f9f1c1 button.colab-df-convert');\n",
              "      buttonEl.style.display =\n",
              "        google.colab.kernel.accessAllowed ? 'block' : 'none';\n",
              "\n",
              "      async function convertToInteractive(key) {\n",
              "        const element = document.querySelector('#df-0ca3650d-8df6-40ae-bd78-7b4125f9f1c1');\n",
              "        const dataTable =\n",
              "          await google.colab.kernel.invokeFunction('convertToInteractive',\n",
              "                                                    [key], {});\n",
              "        if (!dataTable) return;\n",
              "\n",
              "        const docLinkHtml = 'Like what you see? Visit the ' +\n",
              "          '<a target=\"_blank\" href=https://colab.research.google.com/notebooks/data_table.ipynb>data table notebook</a>'\n",
              "          + ' to learn more about interactive tables.';\n",
              "        element.innerHTML = '';\n",
              "        dataTable['output_type'] = 'display_data';\n",
              "        await google.colab.output.renderOutput(dataTable, element);\n",
              "        const docLink = document.createElement('div');\n",
              "        docLink.innerHTML = docLinkHtml;\n",
              "        element.appendChild(docLink);\n",
              "      }\n",
              "    </script>\n",
              "  </div>\n",
              "\n",
              "\n",
              "<div id=\"df-2b303068-f9d5-4d10-9557-0984debede16\">\n",
              "  <button class=\"colab-df-quickchart\" onclick=\"quickchart('df-2b303068-f9d5-4d10-9557-0984debede16')\"\n",
              "            title=\"Suggest charts\"\n",
              "            style=\"display:none;\">\n",
              "\n",
              "<svg xmlns=\"http://www.w3.org/2000/svg\" height=\"24px\"viewBox=\"0 0 24 24\"\n",
              "     width=\"24px\">\n",
              "    <g>\n",
              "        <path d=\"M19 3H5c-1.1 0-2 .9-2 2v14c0 1.1.9 2 2 2h14c1.1 0 2-.9 2-2V5c0-1.1-.9-2-2-2zM9 17H7v-7h2v7zm4 0h-2V7h2v10zm4 0h-2v-4h2v4z\"/>\n",
              "    </g>\n",
              "</svg>\n",
              "  </button>\n",
              "\n",
              "<style>\n",
              "  .colab-df-quickchart {\n",
              "      --bg-color: #E8F0FE;\n",
              "      --fill-color: #1967D2;\n",
              "      --hover-bg-color: #E2EBFA;\n",
              "      --hover-fill-color: #174EA6;\n",
              "      --disabled-fill-color: #AAA;\n",
              "      --disabled-bg-color: #DDD;\n",
              "  }\n",
              "\n",
              "  [theme=dark] .colab-df-quickchart {\n",
              "      --bg-color: #3B4455;\n",
              "      --fill-color: #D2E3FC;\n",
              "      --hover-bg-color: #434B5C;\n",
              "      --hover-fill-color: #FFFFFF;\n",
              "      --disabled-bg-color: #3B4455;\n",
              "      --disabled-fill-color: #666;\n",
              "  }\n",
              "\n",
              "  .colab-df-quickchart {\n",
              "    background-color: var(--bg-color);\n",
              "    border: none;\n",
              "    border-radius: 50%;\n",
              "    cursor: pointer;\n",
              "    display: none;\n",
              "    fill: var(--fill-color);\n",
              "    height: 32px;\n",
              "    padding: 0;\n",
              "    width: 32px;\n",
              "  }\n",
              "\n",
              "  .colab-df-quickchart:hover {\n",
              "    background-color: var(--hover-bg-color);\n",
              "    box-shadow: 0 1px 2px rgba(60, 64, 67, 0.3), 0 1px 3px 1px rgba(60, 64, 67, 0.15);\n",
              "    fill: var(--button-hover-fill-color);\n",
              "  }\n",
              "\n",
              "  .colab-df-quickchart-complete:disabled,\n",
              "  .colab-df-quickchart-complete:disabled:hover {\n",
              "    background-color: var(--disabled-bg-color);\n",
              "    fill: var(--disabled-fill-color);\n",
              "    box-shadow: none;\n",
              "  }\n",
              "\n",
              "  .colab-df-spinner {\n",
              "    border: 2px solid var(--fill-color);\n",
              "    border-color: transparent;\n",
              "    border-bottom-color: var(--fill-color);\n",
              "    animation:\n",
              "      spin 1s steps(1) infinite;\n",
              "  }\n",
              "\n",
              "  @keyframes spin {\n",
              "    0% {\n",
              "      border-color: transparent;\n",
              "      border-bottom-color: var(--fill-color);\n",
              "      border-left-color: var(--fill-color);\n",
              "    }\n",
              "    20% {\n",
              "      border-color: transparent;\n",
              "      border-left-color: var(--fill-color);\n",
              "      border-top-color: var(--fill-color);\n",
              "    }\n",
              "    30% {\n",
              "      border-color: transparent;\n",
              "      border-left-color: var(--fill-color);\n",
              "      border-top-color: var(--fill-color);\n",
              "      border-right-color: var(--fill-color);\n",
              "    }\n",
              "    40% {\n",
              "      border-color: transparent;\n",
              "      border-right-color: var(--fill-color);\n",
              "      border-top-color: var(--fill-color);\n",
              "    }\n",
              "    60% {\n",
              "      border-color: transparent;\n",
              "      border-right-color: var(--fill-color);\n",
              "    }\n",
              "    80% {\n",
              "      border-color: transparent;\n",
              "      border-right-color: var(--fill-color);\n",
              "      border-bottom-color: var(--fill-color);\n",
              "    }\n",
              "    90% {\n",
              "      border-color: transparent;\n",
              "      border-bottom-color: var(--fill-color);\n",
              "    }\n",
              "  }\n",
              "</style>\n",
              "\n",
              "  <script>\n",
              "    async function quickchart(key) {\n",
              "      const quickchartButtonEl =\n",
              "        document.querySelector('#' + key + ' button');\n",
              "      quickchartButtonEl.disabled = true;  // To prevent multiple clicks.\n",
              "      quickchartButtonEl.classList.add('colab-df-spinner');\n",
              "      try {\n",
              "        const charts = await google.colab.kernel.invokeFunction(\n",
              "            'suggestCharts', [key], {});\n",
              "      } catch (error) {\n",
              "        console.error('Error during call to suggestCharts:', error);\n",
              "      }\n",
              "      quickchartButtonEl.classList.remove('colab-df-spinner');\n",
              "      quickchartButtonEl.classList.add('colab-df-quickchart-complete');\n",
              "    }\n",
              "    (() => {\n",
              "      let quickchartButtonEl =\n",
              "        document.querySelector('#df-2b303068-f9d5-4d10-9557-0984debede16 button');\n",
              "      quickchartButtonEl.style.display =\n",
              "        google.colab.kernel.accessAllowed ? 'block' : 'none';\n",
              "    })();\n",
              "  </script>\n",
              "</div>\n",
              "    </div>\n",
              "  </div>\n"
            ],
            "application/vnd.google.colaboratory.intrinsic+json": {
              "type": "dataframe",
              "variable_name": "df"
            }
          },
          "metadata": {},
          "execution_count": 108
        }
      ],
      "source": [
        "df.head()"
      ]
    },
    {
      "cell_type": "code",
      "execution_count": 109,
      "metadata": {
        "id": "gEWEd4BNDUV6"
      },
      "outputs": [],
      "source": [
        "features = df.drop(['Price'], axis=1)# признаки\n",
        "target = df['Price']# целевой признак"
      ]
    },
    {
      "cell_type": "markdown",
      "metadata": {
        "id": "r5PvZYzDDUV7"
      },
      "source": [
        "## Подготовка данных к обучению"
      ]
    },
    {
      "cell_type": "code",
      "execution_count": 110,
      "metadata": {
        "id": "88AoLY6wDUV7"
      },
      "outputs": [],
      "source": [
        "st = 12345 #random state"
      ]
    },
    {
      "cell_type": "markdown",
      "metadata": {
        "id": "B0N7N8MBDUV7"
      },
      "source": [
        "Сплитуем данные на тренировочную, валидационную, тестовую 3:1:1"
      ]
    },
    {
      "cell_type": "code",
      "execution_count": 111,
      "metadata": {
        "id": "ni9bgPEfDUV8"
      },
      "outputs": [],
      "source": [
        "features_train, features_test, target_train_enc, target_test_enc = (\n",
        "    train_test_split(features, target, test_size=0.4, random_state=st))\n",
        "features_valid, features_test, target_valid_enc, target_test_enc = (\n",
        "    train_test_split(features_test, target_test_enc, test_size=0.5, random_state=st))"
      ]
    },
    {
      "cell_type": "code",
      "execution_count": 112,
      "metadata": {
        "scrolled": true,
        "id": "9-tZHcfLDUV8"
      },
      "outputs": [],
      "source": [
        "numeric=['RegistrationYear','Power', 'km_class'] #числовые признаки\n",
        "non_num_feat = ['VehicleType', 'Gearbox', 'Model', 'FuelType', 'Brand', #категориальные признаки\n",
        "                'Repaired']"
      ]
    },
    {
      "cell_type": "markdown",
      "metadata": {
        "id": "YIlTEYCNDUV8"
      },
      "source": [
        "Кодируем OrdinalEncoder для древесных и бустинговых моделей."
      ]
    },
    {
      "cell_type": "code",
      "execution_count": 113,
      "metadata": {
        "id": "8XVeTmgWDUV8"
      },
      "outputs": [],
      "source": [
        "enc = OrdinalEncoder()\n",
        "enc.fit(features[non_num_feat])\n",
        "features_train_enc = features_train.copy()\n",
        "features_valid_enc = features_valid.copy()\n",
        "features_test_enc = features_test.copy()\n",
        "features_train_enc[non_num_feat] = enc.transform(features_train[non_num_feat])\n",
        "features_valid_enc[non_num_feat] = enc.transform(features_valid[non_num_feat])\n",
        "features_test_enc[non_num_feat] = enc.transform(features_test[non_num_feat])"
      ]
    },
    {
      "cell_type": "markdown",
      "metadata": {
        "id": "ci4kUE0TDUV9"
      },
      "source": [
        "Кодируем OHE"
      ]
    },
    {
      "cell_type": "code",
      "execution_count": 114,
      "metadata": {
        "scrolled": true,
        "id": "okXspwLeDUV9"
      },
      "outputs": [],
      "source": [
        "features_train = features_train.reset_index()\n",
        "features_valid = features_valid.reset_index()\n",
        "features_test = features_test.reset_index()\n",
        "ohe = OneHotEncoder(drop='first')\n",
        "ohe.fit(features[non_num_feat])\n",
        "features_train_ohe = pd.DataFrame(ohe.transform(features_train[non_num_feat]).toarray(),\n",
        "             columns=ohe.get_feature_names_out())\n",
        "features_train_ohe = pd.concat([features_train_ohe,features_train[numeric]],\n",
        "                               axis=1)\n",
        "features_valid_ohe = pd.DataFrame(ohe.transform(features_valid[non_num_feat]).toarray(),\n",
        "             columns=ohe.get_feature_names_out())\n",
        "features_valid_ohe = pd.concat([features_valid_ohe,features_valid[numeric]],\n",
        "                               axis=1)\n",
        "features_test_ohe = pd.DataFrame(ohe.transform(features_test[non_num_feat]).toarray(),\n",
        "             columns=ohe.get_feature_names_out())\n",
        "features_test_ohe = pd.concat([features_test_ohe,features_test[numeric]],\n",
        "                               axis=1)"
      ]
    },
    {
      "cell_type": "code",
      "execution_count": 115,
      "metadata": {
        "colab": {
          "base_uri": "https://localhost:8080/"
        },
        "id": "NGteoLFCDUV9",
        "outputId": "763e07ce-440d-4187-9d09-7008c4e0b0f2"
      },
      "outputs": [
        {
          "output_type": "stream",
          "name": "stdout",
          "text": [
            "(139006, 310) (139006, 6)\n",
            "(46335, 310) (46335, 6)\n",
            "(46336, 310) (46336, 6)\n"
          ]
        }
      ],
      "source": [
        "print(features_train_ohe.shape, features_train[non_num_feat].shape)\n",
        "print(features_valid_ohe.shape, features_valid[non_num_feat].shape)\n",
        "print(features_test_ohe.shape, features_test[non_num_feat].shape)"
      ]
    },
    {
      "cell_type": "markdown",
      "metadata": {
        "id": "d-xbaMjlDUV-"
      },
      "source": [
        "## Обучение моделей"
      ]
    },
    {
      "cell_type": "markdown",
      "source": [
        "Для начала обучим константную модель и получим метрику на валидационной выборке,  чтобы было с чем сравнивать."
      ],
      "metadata": {
        "id": "8gdlapKMrrRo"
      }
    },
    {
      "cell_type": "code",
      "source": [
        "dum = DummyClassifier(random_state=st, strategy='most_frequent')\n",
        "dum.fit(features_train_enc, target_train_enc)\n",
        "print('dummy rmse:', mean_squared_error(target_valid_enc, dum.predict(features_valid_enc))**0.5)"
      ],
      "metadata": {
        "colab": {
          "base_uri": "https://localhost:8080/"
        },
        "id": "DuVub-ODrqsc",
        "outputId": "dcca7f67-8593-40d9-a840-07911e105759"
      },
      "execution_count": 131,
      "outputs": [
        {
          "output_type": "stream",
          "name": "stdout",
          "text": [
            "dummy rmse: 5968.794978458741\n"
          ]
        }
      ]
    },
    {
      "cell_type": "markdown",
      "metadata": {
        "id": "uXz0MrLjDUV-"
      },
      "source": [
        "Будем подбирать гиперпараметры с помощью валидационной выборки."
      ]
    },
    {
      "cell_type": "code",
      "execution_count": 116,
      "metadata": {
        "id": "HYu4rfz2DUV-"
      },
      "outputs": [],
      "source": [
        "t_l = [] #время обучения\n",
        "t_p = [] #время предсказания\n",
        "rmse = []\n",
        "model = ['GBM', 'Linear regression', 'CatBoost']"
      ]
    },
    {
      "cell_type": "markdown",
      "metadata": {
        "id": "o4f3SNNUDUV-"
      },
      "source": [
        "Обучим модель LightGBM."
      ]
    },
    {
      "cell_type": "code",
      "execution_count": 118,
      "metadata": {
        "colab": {
          "base_uri": "https://localhost:8080/"
        },
        "id": "W8jZIS8qDUV_",
        "outputId": "5caef032-f058-422e-f114-2040d0556278"
      },
      "outputs": [
        {
          "output_type": "stream",
          "name": "stdout",
          "text": [
            "[LightGBM] [Warning] feature_fraction is set=0.9, colsample_bytree=1.0 will be ignored. Current value: feature_fraction=0.9\n",
            "[LightGBM] [Warning] feature_fraction is set=0.9, colsample_bytree=1.0 will be ignored. Current value: feature_fraction=0.9\n",
            "[LightGBM] [Info] Auto-choosing row-wise multi-threading, the overhead of testing was 0.035826 seconds.\n",
            "You can set `force_row_wise=true` to remove the overhead.\n",
            "And if memory is not enough, you can set `force_col_wise=true`.\n",
            "[LightGBM] [Info] Total Bins 640\n",
            "[LightGBM] [Info] Number of data points in the train set: 139006, number of used features: 9\n",
            "[LightGBM] [Info] Start training from score 5165.104082\n",
            "[LightGBM] [Warning] feature_fraction is set=0.9, colsample_bytree=1.0 will be ignored. Current value: feature_fraction=0.9\n",
            "[LightGBM] [Warning] feature_fraction is set=0.9, colsample_bytree=1.0 will be ignored. Current value: feature_fraction=0.9\n",
            "[LightGBM] [Warning] feature_fraction is set=0.9, colsample_bytree=1.0 will be ignored. Current value: feature_fraction=0.9\n",
            "[LightGBM] [Info] Auto-choosing row-wise multi-threading, the overhead of testing was 0.011171 seconds.\n",
            "You can set `force_row_wise=true` to remove the overhead.\n",
            "And if memory is not enough, you can set `force_col_wise=true`.\n",
            "[LightGBM] [Info] Total Bins 640\n",
            "[LightGBM] [Info] Number of data points in the train set: 139006, number of used features: 9\n",
            "[LightGBM] [Info] Start training from score 5165.104082\n",
            "[LightGBM] [Warning] feature_fraction is set=0.9, colsample_bytree=1.0 will be ignored. Current value: feature_fraction=0.9\n",
            "[LightGBM] [Warning] feature_fraction is set=0.9, colsample_bytree=1.0 will be ignored. Current value: feature_fraction=0.9\n",
            "[LightGBM] [Warning] feature_fraction is set=0.9, colsample_bytree=1.0 will be ignored. Current value: feature_fraction=0.9\n",
            "[LightGBM] [Info] Auto-choosing col-wise multi-threading, the overhead of testing was 0.035352 seconds.\n",
            "You can set `force_col_wise=true` to remove the overhead.\n",
            "[LightGBM] [Info] Total Bins 640\n",
            "[LightGBM] [Info] Number of data points in the train set: 139006, number of used features: 9\n",
            "[LightGBM] [Info] Start training from score 5165.104082\n",
            "[LightGBM] [Warning] feature_fraction is set=0.9, colsample_bytree=1.0 will be ignored. Current value: feature_fraction=0.9\n",
            "[LightGBM] [Warning] feature_fraction is set=0.9, colsample_bytree=1.0 will be ignored. Current value: feature_fraction=0.9\n",
            "[LightGBM] [Warning] feature_fraction is set=0.9, colsample_bytree=1.0 will be ignored. Current value: feature_fraction=0.9\n",
            "[LightGBM] [Info] Auto-choosing row-wise multi-threading, the overhead of testing was 0.013007 seconds.\n",
            "You can set `force_row_wise=true` to remove the overhead.\n",
            "And if memory is not enough, you can set `force_col_wise=true`.\n",
            "[LightGBM] [Info] Total Bins 640\n",
            "[LightGBM] [Info] Number of data points in the train set: 139006, number of used features: 9\n",
            "[LightGBM] [Info] Start training from score 5165.104082\n",
            "[LightGBM] [Warning] feature_fraction is set=0.9, colsample_bytree=1.0 will be ignored. Current value: feature_fraction=0.9\n",
            "[LightGBM] [Warning] feature_fraction is set=0.9, colsample_bytree=1.0 will be ignored. Current value: feature_fraction=0.9\n",
            "[LightGBM] [Warning] feature_fraction is set=0.9, colsample_bytree=1.0 will be ignored. Current value: feature_fraction=0.9\n",
            "[LightGBM] [Info] Auto-choosing row-wise multi-threading, the overhead of testing was 0.015554 seconds.\n",
            "You can set `force_row_wise=true` to remove the overhead.\n",
            "And if memory is not enough, you can set `force_col_wise=true`.\n",
            "[LightGBM] [Info] Total Bins 640\n",
            "[LightGBM] [Info] Number of data points in the train set: 139006, number of used features: 9\n",
            "[LightGBM] [Info] Start training from score 5165.104082\n",
            "[LightGBM] [Warning] feature_fraction is set=0.9, colsample_bytree=1.0 will be ignored. Current value: feature_fraction=0.9\n",
            "[LightGBM] [Warning] feature_fraction is set=0.9, colsample_bytree=1.0 will be ignored. Current value: feature_fraction=0.9\n",
            "[LightGBM] [Warning] feature_fraction is set=0.9, colsample_bytree=1.0 will be ignored. Current value: feature_fraction=0.9\n",
            "[LightGBM] [Info] Auto-choosing col-wise multi-threading, the overhead of testing was 0.017919 seconds.\n",
            "You can set `force_col_wise=true` to remove the overhead.\n",
            "[LightGBM] [Info] Total Bins 640\n",
            "[LightGBM] [Info] Number of data points in the train set: 139006, number of used features: 9\n",
            "[LightGBM] [Info] Start training from score 5165.104082\n",
            "[LightGBM] [Warning] feature_fraction is set=0.9, colsample_bytree=1.0 will be ignored. Current value: feature_fraction=0.9\n",
            "[LightGBM] [Warning] feature_fraction is set=0.9, colsample_bytree=1.0 will be ignored. Current value: feature_fraction=0.9\n",
            "[LightGBM] [Warning] feature_fraction is set=0.9, colsample_bytree=1.0 will be ignored. Current value: feature_fraction=0.9\n",
            "[LightGBM] [Info] Auto-choosing col-wise multi-threading, the overhead of testing was 0.017145 seconds.\n",
            "You can set `force_col_wise=true` to remove the overhead.\n",
            "[LightGBM] [Info] Total Bins 640\n",
            "[LightGBM] [Info] Number of data points in the train set: 139006, number of used features: 9\n",
            "[LightGBM] [Info] Start training from score 5165.104082\n",
            "[LightGBM] [Warning] feature_fraction is set=0.9, colsample_bytree=1.0 will be ignored. Current value: feature_fraction=0.9\n",
            "[LightGBM] [Warning] feature_fraction is set=0.9, colsample_bytree=1.0 will be ignored. Current value: feature_fraction=0.9\n",
            "[LightGBM] [Warning] feature_fraction is set=0.9, colsample_bytree=1.0 will be ignored. Current value: feature_fraction=0.9\n",
            "[LightGBM] [Info] Auto-choosing col-wise multi-threading, the overhead of testing was 0.020770 seconds.\n",
            "You can set `force_col_wise=true` to remove the overhead.\n",
            "[LightGBM] [Info] Total Bins 640\n",
            "[LightGBM] [Info] Number of data points in the train set: 139006, number of used features: 9\n",
            "[LightGBM] [Info] Start training from score 5165.104082\n",
            "[LightGBM] [Warning] feature_fraction is set=0.9, colsample_bytree=1.0 will be ignored. Current value: feature_fraction=0.9\n",
            "[LightGBM] [Warning] feature_fraction is set=0.9, colsample_bytree=1.0 will be ignored. Current value: feature_fraction=0.9\n",
            "[LightGBM] [Warning] feature_fraction is set=0.9, colsample_bytree=1.0 will be ignored. Current value: feature_fraction=0.9\n",
            "[LightGBM] [Info] Auto-choosing col-wise multi-threading, the overhead of testing was 0.026958 seconds.\n",
            "You can set `force_col_wise=true` to remove the overhead.\n",
            "[LightGBM] [Info] Total Bins 640\n",
            "[LightGBM] [Info] Number of data points in the train set: 139006, number of used features: 9\n",
            "[LightGBM] [Info] Start training from score 5165.104082\n",
            "[LightGBM] [Warning] feature_fraction is set=0.9, colsample_bytree=1.0 will be ignored. Current value: feature_fraction=0.9\n",
            "best_params(n_l, depth): 30 18\n",
            "best_score: 1751.098254929075\n"
          ]
        }
      ],
      "source": [
        "sc = 1000000\n",
        "for n_l in [20, 25, 30]:\n",
        "    for depth in [15, 18, 20]:\n",
        "        gbm = LGBMRegressor(metric='rmse', num_leaves=n_l, max_depth=depth, learning_rate=0.05,\n",
        "                      feature_fraction=0.9, n_estimators=500, random_state=st)\n",
        "        gbm.fit(features_train_enc, target_train_enc)\n",
        "        rmse_val = mean_squared_error(target_valid_enc, gbm.predict(features_valid_enc))**0.5\n",
        "        if rmse_val<sc:\n",
        "            n_l_best = n_l\n",
        "            depth_best = depth\n",
        "            sc = rmse_val\n",
        "print(\"best_params(n_l, depth):\", n_l_best, depth_best)\n",
        "print('best_score:', sc)"
      ]
    },
    {
      "cell_type": "code",
      "execution_count": 120,
      "metadata": {
        "colab": {
          "base_uri": "https://localhost:8080/"
        },
        "id": "E7NWDJEaDUV_",
        "outputId": "bb9eeb07-5fa2-4b05-fb24-5fd50d511840"
      },
      "outputs": [
        {
          "output_type": "stream",
          "name": "stdout",
          "text": [
            "[LightGBM] [Warning] feature_fraction is set=0.9, colsample_bytree=1.0 will be ignored. Current value: feature_fraction=0.9\n",
            "[LightGBM] [Warning] feature_fraction is set=0.9, colsample_bytree=1.0 will be ignored. Current value: feature_fraction=0.9\n",
            "[LightGBM] [Info] Auto-choosing col-wise multi-threading, the overhead of testing was 0.047072 seconds.\n",
            "You can set `force_col_wise=true` to remove the overhead.\n",
            "[LightGBM] [Info] Total Bins 640\n",
            "[LightGBM] [Info] Number of data points in the train set: 139006, number of used features: 9\n",
            "[LightGBM] [Info] Start training from score 5165.104082\n",
            "Время обучения(мин): 0.2039870063463847\n",
            "[LightGBM] [Warning] feature_fraction is set=0.9, colsample_bytree=1.0 will be ignored. Current value: feature_fraction=0.9\n",
            "Время предсказания(мин): 0.026220873991648356\n",
            "Лучшая метрика: 1751.098254929075\n"
          ]
        }
      ],
      "source": [
        "gbm = LGBMRegressor(metric='rmse', num_leaves=n_l_best, max_depth=depth_best, learning_rate=0.05,\n",
        "                      feature_fraction=0.9, n_estimators=500, random_state=st)\n",
        "start = time()\n",
        "gbm.fit(features_train_enc, target_train_enc)\n",
        "end = time()\n",
        "gbm_time_l = (end-start)/60\n",
        "t_l.append(gbm_time_l)\n",
        "print('Время обучения(мин):', gbm_time_l)\n",
        "start = time()\n",
        "pred = gbm.predict(features_valid_enc)\n",
        "end = time()\n",
        "gbm_time_p = (end-start)/60\n",
        "t_p.append(gbm_time_p)\n",
        "print('Время предсказания(мин):', gbm_time_p)\n",
        "r = mean_squared_error(target_valid_enc, pred)**0.5\n",
        "rmse.append(r)\n",
        "print('Лучшая метрика:', r)"
      ]
    },
    {
      "cell_type": "markdown",
      "metadata": {
        "id": "2s0oiiVdDUWC"
      },
      "source": [
        "Обучим простую линейную регрессию."
      ]
    },
    {
      "cell_type": "code",
      "execution_count": 121,
      "metadata": {
        "colab": {
          "base_uri": "https://localhost:8080/"
        },
        "id": "wfK5UREVDUWC",
        "outputId": "da3963d3-ab81-436b-bc9a-091bf847cd09"
      },
      "outputs": [
        {
          "output_type": "stream",
          "name": "stdout",
          "text": [
            "Время обучения(мин): 0.08573081890741983\n",
            "Время предсказания(мин): 0.0015294194221496583\n",
            "Лучшая метрика: 2901.2228068807585\n"
          ]
        }
      ],
      "source": [
        "lr = LinearRegression()\n",
        "start = time()\n",
        "lr.fit(features_train_ohe, target_train_enc)\n",
        "end = time()\n",
        "lr_time_l = (end-start)/60\n",
        "t_l.append(lr_time_l)\n",
        "print('Время обучения(мин):', lr_time_l)\n",
        "start = time()\n",
        "lr_pred = lr.predict(features_valid_ohe)\n",
        "end = time()\n",
        "lr_time_p = (end-start)/60\n",
        "t_p.append(lr_time_p)\n",
        "print('Время предсказания(мин):', lr_time_p)\n",
        "rmse_val = mean_squared_error(target_valid_enc, lr_pred)**0.5\n",
        "rmse.append(rmse_val)\n",
        "print('Лучшая метрика:', rmse_val)"
      ]
    },
    {
      "cell_type": "markdown",
      "metadata": {
        "id": "9uP5AHkMDUWD"
      },
      "source": [
        "Обучим CatBoost."
      ]
    },
    {
      "cell_type": "code",
      "execution_count": 122,
      "metadata": {
        "colab": {
          "base_uri": "https://localhost:8080/"
        },
        "id": "sWJX00JBDUWD",
        "outputId": "0867f4e6-78df-4455-ff3e-245847b1ce06"
      },
      "outputs": [
        {
          "output_type": "stream",
          "name": "stdout",
          "text": [
            "best_params(n_e, depth): 550 13\n",
            "best_score: 1724.1846616819164\n"
          ]
        }
      ],
      "source": [
        "sc = 1000000\n",
        "for n_e in [500, 550]:\n",
        "    for depth in [13, 16]:\n",
        "        cat = CatBoostRegressor(random_state=st, learning_rate=0.05, verbose=False,\n",
        "                                  depth=depth, n_estimators=n_e)\n",
        "        cat.fit(features_train_enc, target_train_enc)\n",
        "        rmse_val = mean_squared_error(target_valid_enc, cat.predict(features_valid_enc))**0.5\n",
        "        if rmse_val<sc:\n",
        "            n_e_best = n_e\n",
        "            depth_best = depth\n",
        "            sc = rmse_val\n",
        "print(\"best_params(n_e, depth):\", n_e_best, depth_best)\n",
        "print('best_score:', sc)"
      ]
    },
    {
      "cell_type": "code",
      "execution_count": 123,
      "metadata": {
        "scrolled": true,
        "colab": {
          "base_uri": "https://localhost:8080/"
        },
        "id": "D_stZteMDUWE",
        "outputId": "5fa595b8-ba3f-4513-ec59-3c81ce6f26b9"
      },
      "outputs": [
        {
          "output_type": "stream",
          "name": "stdout",
          "text": [
            "Время обучения(мин): 1.1798986236254374\n",
            "Время предсказания(мин): 0.0030609846115112306\n",
            "Лучшая метрика: 1724.1846616819164\n"
          ]
        }
      ],
      "source": [
        "cat = CatBoostRegressor(random_state=st, learning_rate=0.05, verbose=False,\n",
        "                                  depth=depth_best, n_estimators=n_e_best)\n",
        "start = time()\n",
        "cat.fit(features_train_enc, target_train_enc)\n",
        "end = time()\n",
        "cat_time_l = (end-start)/60\n",
        "print('Время обучения(мин):', cat_time_l)\n",
        "t_l.append(cat_time_l)\n",
        "start = time()\n",
        "pred = cat.predict(features_valid_enc)\n",
        "end = time()\n",
        "cat_time_p = (end-start)/60\n",
        "print('Время предсказания(мин):', cat_time_p)\n",
        "t_p.append(cat_time_p)\n",
        "r = mean_squared_error(target_valid_enc, pred)**0.5\n",
        "rmse.append(r)\n",
        "print('Лучшая метрика:', r)"
      ]
    },
    {
      "cell_type": "markdown",
      "metadata": {
        "id": "ysONgECYDUWE"
      },
      "source": [
        "Видим, что быстрее всех обучалась линейная регрессия. Модели, основанные на градиентном бустинге обучаются значительно дольше. По метрике"
      ]
    },
    {
      "cell_type": "markdown",
      "metadata": {
        "id": "M5xJKUTMDUWF"
      },
      "source": [
        "## Анализ моделей"
      ]
    },
    {
      "cell_type": "markdown",
      "metadata": {
        "id": "GtMEHWFZDUWF"
      },
      "source": [
        "Проверим качество моделей на тестовой выборке."
      ]
    },
    {
      "cell_type": "code",
      "execution_count": 124,
      "metadata": {
        "colab": {
          "base_uri": "https://localhost:8080/",
          "height": 143
        },
        "id": "zIAqntP-DUWF",
        "outputId": "e60a8f25-3bbf-4b59-f079-73fd53dcd321"
      },
      "outputs": [
        {
          "output_type": "execute_result",
          "data": {
            "text/plain": [
              "              модель  время обучения  время предсказания         rmse\n",
              "0                GBM        0.203987            0.026221  1751.098255\n",
              "1  Linear regression        0.085731            0.001529  2901.222807\n",
              "2           CatBoost        1.179899            0.003061  1724.184662"
            ],
            "text/html": [
              "\n",
              "  <div id=\"df-5ab9357c-3e50-448d-8042-bf4cd78d9341\" class=\"colab-df-container\">\n",
              "    <div>\n",
              "<style scoped>\n",
              "    .dataframe tbody tr th:only-of-type {\n",
              "        vertical-align: middle;\n",
              "    }\n",
              "\n",
              "    .dataframe tbody tr th {\n",
              "        vertical-align: top;\n",
              "    }\n",
              "\n",
              "    .dataframe thead th {\n",
              "        text-align: right;\n",
              "    }\n",
              "</style>\n",
              "<table border=\"1\" class=\"dataframe\">\n",
              "  <thead>\n",
              "    <tr style=\"text-align: right;\">\n",
              "      <th></th>\n",
              "      <th>модель</th>\n",
              "      <th>время обучения</th>\n",
              "      <th>время предсказания</th>\n",
              "      <th>rmse</th>\n",
              "    </tr>\n",
              "  </thead>\n",
              "  <tbody>\n",
              "    <tr>\n",
              "      <th>0</th>\n",
              "      <td>GBM</td>\n",
              "      <td>0.203987</td>\n",
              "      <td>0.026221</td>\n",
              "      <td>1751.098255</td>\n",
              "    </tr>\n",
              "    <tr>\n",
              "      <th>1</th>\n",
              "      <td>Linear regression</td>\n",
              "      <td>0.085731</td>\n",
              "      <td>0.001529</td>\n",
              "      <td>2901.222807</td>\n",
              "    </tr>\n",
              "    <tr>\n",
              "      <th>2</th>\n",
              "      <td>CatBoost</td>\n",
              "      <td>1.179899</td>\n",
              "      <td>0.003061</td>\n",
              "      <td>1724.184662</td>\n",
              "    </tr>\n",
              "  </tbody>\n",
              "</table>\n",
              "</div>\n",
              "    <div class=\"colab-df-buttons\">\n",
              "\n",
              "  <div class=\"colab-df-container\">\n",
              "    <button class=\"colab-df-convert\" onclick=\"convertToInteractive('df-5ab9357c-3e50-448d-8042-bf4cd78d9341')\"\n",
              "            title=\"Convert this dataframe to an interactive table.\"\n",
              "            style=\"display:none;\">\n",
              "\n",
              "  <svg xmlns=\"http://www.w3.org/2000/svg\" height=\"24px\" viewBox=\"0 -960 960 960\">\n",
              "    <path d=\"M120-120v-720h720v720H120Zm60-500h600v-160H180v160Zm220 220h160v-160H400v160Zm0 220h160v-160H400v160ZM180-400h160v-160H180v160Zm440 0h160v-160H620v160ZM180-180h160v-160H180v160Zm440 0h160v-160H620v160Z\"/>\n",
              "  </svg>\n",
              "    </button>\n",
              "\n",
              "  <style>\n",
              "    .colab-df-container {\n",
              "      display:flex;\n",
              "      gap: 12px;\n",
              "    }\n",
              "\n",
              "    .colab-df-convert {\n",
              "      background-color: #E8F0FE;\n",
              "      border: none;\n",
              "      border-radius: 50%;\n",
              "      cursor: pointer;\n",
              "      display: none;\n",
              "      fill: #1967D2;\n",
              "      height: 32px;\n",
              "      padding: 0 0 0 0;\n",
              "      width: 32px;\n",
              "    }\n",
              "\n",
              "    .colab-df-convert:hover {\n",
              "      background-color: #E2EBFA;\n",
              "      box-shadow: 0px 1px 2px rgba(60, 64, 67, 0.3), 0px 1px 3px 1px rgba(60, 64, 67, 0.15);\n",
              "      fill: #174EA6;\n",
              "    }\n",
              "\n",
              "    .colab-df-buttons div {\n",
              "      margin-bottom: 4px;\n",
              "    }\n",
              "\n",
              "    [theme=dark] .colab-df-convert {\n",
              "      background-color: #3B4455;\n",
              "      fill: #D2E3FC;\n",
              "    }\n",
              "\n",
              "    [theme=dark] .colab-df-convert:hover {\n",
              "      background-color: #434B5C;\n",
              "      box-shadow: 0px 1px 3px 1px rgba(0, 0, 0, 0.15);\n",
              "      filter: drop-shadow(0px 1px 2px rgba(0, 0, 0, 0.3));\n",
              "      fill: #FFFFFF;\n",
              "    }\n",
              "  </style>\n",
              "\n",
              "    <script>\n",
              "      const buttonEl =\n",
              "        document.querySelector('#df-5ab9357c-3e50-448d-8042-bf4cd78d9341 button.colab-df-convert');\n",
              "      buttonEl.style.display =\n",
              "        google.colab.kernel.accessAllowed ? 'block' : 'none';\n",
              "\n",
              "      async function convertToInteractive(key) {\n",
              "        const element = document.querySelector('#df-5ab9357c-3e50-448d-8042-bf4cd78d9341');\n",
              "        const dataTable =\n",
              "          await google.colab.kernel.invokeFunction('convertToInteractive',\n",
              "                                                    [key], {});\n",
              "        if (!dataTable) return;\n",
              "\n",
              "        const docLinkHtml = 'Like what you see? Visit the ' +\n",
              "          '<a target=\"_blank\" href=https://colab.research.google.com/notebooks/data_table.ipynb>data table notebook</a>'\n",
              "          + ' to learn more about interactive tables.';\n",
              "        element.innerHTML = '';\n",
              "        dataTable['output_type'] = 'display_data';\n",
              "        await google.colab.output.renderOutput(dataTable, element);\n",
              "        const docLink = document.createElement('div');\n",
              "        docLink.innerHTML = docLinkHtml;\n",
              "        element.appendChild(docLink);\n",
              "      }\n",
              "    </script>\n",
              "  </div>\n",
              "\n",
              "\n",
              "<div id=\"df-2923efdd-e184-4800-bcdc-95dee7e72cd5\">\n",
              "  <button class=\"colab-df-quickchart\" onclick=\"quickchart('df-2923efdd-e184-4800-bcdc-95dee7e72cd5')\"\n",
              "            title=\"Suggest charts\"\n",
              "            style=\"display:none;\">\n",
              "\n",
              "<svg xmlns=\"http://www.w3.org/2000/svg\" height=\"24px\"viewBox=\"0 0 24 24\"\n",
              "     width=\"24px\">\n",
              "    <g>\n",
              "        <path d=\"M19 3H5c-1.1 0-2 .9-2 2v14c0 1.1.9 2 2 2h14c1.1 0 2-.9 2-2V5c0-1.1-.9-2-2-2zM9 17H7v-7h2v7zm4 0h-2V7h2v10zm4 0h-2v-4h2v4z\"/>\n",
              "    </g>\n",
              "</svg>\n",
              "  </button>\n",
              "\n",
              "<style>\n",
              "  .colab-df-quickchart {\n",
              "      --bg-color: #E8F0FE;\n",
              "      --fill-color: #1967D2;\n",
              "      --hover-bg-color: #E2EBFA;\n",
              "      --hover-fill-color: #174EA6;\n",
              "      --disabled-fill-color: #AAA;\n",
              "      --disabled-bg-color: #DDD;\n",
              "  }\n",
              "\n",
              "  [theme=dark] .colab-df-quickchart {\n",
              "      --bg-color: #3B4455;\n",
              "      --fill-color: #D2E3FC;\n",
              "      --hover-bg-color: #434B5C;\n",
              "      --hover-fill-color: #FFFFFF;\n",
              "      --disabled-bg-color: #3B4455;\n",
              "      --disabled-fill-color: #666;\n",
              "  }\n",
              "\n",
              "  .colab-df-quickchart {\n",
              "    background-color: var(--bg-color);\n",
              "    border: none;\n",
              "    border-radius: 50%;\n",
              "    cursor: pointer;\n",
              "    display: none;\n",
              "    fill: var(--fill-color);\n",
              "    height: 32px;\n",
              "    padding: 0;\n",
              "    width: 32px;\n",
              "  }\n",
              "\n",
              "  .colab-df-quickchart:hover {\n",
              "    background-color: var(--hover-bg-color);\n",
              "    box-shadow: 0 1px 2px rgba(60, 64, 67, 0.3), 0 1px 3px 1px rgba(60, 64, 67, 0.15);\n",
              "    fill: var(--button-hover-fill-color);\n",
              "  }\n",
              "\n",
              "  .colab-df-quickchart-complete:disabled,\n",
              "  .colab-df-quickchart-complete:disabled:hover {\n",
              "    background-color: var(--disabled-bg-color);\n",
              "    fill: var(--disabled-fill-color);\n",
              "    box-shadow: none;\n",
              "  }\n",
              "\n",
              "  .colab-df-spinner {\n",
              "    border: 2px solid var(--fill-color);\n",
              "    border-color: transparent;\n",
              "    border-bottom-color: var(--fill-color);\n",
              "    animation:\n",
              "      spin 1s steps(1) infinite;\n",
              "  }\n",
              "\n",
              "  @keyframes spin {\n",
              "    0% {\n",
              "      border-color: transparent;\n",
              "      border-bottom-color: var(--fill-color);\n",
              "      border-left-color: var(--fill-color);\n",
              "    }\n",
              "    20% {\n",
              "      border-color: transparent;\n",
              "      border-left-color: var(--fill-color);\n",
              "      border-top-color: var(--fill-color);\n",
              "    }\n",
              "    30% {\n",
              "      border-color: transparent;\n",
              "      border-left-color: var(--fill-color);\n",
              "      border-top-color: var(--fill-color);\n",
              "      border-right-color: var(--fill-color);\n",
              "    }\n",
              "    40% {\n",
              "      border-color: transparent;\n",
              "      border-right-color: var(--fill-color);\n",
              "      border-top-color: var(--fill-color);\n",
              "    }\n",
              "    60% {\n",
              "      border-color: transparent;\n",
              "      border-right-color: var(--fill-color);\n",
              "    }\n",
              "    80% {\n",
              "      border-color: transparent;\n",
              "      border-right-color: var(--fill-color);\n",
              "      border-bottom-color: var(--fill-color);\n",
              "    }\n",
              "    90% {\n",
              "      border-color: transparent;\n",
              "      border-bottom-color: var(--fill-color);\n",
              "    }\n",
              "  }\n",
              "</style>\n",
              "\n",
              "  <script>\n",
              "    async function quickchart(key) {\n",
              "      const quickchartButtonEl =\n",
              "        document.querySelector('#' + key + ' button');\n",
              "      quickchartButtonEl.disabled = true;  // To prevent multiple clicks.\n",
              "      quickchartButtonEl.classList.add('colab-df-spinner');\n",
              "      try {\n",
              "        const charts = await google.colab.kernel.invokeFunction(\n",
              "            'suggestCharts', [key], {});\n",
              "      } catch (error) {\n",
              "        console.error('Error during call to suggestCharts:', error);\n",
              "      }\n",
              "      quickchartButtonEl.classList.remove('colab-df-spinner');\n",
              "      quickchartButtonEl.classList.add('colab-df-quickchart-complete');\n",
              "    }\n",
              "    (() => {\n",
              "      let quickchartButtonEl =\n",
              "        document.querySelector('#df-2923efdd-e184-4800-bcdc-95dee7e72cd5 button');\n",
              "      quickchartButtonEl.style.display =\n",
              "        google.colab.kernel.accessAllowed ? 'block' : 'none';\n",
              "    })();\n",
              "  </script>\n",
              "</div>\n",
              "    </div>\n",
              "  </div>\n"
            ],
            "application/vnd.google.colaboratory.intrinsic+json": {
              "type": "dataframe",
              "variable_name": "comp_models",
              "summary": "{\n  \"name\": \"comp_models\",\n  \"rows\": 3,\n  \"fields\": [\n    {\n      \"column\": \"\\u043c\\u043e\\u0434\\u0435\\u043b\\u044c\",\n      \"properties\": {\n        \"dtype\": \"string\",\n        \"num_unique_values\": 3,\n        \"samples\": [\n          \"GBM\",\n          \"Linear regression\",\n          \"CatBoost\"\n        ],\n        \"semantic_type\": \"\",\n        \"description\": \"\"\n      }\n    },\n    {\n      \"column\": \"\\u0432\\u0440\\u0435\\u043c\\u044f \\u043e\\u0431\\u0443\\u0447\\u0435\\u043d\\u0438\\u044f\",\n      \"properties\": {\n        \"dtype\": \"number\",\n        \"std\": 0.6004985700079091,\n        \"min\": 0.08573081890741983,\n        \"max\": 1.1798986236254374,\n        \"num_unique_values\": 3,\n        \"samples\": [\n          0.2039870063463847,\n          0.08573081890741983,\n          1.1798986236254374\n        ],\n        \"semantic_type\": \"\",\n        \"description\": \"\"\n      }\n    },\n    {\n      \"column\": \"\\u0432\\u0440\\u0435\\u043c\\u044f \\u043f\\u0440\\u0435\\u0434\\u0441\\u043a\\u0430\\u0437\\u0430\\u043d\\u0438\\u044f\",\n      \"properties\": {\n        \"dtype\": \"number\",\n        \"std\": 0.013834703326460545,\n        \"min\": 0.0015294194221496583,\n        \"max\": 0.026220873991648356,\n        \"num_unique_values\": 3,\n        \"samples\": [\n          0.026220873991648356,\n          0.0015294194221496583,\n          0.0030609846115112306\n        ],\n        \"semantic_type\": \"\",\n        \"description\": \"\"\n      }\n    },\n    {\n      \"column\": \"rmse\",\n      \"properties\": {\n        \"dtype\": \"number\",\n        \"std\": 671.9287687640539,\n        \"min\": 1724.1846616819164,\n        \"max\": 2901.2228068807585,\n        \"num_unique_values\": 3,\n        \"samples\": [\n          1751.098254929075,\n          2901.2228068807585,\n          1724.1846616819164\n        ],\n        \"semantic_type\": \"\",\n        \"description\": \"\"\n      }\n    }\n  ]\n}"
            }
          },
          "metadata": {},
          "execution_count": 124
        }
      ],
      "source": [
        "d = {'модель': model,\n",
        "    'время обучения':t_l,\n",
        "    'время предсказания':t_p,\n",
        "    'rmse':rmse}\n",
        "comp_models = pd.DataFrame(data=d)\n",
        "comp_models.head()"
      ]
    },
    {
      "cell_type": "markdown",
      "metadata": {
        "id": "MGE-TNP7DUWF"
      },
      "source": [
        "Из результатов видно, что самая оптимальная модель по времени предсказания и качеству это CatBoost. Она обучается дольше, чем GBM, но зато быстрее предсказывает. Протестируем ее."
      ]
    },
    {
      "cell_type": "code",
      "execution_count": 125,
      "metadata": {
        "scrolled": true,
        "colab": {
          "base_uri": "https://localhost:8080/"
        },
        "id": "7orIfA2eDUWG",
        "outputId": "36600175-ef74-41fa-dbef-3723975f6bd9"
      },
      "outputs": [
        {
          "output_type": "stream",
          "name": "stdout",
          "text": [
            "time(min): 0.0028220812479654946\n",
            "rmse: 1682.7558240888611\n"
          ]
        }
      ],
      "source": [
        "st = time()\n",
        "pred_test_CAT = cat.predict(features_test_enc)\n",
        "end = time()\n",
        "print('time(min):', (end-st)/60)\n",
        "print('rmse:', mean_squared_error(target_test_enc, pred_test_CAT)**0.5)"
      ]
    },
    {
      "cell_type": "markdown",
      "metadata": {
        "id": "7CKvDfOZDUWH"
      },
      "source": [
        "## Вывод"
      ]
    },
    {
      "cell_type": "markdown",
      "metadata": {
        "id": "V2sU22ZSDUWH"
      },
      "source": [
        "Таким образом я\n",
        "* Обработал данные\n",
        "* Проанализировал признаки, добавил новые и избавился от ненужных\n",
        "* Обучил несколько моделей\n",
        "* Проанализировал результаты.\n",
        "\n",
        "Можно сделать вывод, что для конкретной задачи подойдет модель CatBoost. Она показала одну из лучших метрик качества. Модель обучается дольше, чем GBM, зато быстрее предсказывает. В конкретной задаче пользователи больше будут благодарны за быстродействие модели и качество."
      ]
    },
    {
      "cell_type": "markdown",
      "metadata": {
        "id": "RElriClPDUWK"
      },
      "source": [
        "<div style=\"border:solid Chocolate 2px; padding: 40px\">\n",
        "\n",
        "# Комментарий ревьюера: итоговый вывод по проекту.\n",
        "\n",
        "Роман, все замечания учтены - проект принят!\n",
        "    \n",
        "Спасибо за хорошую работу над проектом, желаю успехов в дальнейшем обучении:)"
      ]
    }
  ],
  "metadata": {
    "ExecuteTimeLog": [
      {
        "duration": 1157,
        "start_time": "2024-02-09T06:37:25.228Z"
      },
      {
        "duration": 17,
        "start_time": "2024-02-09T06:42:21.939Z"
      },
      {
        "duration": 10,
        "start_time": "2024-02-09T06:44:20.554Z"
      },
      {
        "duration": 8,
        "start_time": "2024-02-09T06:44:40.756Z"
      },
      {
        "duration": 3,
        "start_time": "2024-02-09T06:44:59.764Z"
      },
      {
        "duration": 1093,
        "start_time": "2024-02-09T06:45:56.207Z"
      },
      {
        "duration": 136,
        "start_time": "2024-02-09T06:49:25.232Z"
      },
      {
        "duration": 12,
        "start_time": "2024-02-09T06:49:39.095Z"
      },
      {
        "duration": 83,
        "start_time": "2024-02-09T06:49:42.693Z"
      },
      {
        "duration": 131,
        "start_time": "2024-02-09T06:50:32.736Z"
      },
      {
        "duration": 4,
        "start_time": "2024-02-09T06:51:18.023Z"
      },
      {
        "duration": 4,
        "start_time": "2024-02-09T06:52:08.998Z"
      },
      {
        "duration": 10,
        "start_time": "2024-02-09T06:56:57.702Z"
      },
      {
        "duration": 101,
        "start_time": "2024-02-09T06:57:20.071Z"
      },
      {
        "duration": 17,
        "start_time": "2024-02-09T06:57:29.522Z"
      },
      {
        "duration": 124,
        "start_time": "2024-02-09T06:57:38.060Z"
      },
      {
        "duration": 177,
        "start_time": "2024-02-09T07:00:22.841Z"
      },
      {
        "duration": 96,
        "start_time": "2024-02-09T07:00:24.355Z"
      },
      {
        "duration": 11,
        "start_time": "2024-02-09T07:04:30.223Z"
      },
      {
        "duration": 8,
        "start_time": "2024-02-09T07:06:24.089Z"
      },
      {
        "duration": 281,
        "start_time": "2024-02-09T07:06:32.265Z"
      },
      {
        "duration": 9,
        "start_time": "2024-02-09T07:07:25.271Z"
      },
      {
        "duration": 302,
        "start_time": "2024-02-09T07:08:10.071Z"
      },
      {
        "duration": 564,
        "start_time": "2024-02-09T07:08:17.877Z"
      },
      {
        "duration": 22,
        "start_time": "2024-02-09T07:09:25.405Z"
      },
      {
        "duration": 20,
        "start_time": "2024-02-09T07:09:49.107Z"
      },
      {
        "duration": 135,
        "start_time": "2024-02-09T07:14:04.742Z"
      },
      {
        "duration": 3,
        "start_time": "2024-02-09T07:19:01.068Z"
      },
      {
        "duration": 9,
        "start_time": "2024-02-09T07:20:20.532Z"
      },
      {
        "duration": 26,
        "start_time": "2024-02-09T07:21:20.702Z"
      },
      {
        "duration": 44,
        "start_time": "2024-02-09T07:22:02.941Z"
      },
      {
        "duration": 28,
        "start_time": "2024-02-09T07:22:42.378Z"
      },
      {
        "duration": 34,
        "start_time": "2024-02-09T07:23:09.881Z"
      },
      {
        "duration": 50,
        "start_time": "2024-02-09T07:23:44.614Z"
      },
      {
        "duration": 77,
        "start_time": "2024-02-09T07:24:48.135Z"
      },
      {
        "duration": 95,
        "start_time": "2024-02-09T07:30:16.596Z"
      },
      {
        "duration": 95,
        "start_time": "2024-02-09T07:30:25.989Z"
      },
      {
        "duration": 70,
        "start_time": "2024-02-09T07:37:52.437Z"
      },
      {
        "duration": 23,
        "start_time": "2024-02-09T07:37:56.034Z"
      },
      {
        "duration": 31,
        "start_time": "2024-02-09T07:38:05.925Z"
      },
      {
        "duration": 26,
        "start_time": "2024-02-09T07:38:10.348Z"
      },
      {
        "duration": 25,
        "start_time": "2024-02-09T07:38:14.636Z"
      },
      {
        "duration": 21,
        "start_time": "2024-02-09T07:38:19.092Z"
      },
      {
        "duration": 21,
        "start_time": "2024-02-09T07:38:24.091Z"
      },
      {
        "duration": 21,
        "start_time": "2024-02-09T07:38:42.391Z"
      },
      {
        "duration": 125,
        "start_time": "2024-02-09T07:41:51.334Z"
      },
      {
        "duration": 88,
        "start_time": "2024-02-09T07:42:03.027Z"
      },
      {
        "duration": 19,
        "start_time": "2024-02-09T07:51:27.779Z"
      },
      {
        "duration": 24,
        "start_time": "2024-02-09T08:02:29.120Z"
      },
      {
        "duration": 2339,
        "start_time": "2024-02-09T08:08:25.448Z"
      },
      {
        "duration": 2012,
        "start_time": "2024-02-09T08:09:04.551Z"
      },
      {
        "duration": 89,
        "start_time": "2024-02-09T08:50:57.041Z"
      },
      {
        "duration": 1759,
        "start_time": "2024-02-09T08:51:02.160Z"
      },
      {
        "duration": 288,
        "start_time": "2024-02-09T08:51:54.902Z"
      },
      {
        "duration": 1119,
        "start_time": "2024-02-09T17:42:30.301Z"
      },
      {
        "duration": 3027,
        "start_time": "2024-02-09T17:42:32.921Z"
      },
      {
        "duration": 157,
        "start_time": "2024-02-09T17:42:35.949Z"
      },
      {
        "duration": 304,
        "start_time": "2024-02-09T17:42:36.108Z"
      },
      {
        "duration": 126,
        "start_time": "2024-02-09T17:42:36.414Z"
      },
      {
        "duration": 328,
        "start_time": "2024-02-09T17:42:36.542Z"
      },
      {
        "duration": 679,
        "start_time": "2024-02-09T17:42:36.873Z"
      },
      {
        "duration": 131,
        "start_time": "2024-02-09T17:42:37.554Z"
      },
      {
        "duration": 108,
        "start_time": "2024-02-09T17:42:40.553Z"
      },
      {
        "duration": 140,
        "start_time": "2024-02-09T17:42:41.906Z"
      },
      {
        "duration": 101,
        "start_time": "2024-02-09T17:42:43.156Z"
      },
      {
        "duration": 22,
        "start_time": "2024-02-09T17:42:44.817Z"
      },
      {
        "duration": 94,
        "start_time": "2024-02-09T17:42:45.914Z"
      },
      {
        "duration": 827,
        "start_time": "2024-02-09T17:42:47.221Z"
      },
      {
        "duration": 773,
        "start_time": "2024-02-09T17:44:21.522Z"
      },
      {
        "duration": 129,
        "start_time": "2024-02-09T17:47:05.911Z"
      },
      {
        "duration": 185,
        "start_time": "2024-02-09T17:47:24.677Z"
      },
      {
        "duration": 51,
        "start_time": "2024-02-09T17:47:42.109Z"
      },
      {
        "duration": 474,
        "start_time": "2024-02-09T17:49:53.254Z"
      },
      {
        "duration": 50,
        "start_time": "2024-02-09T17:50:16.090Z"
      },
      {
        "duration": 51,
        "start_time": "2024-02-09T17:50:47.210Z"
      },
      {
        "duration": 117,
        "start_time": "2024-02-09T17:51:02.489Z"
      },
      {
        "duration": 15,
        "start_time": "2024-02-09T17:51:07.541Z"
      },
      {
        "duration": 62,
        "start_time": "2024-02-09T17:51:13.313Z"
      },
      {
        "duration": 530,
        "start_time": "2024-02-09T17:51:24.882Z"
      },
      {
        "duration": 470,
        "start_time": "2024-02-09T17:52:09.126Z"
      },
      {
        "duration": 594,
        "start_time": "2024-02-09T17:52:22.599Z"
      },
      {
        "duration": 565,
        "start_time": "2024-02-09T17:52:50.445Z"
      },
      {
        "duration": 12,
        "start_time": "2024-02-09T17:57:07.926Z"
      },
      {
        "duration": 31,
        "start_time": "2024-02-09T18:00:13.063Z"
      },
      {
        "duration": 37,
        "start_time": "2024-02-09T18:00:26.538Z"
      },
      {
        "duration": 38,
        "start_time": "2024-02-09T18:28:58.851Z"
      },
      {
        "duration": 123,
        "start_time": "2024-02-09T18:31:52.127Z"
      },
      {
        "duration": 38,
        "start_time": "2024-02-09T18:32:53.246Z"
      },
      {
        "duration": 327,
        "start_time": "2024-02-09T18:36:12.652Z"
      },
      {
        "duration": 221,
        "start_time": "2024-02-09T18:36:25.643Z"
      },
      {
        "duration": 218,
        "start_time": "2024-02-09T18:36:54.549Z"
      },
      {
        "duration": 430,
        "start_time": "2024-02-09T18:37:03.244Z"
      },
      {
        "duration": 36,
        "start_time": "2024-02-09T18:37:41.104Z"
      },
      {
        "duration": 9,
        "start_time": "2024-02-09T18:37:47.220Z"
      },
      {
        "duration": 37,
        "start_time": "2024-02-09T18:37:51.018Z"
      },
      {
        "duration": 132,
        "start_time": "2024-02-09T18:38:25.414Z"
      },
      {
        "duration": 133,
        "start_time": "2024-02-09T18:38:44.301Z"
      },
      {
        "duration": 124,
        "start_time": "2024-02-09T18:39:29.073Z"
      },
      {
        "duration": 604,
        "start_time": "2024-02-09T18:39:50.907Z"
      },
      {
        "duration": 2340,
        "start_time": "2024-02-09T18:40:08.972Z"
      },
      {
        "duration": 2335,
        "start_time": "2024-02-09T18:40:48.729Z"
      },
      {
        "duration": 45,
        "start_time": "2024-02-09T18:41:09.229Z"
      },
      {
        "duration": 2314,
        "start_time": "2024-02-09T18:41:42.318Z"
      },
      {
        "duration": 336,
        "start_time": "2024-02-09T18:43:09.418Z"
      },
      {
        "duration": 61,
        "start_time": "2024-02-09T18:43:33.223Z"
      },
      {
        "duration": 683,
        "start_time": "2024-02-09T18:44:12.014Z"
      },
      {
        "duration": 99,
        "start_time": "2024-02-09T18:45:49.699Z"
      },
      {
        "duration": 63,
        "start_time": "2024-02-09T18:46:02.205Z"
      },
      {
        "duration": 1960,
        "start_time": "2024-02-09T18:46:51.682Z"
      },
      {
        "duration": 1984,
        "start_time": "2024-02-09T18:47:21.552Z"
      },
      {
        "duration": 61,
        "start_time": "2024-02-09T18:52:30.867Z"
      },
      {
        "duration": 100,
        "start_time": "2024-02-09T18:54:08.659Z"
      },
      {
        "duration": 27,
        "start_time": "2024-02-09T18:58:14.762Z"
      },
      {
        "duration": 53,
        "start_time": "2024-02-09T18:58:21.254Z"
      },
      {
        "duration": 134,
        "start_time": "2024-02-09T18:58:24.214Z"
      },
      {
        "duration": 59,
        "start_time": "2024-02-09T19:02:08.210Z"
      },
      {
        "duration": 267,
        "start_time": "2024-02-09T19:04:27.881Z"
      },
      {
        "duration": 164,
        "start_time": "2024-02-09T19:05:40.942Z"
      },
      {
        "duration": 65,
        "start_time": "2024-02-09T19:06:43.655Z"
      },
      {
        "duration": 67,
        "start_time": "2024-02-09T19:06:49.519Z"
      },
      {
        "duration": 572,
        "start_time": "2024-02-09T19:07:11.915Z"
      },
      {
        "duration": 554,
        "start_time": "2024-02-09T19:07:22.097Z"
      },
      {
        "duration": 594,
        "start_time": "2024-02-09T19:07:29.441Z"
      },
      {
        "duration": 619,
        "start_time": "2024-02-09T19:07:38.992Z"
      },
      {
        "duration": 616,
        "start_time": "2024-02-09T19:09:52.292Z"
      },
      {
        "duration": 551,
        "start_time": "2024-02-09T19:10:07.084Z"
      },
      {
        "duration": 80,
        "start_time": "2024-02-09T19:12:06.737Z"
      },
      {
        "duration": 148,
        "start_time": "2024-02-09T19:16:29.828Z"
      },
      {
        "duration": 6,
        "start_time": "2024-02-09T19:17:15.319Z"
      },
      {
        "duration": 19,
        "start_time": "2024-02-09T19:18:21.649Z"
      },
      {
        "duration": 16,
        "start_time": "2024-02-09T19:18:36.859Z"
      },
      {
        "duration": 14,
        "start_time": "2024-02-09T19:18:45.997Z"
      },
      {
        "duration": 11,
        "start_time": "2024-02-09T19:19:02.626Z"
      },
      {
        "duration": 6,
        "start_time": "2024-02-09T19:19:10.249Z"
      },
      {
        "duration": 5,
        "start_time": "2024-02-09T19:19:16.329Z"
      },
      {
        "duration": 6,
        "start_time": "2024-02-09T19:19:25.370Z"
      },
      {
        "duration": 5,
        "start_time": "2024-02-09T19:19:33.967Z"
      },
      {
        "duration": 7,
        "start_time": "2024-02-09T19:19:49.902Z"
      },
      {
        "duration": 46,
        "start_time": "2024-02-09T19:21:41.288Z"
      },
      {
        "duration": 6,
        "start_time": "2024-02-09T19:21:46.003Z"
      },
      {
        "duration": 8,
        "start_time": "2024-02-09T19:23:16.329Z"
      },
      {
        "duration": 8,
        "start_time": "2024-02-09T19:23:37.937Z"
      },
      {
        "duration": 377,
        "start_time": "2024-02-09T19:24:02.601Z"
      },
      {
        "duration": 6,
        "start_time": "2024-02-09T19:25:47.786Z"
      },
      {
        "duration": 37,
        "start_time": "2024-02-09T19:28:22.462Z"
      },
      {
        "duration": 7,
        "start_time": "2024-02-09T19:29:09.159Z"
      },
      {
        "duration": 5,
        "start_time": "2024-02-09T19:29:33.137Z"
      },
      {
        "duration": 6,
        "start_time": "2024-02-09T19:29:43.918Z"
      },
      {
        "duration": 11,
        "start_time": "2024-02-09T19:29:53.390Z"
      },
      {
        "duration": 10,
        "start_time": "2024-02-09T19:29:57.544Z"
      },
      {
        "duration": 6,
        "start_time": "2024-02-09T19:30:03.835Z"
      },
      {
        "duration": 5,
        "start_time": "2024-02-09T19:30:22.240Z"
      },
      {
        "duration": 5,
        "start_time": "2024-02-09T19:30:31.344Z"
      },
      {
        "duration": 6,
        "start_time": "2024-02-09T19:31:15.391Z"
      },
      {
        "duration": 70,
        "start_time": "2024-02-09T19:32:38.719Z"
      },
      {
        "duration": 3,
        "start_time": "2024-02-09T19:40:10.465Z"
      },
      {
        "duration": 6241,
        "start_time": "2024-02-09T19:40:12.563Z"
      },
      {
        "duration": 15,
        "start_time": "2024-02-09T19:40:21.151Z"
      },
      {
        "duration": 330,
        "start_time": "2024-02-09T19:42:38.468Z"
      },
      {
        "duration": 29,
        "start_time": "2024-02-09T19:45:10.120Z"
      },
      {
        "duration": 5,
        "start_time": "2024-02-09T19:45:53.235Z"
      },
      {
        "duration": 44,
        "start_time": "2024-02-09T19:46:32.762Z"
      },
      {
        "duration": 5,
        "start_time": "2024-02-09T19:48:32.848Z"
      },
      {
        "duration": 29,
        "start_time": "2024-02-09T19:50:18.333Z"
      },
      {
        "duration": 359,
        "start_time": "2024-02-09T19:50:48.478Z"
      },
      {
        "duration": 321,
        "start_time": "2024-02-09T19:51:05.561Z"
      },
      {
        "duration": 331,
        "start_time": "2024-02-09T19:52:25.390Z"
      },
      {
        "duration": 133,
        "start_time": "2024-02-09T19:55:16.636Z"
      },
      {
        "duration": 26,
        "start_time": "2024-02-09T19:56:54.053Z"
      },
      {
        "duration": 128,
        "start_time": "2024-02-09T19:56:58.663Z"
      },
      {
        "duration": 27,
        "start_time": "2024-02-09T19:59:57.260Z"
      },
      {
        "duration": 134,
        "start_time": "2024-02-09T20:00:00.143Z"
      },
      {
        "duration": 24,
        "start_time": "2024-02-09T20:05:28.288Z"
      },
      {
        "duration": 198,
        "start_time": "2024-02-09T20:06:03.566Z"
      },
      {
        "duration": 4,
        "start_time": "2024-02-09T20:10:02.042Z"
      },
      {
        "duration": 2,
        "start_time": "2024-02-09T20:11:39.353Z"
      },
      {
        "duration": 132,
        "start_time": "2024-02-09T20:12:20.401Z"
      },
      {
        "duration": 4,
        "start_time": "2024-02-09T20:14:14.706Z"
      },
      {
        "duration": 1747,
        "start_time": "2024-02-09T20:16:50.425Z"
      },
      {
        "duration": 15,
        "start_time": "2024-02-09T20:16:56.713Z"
      },
      {
        "duration": 9,
        "start_time": "2024-02-09T20:17:49.321Z"
      },
      {
        "duration": 1806,
        "start_time": "2024-02-09T20:18:03.967Z"
      },
      {
        "duration": 21,
        "start_time": "2024-02-09T20:18:14.657Z"
      },
      {
        "duration": 92,
        "start_time": "2024-02-09T20:18:26.364Z"
      },
      {
        "duration": 4,
        "start_time": "2024-02-10T06:05:00.625Z"
      },
      {
        "duration": 874,
        "start_time": "2024-02-10T06:05:01.700Z"
      },
      {
        "duration": 157,
        "start_time": "2024-02-10T06:05:02.576Z"
      },
      {
        "duration": 275,
        "start_time": "2024-02-10T06:05:03.285Z"
      },
      {
        "duration": 106,
        "start_time": "2024-02-10T06:05:03.744Z"
      },
      {
        "duration": 281,
        "start_time": "2024-02-10T06:05:04.681Z"
      },
      {
        "duration": 571,
        "start_time": "2024-02-10T06:05:05.137Z"
      },
      {
        "duration": 133,
        "start_time": "2024-02-10T06:05:05.710Z"
      },
      {
        "duration": 101,
        "start_time": "2024-02-10T06:05:06.840Z"
      },
      {
        "duration": 140,
        "start_time": "2024-02-10T06:05:07.301Z"
      },
      {
        "duration": 103,
        "start_time": "2024-02-10T06:05:07.751Z"
      },
      {
        "duration": 90,
        "start_time": "2024-02-10T06:05:08.692Z"
      },
      {
        "duration": 20,
        "start_time": "2024-02-10T06:05:09.119Z"
      },
      {
        "duration": 37,
        "start_time": "2024-02-10T06:05:09.999Z"
      },
      {
        "duration": 310,
        "start_time": "2024-02-10T06:05:10.397Z"
      },
      {
        "duration": 119,
        "start_time": "2024-02-10T06:05:10.893Z"
      },
      {
        "duration": 47,
        "start_time": "2024-02-10T06:05:11.341Z"
      },
      {
        "duration": 575,
        "start_time": "2024-02-10T06:05:12.225Z"
      },
      {
        "duration": 135,
        "start_time": "2024-02-10T06:05:13.081Z"
      },
      {
        "duration": 132,
        "start_time": "2024-02-10T06:05:14.046Z"
      },
      {
        "duration": 575,
        "start_time": "2024-02-10T06:05:14.518Z"
      },
      {
        "duration": 99,
        "start_time": "2024-02-10T06:05:15.657Z"
      },
      {
        "duration": 86,
        "start_time": "2024-02-10T06:05:16.690Z"
      },
      {
        "duration": 1981,
        "start_time": "2024-02-10T06:05:17.203Z"
      },
      {
        "duration": 60,
        "start_time": "2024-02-10T06:05:20.794Z"
      },
      {
        "duration": 93,
        "start_time": "2024-02-10T06:05:22.072Z"
      },
      {
        "duration": 278,
        "start_time": "2024-02-10T06:05:23.044Z"
      },
      {
        "duration": 67,
        "start_time": "2024-02-10T06:05:23.559Z"
      },
      {
        "duration": 596,
        "start_time": "2024-02-10T06:05:24.096Z"
      },
      {
        "duration": 645,
        "start_time": "2024-02-10T06:05:25.112Z"
      },
      {
        "duration": 149,
        "start_time": "2024-02-10T06:05:26.129Z"
      },
      {
        "duration": 6,
        "start_time": "2024-02-10T06:05:26.659Z"
      },
      {
        "duration": 6,
        "start_time": "2024-02-10T06:05:27.218Z"
      },
      {
        "duration": 34,
        "start_time": "2024-02-10T06:05:28.242Z"
      },
      {
        "duration": 377,
        "start_time": "2024-02-10T06:05:28.824Z"
      },
      {
        "duration": 5,
        "start_time": "2024-02-10T06:05:29.535Z"
      },
      {
        "duration": 34,
        "start_time": "2024-02-10T06:05:30.627Z"
      },
      {
        "duration": 6,
        "start_time": "2024-02-10T06:05:31.152Z"
      },
      {
        "duration": 333,
        "start_time": "2024-02-10T06:05:31.735Z"
      },
      {
        "duration": 3,
        "start_time": "2024-02-10T06:05:33.010Z"
      },
      {
        "duration": 5054,
        "start_time": "2024-02-10T06:05:33.522Z"
      },
      {
        "duration": 37,
        "start_time": "2024-02-10T06:05:38.577Z"
      },
      {
        "duration": 7,
        "start_time": "2024-02-10T06:05:38.616Z"
      },
      {
        "duration": 55,
        "start_time": "2024-02-10T06:05:38.626Z"
      },
      {
        "duration": 341,
        "start_time": "2024-02-10T06:05:38.682Z"
      },
      {
        "duration": 37,
        "start_time": "2024-02-10T06:05:39.024Z"
      },
      {
        "duration": 25,
        "start_time": "2024-02-10T06:05:39.073Z"
      },
      {
        "duration": 26,
        "start_time": "2024-02-10T06:05:40.437Z"
      },
      {
        "duration": 147,
        "start_time": "2024-02-10T06:05:41.352Z"
      },
      {
        "duration": 20,
        "start_time": "2024-02-10T06:05:50.544Z"
      },
      {
        "duration": 132,
        "start_time": "2024-02-10T06:05:51.613Z"
      },
      {
        "duration": 1669,
        "start_time": "2024-02-10T06:05:52.350Z"
      },
      {
        "duration": 89,
        "start_time": "2024-02-10T06:05:54.021Z"
      },
      {
        "duration": 27,
        "start_time": "2024-02-10T06:18:11.428Z"
      },
      {
        "duration": 13,
        "start_time": "2024-02-10T06:25:02.497Z"
      },
      {
        "duration": 3,
        "start_time": "2024-02-10T06:25:10.798Z"
      },
      {
        "duration": 3,
        "start_time": "2024-02-10T06:32:44.822Z"
      },
      {
        "duration": 3,
        "start_time": "2024-02-10T06:34:48.536Z"
      },
      {
        "duration": 3,
        "start_time": "2024-02-10T06:35:44.735Z"
      },
      {
        "duration": 4595,
        "start_time": "2024-02-10T06:39:37.286Z"
      },
      {
        "duration": 420,
        "start_time": "2024-02-10T06:41:02.158Z"
      },
      {
        "duration": 5947,
        "start_time": "2024-02-10T06:41:18.831Z"
      },
      {
        "duration": 591,
        "start_time": "2024-02-10T06:41:32.183Z"
      },
      {
        "duration": 5791,
        "start_time": "2024-02-10T06:42:15.185Z"
      },
      {
        "duration": 517,
        "start_time": "2024-02-10T06:42:26.769Z"
      },
      {
        "duration": 24955,
        "start_time": "2024-02-10T06:44:11.824Z"
      },
      {
        "duration": 2283,
        "start_time": "2024-02-10T06:44:39.591Z"
      },
      {
        "duration": 535,
        "start_time": "2024-02-10T06:47:21.757Z"
      },
      {
        "duration": 9,
        "start_time": "2024-02-10T06:50:35.735Z"
      },
      {
        "duration": 1148,
        "start_time": "2024-02-12T15:30:52.601Z"
      },
      {
        "duration": 2826,
        "start_time": "2024-02-12T15:30:54.678Z"
      },
      {
        "duration": 137,
        "start_time": "2024-02-12T15:30:58.121Z"
      },
      {
        "duration": 267,
        "start_time": "2024-02-12T15:30:58.535Z"
      },
      {
        "duration": 104,
        "start_time": "2024-02-12T15:30:58.804Z"
      },
      {
        "duration": 283,
        "start_time": "2024-02-12T15:30:59.095Z"
      },
      {
        "duration": 593,
        "start_time": "2024-02-12T15:30:59.380Z"
      },
      {
        "duration": 114,
        "start_time": "2024-02-12T15:30:59.974Z"
      },
      {
        "duration": 101,
        "start_time": "2024-02-12T15:31:00.136Z"
      },
      {
        "duration": 124,
        "start_time": "2024-02-12T15:31:00.351Z"
      },
      {
        "duration": 90,
        "start_time": "2024-02-12T15:31:00.934Z"
      },
      {
        "duration": 83,
        "start_time": "2024-02-12T15:31:01.748Z"
      },
      {
        "duration": 24,
        "start_time": "2024-02-12T15:31:01.992Z"
      },
      {
        "duration": 34,
        "start_time": "2024-02-12T15:31:02.676Z"
      },
      {
        "duration": 701,
        "start_time": "2024-02-12T15:31:02.944Z"
      },
      {
        "duration": 125,
        "start_time": "2024-02-12T15:31:03.647Z"
      },
      {
        "duration": 79,
        "start_time": "2024-02-12T15:31:04.290Z"
      },
      {
        "duration": 579,
        "start_time": "2024-02-12T15:31:05.571Z"
      },
      {
        "duration": 120,
        "start_time": "2024-02-12T15:31:07.927Z"
      },
      {
        "duration": 180,
        "start_time": "2024-02-12T15:31:09.574Z"
      },
      {
        "duration": 517,
        "start_time": "2024-02-12T15:31:12.039Z"
      },
      {
        "duration": 107,
        "start_time": "2024-02-12T15:31:12.558Z"
      },
      {
        "duration": 78,
        "start_time": "2024-02-12T15:31:13.059Z"
      },
      {
        "duration": 1811,
        "start_time": "2024-02-12T15:31:13.270Z"
      },
      {
        "duration": 60,
        "start_time": "2024-02-12T15:31:15.083Z"
      },
      {
        "duration": 125,
        "start_time": "2024-02-12T15:31:15.144Z"
      },
      {
        "duration": 144,
        "start_time": "2024-02-12T15:31:15.272Z"
      },
      {
        "duration": 109,
        "start_time": "2024-02-12T15:31:15.418Z"
      },
      {
        "duration": 553,
        "start_time": "2024-02-12T15:31:15.528Z"
      },
      {
        "duration": 612,
        "start_time": "2024-02-12T15:31:16.084Z"
      },
      {
        "duration": 138,
        "start_time": "2024-02-12T15:31:16.698Z"
      },
      {
        "duration": 7,
        "start_time": "2024-02-12T15:31:16.838Z"
      },
      {
        "duration": 6,
        "start_time": "2024-02-12T15:31:17.029Z"
      },
      {
        "duration": 46,
        "start_time": "2024-02-12T15:31:17.713Z"
      },
      {
        "duration": 334,
        "start_time": "2024-02-12T15:31:18.034Z"
      },
      {
        "duration": 6,
        "start_time": "2024-02-12T15:31:18.370Z"
      },
      {
        "duration": 42,
        "start_time": "2024-02-12T15:31:18.853Z"
      },
      {
        "duration": 5,
        "start_time": "2024-02-12T15:31:19.081Z"
      },
      {
        "duration": 315,
        "start_time": "2024-02-12T15:31:19.284Z"
      },
      {
        "duration": 4,
        "start_time": "2024-02-12T15:31:19.704Z"
      },
      {
        "duration": 4605,
        "start_time": "2024-02-12T15:31:19.944Z"
      },
      {
        "duration": 50,
        "start_time": "2024-02-12T15:31:24.550Z"
      },
      {
        "duration": 7,
        "start_time": "2024-02-12T15:31:24.602Z"
      },
      {
        "duration": 45,
        "start_time": "2024-02-12T15:31:24.611Z"
      },
      {
        "duration": 393,
        "start_time": "2024-02-12T15:31:24.658Z"
      },
      {
        "duration": 28,
        "start_time": "2024-02-12T15:31:25.053Z"
      },
      {
        "duration": 14,
        "start_time": "2024-02-12T15:31:25.082Z"
      },
      {
        "duration": 33,
        "start_time": "2024-02-12T15:31:25.098Z"
      },
      {
        "duration": 124,
        "start_time": "2024-02-12T15:31:27.354Z"
      },
      {
        "duration": 19,
        "start_time": "2024-02-12T15:31:27.565Z"
      },
      {
        "duration": 125,
        "start_time": "2024-02-12T15:31:28.067Z"
      },
      {
        "duration": 1592,
        "start_time": "2024-02-12T15:31:28.319Z"
      },
      {
        "duration": 71,
        "start_time": "2024-02-12T15:31:29.913Z"
      },
      {
        "duration": 3,
        "start_time": "2024-02-12T15:31:37.514Z"
      },
      {
        "duration": 2,
        "start_time": "2024-02-12T15:31:41.492Z"
      },
      {
        "duration": 19227,
        "start_time": "2024-02-12T15:31:54.278Z"
      },
      {
        "duration": 22567,
        "start_time": "2024-02-12T15:32:36.742Z"
      },
      {
        "duration": 2074,
        "start_time": "2024-02-12T15:33:12.845Z"
      },
      {
        "duration": 19604,
        "start_time": "2024-02-12T15:34:06.791Z"
      },
      {
        "duration": 2088,
        "start_time": "2024-02-12T15:34:52.725Z"
      },
      {
        "duration": 46,
        "start_time": "2024-02-12T15:40:22.826Z"
      },
      {
        "duration": 3,
        "start_time": "2024-02-12T15:41:00.962Z"
      },
      {
        "duration": 19892,
        "start_time": "2024-02-12T15:41:08.009Z"
      },
      {
        "duration": 4072,
        "start_time": "2024-02-12T15:41:30.858Z"
      },
      {
        "duration": 4043,
        "start_time": "2024-02-12T15:41:44.367Z"
      },
      {
        "duration": 20,
        "start_time": "2024-02-12T15:44:28.669Z"
      },
      {
        "duration": 106,
        "start_time": "2024-02-12T15:47:23.193Z"
      },
      {
        "duration": 3,
        "start_time": "2024-02-12T15:47:28.690Z"
      },
      {
        "duration": 3,
        "start_time": "2024-02-12T15:50:48.195Z"
      },
      {
        "duration": 29,
        "start_time": "2024-02-12T15:51:33.558Z"
      },
      {
        "duration": 3,
        "start_time": "2024-02-12T15:52:04.702Z"
      },
      {
        "duration": 51,
        "start_time": "2024-02-12T15:52:22.399Z"
      },
      {
        "duration": 13,
        "start_time": "2024-02-12T15:52:33.102Z"
      },
      {
        "duration": 2,
        "start_time": "2024-02-12T15:53:12.435Z"
      },
      {
        "duration": 8,
        "start_time": "2024-02-12T15:53:27.513Z"
      },
      {
        "duration": 3,
        "start_time": "2024-02-12T15:53:38.122Z"
      },
      {
        "duration": 9,
        "start_time": "2024-02-12T15:53:40.680Z"
      },
      {
        "duration": 169894,
        "start_time": "2024-02-12T15:54:24.011Z"
      },
      {
        "duration": 3,
        "start_time": "2024-02-12T15:57:16.569Z"
      },
      {
        "duration": 3,
        "start_time": "2024-02-12T15:57:17.512Z"
      },
      {
        "duration": 18688,
        "start_time": "2024-02-12T15:57:18.186Z"
      },
      {
        "duration": 564489,
        "start_time": "2024-02-12T15:57:44.869Z"
      },
      {
        "duration": 2,
        "start_time": "2024-02-12T16:07:23.804Z"
      },
      {
        "duration": 2,
        "start_time": "2024-02-12T16:07:25.382Z"
      },
      {
        "duration": 28219,
        "start_time": "2024-02-12T16:07:26.488Z"
      },
      {
        "duration": 101347,
        "start_time": "2024-02-12T16:10:15.148Z"
      },
      {
        "duration": 19086,
        "start_time": "2024-02-12T16:11:57.768Z"
      },
      {
        "duration": 10,
        "start_time": "2024-02-12T16:12:31.019Z"
      },
      {
        "duration": 2,
        "start_time": "2024-02-12T16:12:40.532Z"
      },
      {
        "duration": 10,
        "start_time": "2024-02-12T16:12:46.284Z"
      },
      {
        "duration": 194,
        "start_time": "2024-02-12T16:12:55.709Z"
      },
      {
        "duration": 229,
        "start_time": "2024-02-12T16:13:39.566Z"
      },
      {
        "duration": 170,
        "start_time": "2024-02-12T16:14:01.426Z"
      },
      {
        "duration": 212,
        "start_time": "2024-02-12T16:14:05.283Z"
      },
      {
        "duration": 199,
        "start_time": "2024-02-12T16:14:08.996Z"
      },
      {
        "duration": 50,
        "start_time": "2024-02-12T16:15:12.099Z"
      },
      {
        "duration": 4,
        "start_time": "2024-02-12T16:16:11.061Z"
      },
      {
        "duration": 123,
        "start_time": "2024-02-12T16:20:10.803Z"
      },
      {
        "duration": 56299,
        "start_time": "2024-02-12T16:20:24.232Z"
      },
      {
        "duration": 285145,
        "start_time": "2024-02-12T16:21:25.841Z"
      },
      {
        "duration": 558,
        "start_time": "2024-02-12T16:27:27.382Z"
      },
      {
        "duration": 14,
        "start_time": "2024-02-12T16:27:34.793Z"
      },
      {
        "duration": 1607,
        "start_time": "2024-02-13T10:20:00.535Z"
      },
      {
        "duration": 1393,
        "start_time": "2024-02-13T10:20:02.145Z"
      },
      {
        "duration": 191,
        "start_time": "2024-02-13T10:20:04.213Z"
      },
      {
        "duration": 351,
        "start_time": "2024-02-13T10:20:04.575Z"
      },
      {
        "duration": 123,
        "start_time": "2024-02-13T10:20:04.928Z"
      },
      {
        "duration": 391,
        "start_time": "2024-02-13T10:20:05.195Z"
      },
      {
        "duration": 765,
        "start_time": "2024-02-13T10:20:05.588Z"
      },
      {
        "duration": 157,
        "start_time": "2024-02-13T10:20:06.355Z"
      },
      {
        "duration": 122,
        "start_time": "2024-02-13T10:20:06.513Z"
      },
      {
        "duration": 172,
        "start_time": "2024-02-13T10:20:06.637Z"
      },
      {
        "duration": 117,
        "start_time": "2024-02-13T10:20:06.811Z"
      },
      {
        "duration": 120,
        "start_time": "2024-02-13T10:20:06.935Z"
      },
      {
        "duration": 28,
        "start_time": "2024-02-13T10:20:07.085Z"
      },
      {
        "duration": 46,
        "start_time": "2024-02-13T10:20:07.857Z"
      },
      {
        "duration": 836,
        "start_time": "2024-02-13T10:20:08.007Z"
      },
      {
        "duration": 234,
        "start_time": "2024-02-13T10:20:08.846Z"
      },
      {
        "duration": 93,
        "start_time": "2024-02-13T10:20:09.082Z"
      },
      {
        "duration": 696,
        "start_time": "2024-02-13T10:20:09.177Z"
      },
      {
        "duration": 160,
        "start_time": "2024-02-13T10:20:10.036Z"
      },
      {
        "duration": 146,
        "start_time": "2024-02-13T10:20:11.146Z"
      },
      {
        "duration": 691,
        "start_time": "2024-02-13T10:20:11.446Z"
      },
      {
        "duration": 136,
        "start_time": "2024-02-13T10:20:12.139Z"
      },
      {
        "duration": 107,
        "start_time": "2024-02-13T10:20:12.455Z"
      },
      {
        "duration": 2261,
        "start_time": "2024-02-13T10:20:12.825Z"
      },
      {
        "duration": 80,
        "start_time": "2024-02-13T10:20:15.088Z"
      },
      {
        "duration": 114,
        "start_time": "2024-02-13T10:20:15.170Z"
      },
      {
        "duration": 137,
        "start_time": "2024-02-13T10:20:15.286Z"
      },
      {
        "duration": 78,
        "start_time": "2024-02-13T10:20:15.425Z"
      },
      {
        "duration": 722,
        "start_time": "2024-02-13T10:20:15.518Z"
      },
      {
        "duration": 730,
        "start_time": "2024-02-13T10:20:16.316Z"
      },
      {
        "duration": 185,
        "start_time": "2024-02-13T10:20:17.048Z"
      },
      {
        "duration": 7,
        "start_time": "2024-02-13T10:20:17.336Z"
      },
      {
        "duration": 9,
        "start_time": "2024-02-13T10:20:17.657Z"
      },
      {
        "duration": 48,
        "start_time": "2024-02-13T10:20:18.346Z"
      },
      {
        "duration": 526,
        "start_time": "2024-02-13T10:20:18.667Z"
      },
      {
        "duration": 7,
        "start_time": "2024-02-13T10:20:19.195Z"
      },
      {
        "duration": 54,
        "start_time": "2024-02-13T10:20:19.666Z"
      },
      {
        "duration": 6,
        "start_time": "2024-02-13T10:20:19.985Z"
      },
      {
        "duration": 392,
        "start_time": "2024-02-13T10:20:20.355Z"
      },
      {
        "duration": 3,
        "start_time": "2024-02-13T10:20:21.095Z"
      },
      {
        "duration": 6020,
        "start_time": "2024-02-13T10:20:21.427Z"
      },
      {
        "duration": 50,
        "start_time": "2024-02-13T10:20:27.450Z"
      },
      {
        "duration": 7,
        "start_time": "2024-02-13T10:20:27.501Z"
      },
      {
        "duration": 80,
        "start_time": "2024-02-13T10:20:27.510Z"
      },
      {
        "duration": 387,
        "start_time": "2024-02-13T10:20:30.916Z"
      },
      {
        "duration": 29,
        "start_time": "2024-02-13T10:20:32.025Z"
      },
      {
        "duration": 6,
        "start_time": "2024-02-13T10:20:32.398Z"
      },
      {
        "duration": 33,
        "start_time": "2024-02-13T10:20:32.936Z"
      },
      {
        "duration": 170,
        "start_time": "2024-02-13T10:20:33.237Z"
      },
      {
        "duration": 28,
        "start_time": "2024-02-13T10:20:33.445Z"
      },
      {
        "duration": 144,
        "start_time": "2024-02-13T10:20:33.695Z"
      },
      {
        "duration": 2004,
        "start_time": "2024-02-13T10:20:34.016Z"
      },
      {
        "duration": 69,
        "start_time": "2024-02-13T10:20:36.022Z"
      },
      {
        "duration": 3,
        "start_time": "2024-02-13T10:20:36.093Z"
      },
      {
        "duration": 3,
        "start_time": "2024-02-13T10:20:37.986Z"
      },
      {
        "duration": 165600,
        "start_time": "2024-02-13T10:20:38.676Z"
      },
      {
        "duration": 134,
        "start_time": "2024-02-13T10:25:09.347Z"
      },
      {
        "duration": 6,
        "start_time": "2024-02-13T10:25:16.257Z"
      },
      {
        "duration": 35,
        "start_time": "2024-02-13T10:25:20.671Z"
      },
      {
        "duration": 16,
        "start_time": "2024-02-13T10:25:25.897Z"
      },
      {
        "duration": 15,
        "start_time": "2024-02-13T10:25:33.298Z"
      },
      {
        "duration": 36,
        "start_time": "2024-02-13T10:26:34.088Z"
      },
      {
        "duration": 15,
        "start_time": "2024-02-13T10:26:39.175Z"
      },
      {
        "duration": 46,
        "start_time": "2024-02-13T10:26:45.045Z"
      },
      {
        "duration": 72,
        "start_time": "2024-02-13T10:26:48.987Z"
      },
      {
        "duration": 2,
        "start_time": "2024-02-13T10:27:48.286Z"
      },
      {
        "duration": 13,
        "start_time": "2024-02-13T10:28:16.934Z"
      },
      {
        "duration": 196,
        "start_time": "2024-02-13T10:28:26.487Z"
      },
      {
        "duration": 64,
        "start_time": "2024-02-13T10:28:41.295Z"
      },
      {
        "duration": 43,
        "start_time": "2024-02-13T10:28:51.254Z"
      },
      {
        "duration": 5095,
        "start_time": "2024-02-13T10:30:29.084Z"
      },
      {
        "duration": 25852,
        "start_time": "2024-02-13T10:43:05.119Z"
      },
      {
        "duration": 4619,
        "start_time": "2024-02-13T10:43:40.670Z"
      },
      {
        "duration": 327204,
        "start_time": "2024-02-13T10:43:54.401Z"
      },
      {
        "duration": 718,
        "start_time": "2024-02-13T10:49:33.049Z"
      },
      {
        "duration": 1435,
        "start_time": "2024-02-13T15:44:20.763Z"
      },
      {
        "duration": 1215,
        "start_time": "2024-02-13T15:45:05.989Z"
      },
      {
        "duration": 166,
        "start_time": "2024-02-13T15:45:11.462Z"
      },
      {
        "duration": 313,
        "start_time": "2024-02-13T15:45:16.033Z"
      },
      {
        "duration": 115,
        "start_time": "2024-02-13T15:45:18.887Z"
      },
      {
        "duration": 347,
        "start_time": "2024-02-13T15:45:20.878Z"
      },
      {
        "duration": 686,
        "start_time": "2024-02-13T15:45:22.017Z"
      },
      {
        "duration": 137,
        "start_time": "2024-02-13T15:45:33.165Z"
      },
      {
        "duration": 104,
        "start_time": "2024-02-13T15:45:48.644Z"
      },
      {
        "duration": 66,
        "start_time": "2024-02-13T15:45:50.414Z"
      },
      {
        "duration": 79,
        "start_time": "2024-02-13T15:46:20.131Z"
      },
      {
        "duration": 105,
        "start_time": "2024-02-13T15:46:23.921Z"
      },
      {
        "duration": 91,
        "start_time": "2024-02-13T15:46:29.080Z"
      },
      {
        "duration": 27,
        "start_time": "2024-02-13T15:46:34.543Z"
      },
      {
        "duration": 122,
        "start_time": "2024-02-13T15:47:37.922Z"
      },
      {
        "duration": 13,
        "start_time": "2024-02-13T15:48:01.484Z"
      },
      {
        "duration": 346,
        "start_time": "2024-02-13T15:48:52.238Z"
      },
      {
        "duration": 4,
        "start_time": "2024-02-13T15:49:02.490Z"
      },
      {
        "duration": 40,
        "start_time": "2024-02-13T15:49:10.105Z"
      },
      {
        "duration": 419,
        "start_time": "2024-02-13T15:49:14.249Z"
      },
      {
        "duration": 343,
        "start_time": "2024-02-13T15:53:27.818Z"
      },
      {
        "duration": 198,
        "start_time": "2024-02-13T15:53:45.714Z"
      },
      {
        "duration": 82,
        "start_time": "2024-02-13T15:53:47.736Z"
      },
      {
        "duration": 641,
        "start_time": "2024-02-13T15:56:57.849Z"
      },
      {
        "duration": 136,
        "start_time": "2024-02-13T15:57:11.708Z"
      },
      {
        "duration": 134,
        "start_time": "2024-02-13T15:57:17.644Z"
      },
      {
        "duration": 723,
        "start_time": "2024-02-13T15:57:54.872Z"
      },
      {
        "duration": 109,
        "start_time": "2024-02-13T15:58:03.089Z"
      },
      {
        "duration": 89,
        "start_time": "2024-02-13T15:58:04.980Z"
      },
      {
        "duration": 606,
        "start_time": "2024-02-13T16:00:16.407Z"
      },
      {
        "duration": 2003,
        "start_time": "2024-02-13T16:01:16.702Z"
      },
      {
        "duration": 62,
        "start_time": "2024-02-13T16:01:22.162Z"
      },
      {
        "duration": 95,
        "start_time": "2024-02-13T16:01:24.568Z"
      },
      {
        "duration": 222,
        "start_time": "2024-02-13T16:01:31.548Z"
      },
      {
        "duration": 69,
        "start_time": "2024-02-13T16:01:33.699Z"
      },
      {
        "duration": 701,
        "start_time": "2024-02-13T16:02:47.494Z"
      },
      {
        "duration": 658,
        "start_time": "2024-02-13T16:03:42.576Z"
      },
      {
        "duration": 158,
        "start_time": "2024-02-13T16:04:25.838Z"
      },
      {
        "duration": 6,
        "start_time": "2024-02-13T16:04:42.598Z"
      },
      {
        "duration": 6,
        "start_time": "2024-02-13T16:04:44.598Z"
      },
      {
        "duration": 47,
        "start_time": "2024-02-13T16:04:46.642Z"
      },
      {
        "duration": 7,
        "start_time": "2024-02-13T16:05:00.994Z"
      },
      {
        "duration": 86,
        "start_time": "2024-02-13T16:06:24.519Z"
      },
      {
        "duration": 7,
        "start_time": "2024-02-13T16:06:27.659Z"
      },
      {
        "duration": 23,
        "start_time": "2024-02-13T17:34:19.087Z"
      },
      {
        "duration": 44,
        "start_time": "2024-02-13T17:34:39.183Z"
      },
      {
        "duration": 17,
        "start_time": "2024-02-13T17:34:46.169Z"
      },
      {
        "duration": 26,
        "start_time": "2024-02-13T17:36:21.460Z"
      },
      {
        "duration": 18,
        "start_time": "2024-02-13T17:36:29.260Z"
      },
      {
        "duration": 22,
        "start_time": "2024-02-13T17:36:35.118Z"
      },
      {
        "duration": 19,
        "start_time": "2024-02-13T17:37:36.013Z"
      },
      {
        "duration": 19,
        "start_time": "2024-02-13T17:38:11.462Z"
      },
      {
        "duration": 70,
        "start_time": "2024-02-13T17:38:51.278Z"
      },
      {
        "duration": 7,
        "start_time": "2024-02-13T17:38:53.354Z"
      },
      {
        "duration": 372,
        "start_time": "2024-02-13T17:40:24.394Z"
      },
      {
        "duration": 4,
        "start_time": "2024-02-13T17:40:55.930Z"
      },
      {
        "duration": 869,
        "start_time": "2024-02-13T17:40:57.808Z"
      },
      {
        "duration": 185,
        "start_time": "2024-02-13T17:40:58.757Z"
      },
      {
        "duration": 226,
        "start_time": "2024-02-13T17:40:59.955Z"
      },
      {
        "duration": 108,
        "start_time": "2024-02-13T17:41:00.746Z"
      },
      {
        "duration": 281,
        "start_time": "2024-02-13T17:41:01.665Z"
      },
      {
        "duration": 589,
        "start_time": "2024-02-13T17:41:02.024Z"
      },
      {
        "duration": 135,
        "start_time": "2024-02-13T17:41:08.112Z"
      },
      {
        "duration": 101,
        "start_time": "2024-02-13T17:41:11.046Z"
      },
      {
        "duration": 63,
        "start_time": "2024-02-13T17:41:11.718Z"
      },
      {
        "duration": 82,
        "start_time": "2024-02-13T17:41:13.018Z"
      },
      {
        "duration": 97,
        "start_time": "2024-02-13T17:41:17.071Z"
      },
      {
        "duration": 92,
        "start_time": "2024-02-13T17:41:37.404Z"
      },
      {
        "duration": 21,
        "start_time": "2024-02-13T17:41:40.030Z"
      },
      {
        "duration": 37,
        "start_time": "2024-02-13T17:41:41.302Z"
      },
      {
        "duration": 330,
        "start_time": "2024-02-13T17:41:48.489Z"
      },
      {
        "duration": 113,
        "start_time": "2024-02-13T17:41:50.760Z"
      },
      {
        "duration": 57,
        "start_time": "2024-02-13T17:41:51.112Z"
      },
      {
        "duration": 580,
        "start_time": "2024-02-13T17:41:51.900Z"
      },
      {
        "duration": 135,
        "start_time": "2024-02-13T17:41:53.982Z"
      },
      {
        "duration": 127,
        "start_time": "2024-02-13T17:41:55.126Z"
      },
      {
        "duration": 691,
        "start_time": "2024-02-13T17:41:55.986Z"
      },
      {
        "duration": 98,
        "start_time": "2024-02-13T17:41:56.783Z"
      },
      {
        "duration": 89,
        "start_time": "2024-02-13T17:41:58.072Z"
      },
      {
        "duration": 2050,
        "start_time": "2024-02-13T17:41:59.795Z"
      },
      {
        "duration": 62,
        "start_time": "2024-02-13T17:42:01.847Z"
      },
      {
        "duration": 118,
        "start_time": "2024-02-13T17:42:01.924Z"
      },
      {
        "duration": 117,
        "start_time": "2024-02-13T17:42:03.000Z"
      },
      {
        "duration": 67,
        "start_time": "2024-02-13T17:42:03.171Z"
      },
      {
        "duration": 690,
        "start_time": "2024-02-13T17:42:03.633Z"
      },
      {
        "duration": 710,
        "start_time": "2024-02-13T17:42:07.019Z"
      },
      {
        "duration": 7,
        "start_time": "2024-02-13T17:42:14.223Z"
      },
      {
        "duration": 4,
        "start_time": "2024-02-13T18:04:55.409Z"
      },
      {
        "duration": 17,
        "start_time": "2024-02-13T18:05:31.086Z"
      },
      {
        "duration": 12,
        "start_time": "2024-02-13T18:06:53.392Z"
      },
      {
        "duration": 13,
        "start_time": "2024-02-13T18:07:21.734Z"
      },
      {
        "duration": 1309,
        "start_time": "2024-02-13T18:13:54.337Z"
      },
      {
        "duration": 4,
        "start_time": "2024-02-13T18:14:57.114Z"
      },
      {
        "duration": 186,
        "start_time": "2024-02-13T18:14:57.762Z"
      },
      {
        "duration": 4,
        "start_time": "2024-02-13T18:15:33.841Z"
      },
      {
        "duration": 128,
        "start_time": "2024-02-13T18:15:34.914Z"
      },
      {
        "duration": 3,
        "start_time": "2024-02-13T18:16:33.311Z"
      },
      {
        "duration": 136,
        "start_time": "2024-02-13T18:16:33.705Z"
      },
      {
        "duration": 3,
        "start_time": "2024-02-13T18:16:47.848Z"
      },
      {
        "duration": 5219,
        "start_time": "2024-02-13T18:16:48.338Z"
      },
      {
        "duration": 14,
        "start_time": "2024-02-13T18:17:00.679Z"
      },
      {
        "duration": 1291,
        "start_time": "2024-02-13T18:18:03.863Z"
      },
      {
        "duration": 37,
        "start_time": "2024-02-13T18:18:21.997Z"
      },
      {
        "duration": 31,
        "start_time": "2024-02-13T18:18:29.461Z"
      },
      {
        "duration": 6,
        "start_time": "2024-02-13T18:18:43.182Z"
      },
      {
        "duration": 6,
        "start_time": "2024-02-13T18:19:13.214Z"
      },
      {
        "duration": 6,
        "start_time": "2024-02-13T18:19:20.585Z"
      },
      {
        "duration": 75,
        "start_time": "2024-02-13T18:20:23.792Z"
      },
      {
        "duration": 73,
        "start_time": "2024-02-13T18:20:24.346Z"
      },
      {
        "duration": 7,
        "start_time": "2024-02-13T18:20:29.463Z"
      },
      {
        "duration": 4,
        "start_time": "2024-02-13T18:22:36.787Z"
      },
      {
        "duration": 899,
        "start_time": "2024-02-13T18:22:37.686Z"
      },
      {
        "duration": 155,
        "start_time": "2024-02-13T18:22:38.587Z"
      },
      {
        "duration": 236,
        "start_time": "2024-02-13T18:22:38.744Z"
      },
      {
        "duration": 107,
        "start_time": "2024-02-13T18:22:39.060Z"
      },
      {
        "duration": 295,
        "start_time": "2024-02-13T18:22:39.524Z"
      },
      {
        "duration": 615,
        "start_time": "2024-02-13T18:22:39.822Z"
      },
      {
        "duration": 133,
        "start_time": "2024-02-13T18:22:40.439Z"
      },
      {
        "duration": 104,
        "start_time": "2024-02-13T18:22:40.831Z"
      },
      {
        "duration": 63,
        "start_time": "2024-02-13T18:22:41.003Z"
      },
      {
        "duration": 80,
        "start_time": "2024-02-13T18:22:41.398Z"
      },
      {
        "duration": 99,
        "start_time": "2024-02-13T18:22:41.779Z"
      },
      {
        "duration": 95,
        "start_time": "2024-02-13T18:22:42.393Z"
      },
      {
        "duration": 21,
        "start_time": "2024-02-13T18:22:42.750Z"
      },
      {
        "duration": 36,
        "start_time": "2024-02-13T18:22:43.401Z"
      },
      {
        "duration": 341,
        "start_time": "2024-02-13T18:22:43.595Z"
      },
      {
        "duration": 114,
        "start_time": "2024-02-13T18:22:44.130Z"
      },
      {
        "duration": 50,
        "start_time": "2024-02-13T18:22:45.939Z"
      },
      {
        "duration": 579,
        "start_time": "2024-02-13T18:22:46.407Z"
      },
      {
        "duration": 137,
        "start_time": "2024-02-13T18:22:47.010Z"
      },
      {
        "duration": 262,
        "start_time": "2024-02-13T18:22:47.387Z"
      },
      {
        "duration": 668,
        "start_time": "2024-02-13T18:22:47.650Z"
      },
      {
        "duration": 131,
        "start_time": "2024-02-13T18:22:48.320Z"
      },
      {
        "duration": 98,
        "start_time": "2024-02-13T18:22:48.453Z"
      },
      {
        "duration": 1983,
        "start_time": "2024-02-13T18:22:48.942Z"
      },
      {
        "duration": 59,
        "start_time": "2024-02-13T18:22:50.927Z"
      },
      {
        "duration": 104,
        "start_time": "2024-02-13T18:22:50.988Z"
      },
      {
        "duration": 148,
        "start_time": "2024-02-13T18:22:51.094Z"
      },
      {
        "duration": 66,
        "start_time": "2024-02-13T18:22:51.243Z"
      },
      {
        "duration": 662,
        "start_time": "2024-02-13T18:22:51.454Z"
      },
      {
        "duration": 657,
        "start_time": "2024-02-13T18:22:52.122Z"
      },
      {
        "duration": 6,
        "start_time": "2024-02-13T18:22:52.781Z"
      },
      {
        "duration": 4,
        "start_time": "2024-02-13T18:22:53.640Z"
      },
      {
        "duration": 5293,
        "start_time": "2024-02-13T18:22:54.305Z"
      },
      {
        "duration": 84,
        "start_time": "2024-02-13T18:22:59.600Z"
      },
      {
        "duration": 505,
        "start_time": "2024-02-13T18:23:02.972Z"
      },
      {
        "duration": 18,
        "start_time": "2024-02-13T18:23:06.962Z"
      },
      {
        "duration": 65,
        "start_time": "2024-02-13T18:23:10.816Z"
      },
      {
        "duration": 5,
        "start_time": "2024-02-13T18:23:15.529Z"
      },
      {
        "duration": 349,
        "start_time": "2024-02-13T18:23:17.069Z"
      },
      {
        "duration": 365,
        "start_time": "2024-02-13T18:24:29.616Z"
      },
      {
        "duration": 464,
        "start_time": "2024-02-13T18:24:48.861Z"
      },
      {
        "duration": 4,
        "start_time": "2024-02-13T18:33:06.116Z"
      },
      {
        "duration": 4665,
        "start_time": "2024-02-13T18:33:06.595Z"
      },
      {
        "duration": 36,
        "start_time": "2024-02-13T18:33:11.859Z"
      },
      {
        "duration": 84,
        "start_time": "2024-02-13T18:34:13.235Z"
      },
      {
        "duration": 6,
        "start_time": "2024-02-13T18:34:32.969Z"
      },
      {
        "duration": 31,
        "start_time": "2024-02-13T18:34:33.796Z"
      },
      {
        "duration": 404,
        "start_time": "2024-02-13T18:35:25.161Z"
      },
      {
        "duration": 25,
        "start_time": "2024-02-13T18:35:29.252Z"
      },
      {
        "duration": 10,
        "start_time": "2024-02-13T18:35:37.537Z"
      },
      {
        "duration": 25,
        "start_time": "2024-02-13T18:35:39.672Z"
      },
      {
        "duration": 13,
        "start_time": "2024-02-13T18:36:18.282Z"
      },
      {
        "duration": 31,
        "start_time": "2024-02-13T18:36:40.655Z"
      },
      {
        "duration": 70,
        "start_time": "2024-02-13T18:37:00.300Z"
      },
      {
        "duration": 29,
        "start_time": "2024-02-13T18:37:09.225Z"
      },
      {
        "duration": 43,
        "start_time": "2024-02-13T18:37:26.874Z"
      },
      {
        "duration": 10,
        "start_time": "2024-02-13T18:39:10.775Z"
      },
      {
        "duration": 8,
        "start_time": "2024-02-13T18:39:13.656Z"
      },
      {
        "duration": 13,
        "start_time": "2024-02-13T18:39:17.339Z"
      },
      {
        "duration": 123,
        "start_time": "2024-02-13T18:39:20.933Z"
      },
      {
        "duration": 237,
        "start_time": "2024-02-13T18:41:40.757Z"
      },
      {
        "duration": 16,
        "start_time": "2024-02-13T18:42:29.468Z"
      },
      {
        "duration": 17,
        "start_time": "2024-02-13T18:47:34.390Z"
      },
      {
        "duration": 16,
        "start_time": "2024-02-13T18:54:45.622Z"
      },
      {
        "duration": 54,
        "start_time": "2024-02-13T18:55:30.507Z"
      },
      {
        "duration": 49,
        "start_time": "2024-02-13T18:56:02.056Z"
      },
      {
        "duration": 51,
        "start_time": "2024-02-13T18:56:10.035Z"
      },
      {
        "duration": 103,
        "start_time": "2024-02-13T18:57:03.455Z"
      },
      {
        "duration": 14,
        "start_time": "2024-02-13T18:57:23.624Z"
      },
      {
        "duration": 34,
        "start_time": "2024-02-13T18:58:10.345Z"
      },
      {
        "duration": 28,
        "start_time": "2024-02-13T18:59:03.097Z"
      },
      {
        "duration": 862,
        "start_time": "2024-02-13T18:59:26.335Z"
      },
      {
        "duration": 155,
        "start_time": "2024-02-13T18:59:27.198Z"
      },
      {
        "duration": 243,
        "start_time": "2024-02-13T18:59:27.355Z"
      },
      {
        "duration": 107,
        "start_time": "2024-02-13T18:59:27.616Z"
      },
      {
        "duration": 257,
        "start_time": "2024-02-13T18:59:28.394Z"
      },
      {
        "duration": 548,
        "start_time": "2024-02-13T18:59:28.653Z"
      },
      {
        "duration": 141,
        "start_time": "2024-02-13T18:59:29.203Z"
      },
      {
        "duration": 101,
        "start_time": "2024-02-13T18:59:30.032Z"
      },
      {
        "duration": 61,
        "start_time": "2024-02-13T18:59:30.197Z"
      },
      {
        "duration": 93,
        "start_time": "2024-02-13T18:59:30.594Z"
      },
      {
        "duration": 99,
        "start_time": "2024-02-13T18:59:30.982Z"
      },
      {
        "duration": 88,
        "start_time": "2024-02-13T18:59:31.738Z"
      },
      {
        "duration": 22,
        "start_time": "2024-02-13T18:59:31.946Z"
      },
      {
        "duration": 36,
        "start_time": "2024-02-13T18:59:32.819Z"
      },
      {
        "duration": 354,
        "start_time": "2024-02-13T18:59:33.395Z"
      },
      {
        "duration": 145,
        "start_time": "2024-02-13T18:59:34.503Z"
      },
      {
        "duration": 61,
        "start_time": "2024-02-13T18:59:34.807Z"
      },
      {
        "duration": 629,
        "start_time": "2024-02-13T18:59:35.698Z"
      },
      {
        "duration": 132,
        "start_time": "2024-02-13T18:59:36.497Z"
      },
      {
        "duration": 125,
        "start_time": "2024-02-13T18:59:37.409Z"
      },
      {
        "duration": 678,
        "start_time": "2024-02-13T18:59:37.787Z"
      },
      {
        "duration": 112,
        "start_time": "2024-02-13T18:59:38.467Z"
      },
      {
        "duration": 91,
        "start_time": "2024-02-13T18:59:39.065Z"
      },
      {
        "duration": 2037,
        "start_time": "2024-02-13T18:59:39.951Z"
      },
      {
        "duration": 43,
        "start_time": "2024-02-13T18:59:41.990Z"
      },
      {
        "duration": 223,
        "start_time": "2024-02-13T18:59:42.307Z"
      },
      {
        "duration": 66,
        "start_time": "2024-02-13T18:59:43.054Z"
      },
      {
        "duration": 683,
        "start_time": "2024-02-13T18:59:43.628Z"
      },
      {
        "duration": 652,
        "start_time": "2024-02-13T18:59:56.269Z"
      },
      {
        "duration": 143,
        "start_time": "2024-02-13T19:00:01.496Z"
      },
      {
        "duration": 42,
        "start_time": "2024-02-13T19:00:02.241Z"
      },
      {
        "duration": 7,
        "start_time": "2024-02-13T19:00:02.706Z"
      },
      {
        "duration": 4,
        "start_time": "2024-02-13T19:00:03.475Z"
      },
      {
        "duration": 5338,
        "start_time": "2024-02-13T19:00:03.967Z"
      },
      {
        "duration": 104,
        "start_time": "2024-02-13T19:00:09.307Z"
      },
      {
        "duration": 84,
        "start_time": "2024-02-13T19:00:10.326Z"
      },
      {
        "duration": 543,
        "start_time": "2024-02-13T19:00:15.338Z"
      },
      {
        "duration": 14,
        "start_time": "2024-02-13T19:00:16.214Z"
      },
      {
        "duration": 61,
        "start_time": "2024-02-13T19:00:17.212Z"
      },
      {
        "duration": 6,
        "start_time": "2024-02-13T19:00:20.812Z"
      },
      {
        "duration": 381,
        "start_time": "2024-02-13T19:00:21.456Z"
      },
      {
        "duration": 4,
        "start_time": "2024-02-13T19:01:21.357Z"
      },
      {
        "duration": 4404,
        "start_time": "2024-02-13T19:01:22.178Z"
      },
      {
        "duration": 35,
        "start_time": "2024-02-13T19:01:30.988Z"
      },
      {
        "duration": 6,
        "start_time": "2024-02-13T19:01:34.185Z"
      },
      {
        "duration": 29,
        "start_time": "2024-02-13T19:01:38.058Z"
      },
      {
        "duration": 344,
        "start_time": "2024-02-13T19:01:41.943Z"
      },
      {
        "duration": 23,
        "start_time": "2024-02-13T19:01:45.809Z"
      },
      {
        "duration": 21,
        "start_time": "2024-02-13T19:01:47.486Z"
      },
      {
        "duration": 5,
        "start_time": "2024-02-13T19:01:49.356Z"
      },
      {
        "duration": 16,
        "start_time": "2024-02-13T19:01:51.558Z"
      },
      {
        "duration": 20,
        "start_time": "2024-02-13T19:01:55.952Z"
      },
      {
        "duration": 80,
        "start_time": "2024-02-13T19:01:58.331Z"
      },
      {
        "duration": 12,
        "start_time": "2024-02-13T19:02:09.438Z"
      },
      {
        "duration": 134,
        "start_time": "2024-02-13T19:02:28.564Z"
      },
      {
        "duration": 14,
        "start_time": "2024-02-13T19:03:34.403Z"
      },
      {
        "duration": 79,
        "start_time": "2024-02-13T19:04:01.648Z"
      },
      {
        "duration": 4,
        "start_time": "2024-02-13T19:04:02.706Z"
      },
      {
        "duration": 3,
        "start_time": "2024-02-13T19:04:55.034Z"
      },
      {
        "duration": 3,
        "start_time": "2024-02-13T19:10:40.897Z"
      },
      {
        "duration": 54,
        "start_time": "2024-02-13T19:10:46.813Z"
      },
      {
        "duration": 89,
        "start_time": "2024-02-13T19:12:33.463Z"
      },
      {
        "duration": 78,
        "start_time": "2024-02-13T19:15:57.434Z"
      },
      {
        "duration": 945,
        "start_time": "2024-02-13T19:16:15.181Z"
      },
      {
        "duration": 13,
        "start_time": "2024-02-13T19:16:25.766Z"
      },
      {
        "duration": 11,
        "start_time": "2024-02-13T19:24:16.482Z"
      },
      {
        "duration": 573,
        "start_time": "2024-02-13T19:24:22.979Z"
      },
      {
        "duration": 557,
        "start_time": "2024-02-13T19:24:35.876Z"
      },
      {
        "duration": 208,
        "start_time": "2024-02-13T19:24:44.667Z"
      },
      {
        "duration": 57,
        "start_time": "2024-02-13T19:25:25.607Z"
      },
      {
        "duration": 949,
        "start_time": "2024-02-13T19:25:31.282Z"
      },
      {
        "duration": 139,
        "start_time": "2024-02-13T19:25:34.267Z"
      },
      {
        "duration": 53,
        "start_time": "2024-02-13T19:25:37.957Z"
      },
      {
        "duration": 2,
        "start_time": "2024-02-13T19:25:46.094Z"
      },
      {
        "duration": 3,
        "start_time": "2024-02-13T19:25:59.714Z"
      },
      {
        "duration": 4,
        "start_time": "2024-02-13T19:26:34.470Z"
      },
      {
        "duration": 19865,
        "start_time": "2024-02-13T19:26:42.578Z"
      },
      {
        "duration": 23425,
        "start_time": "2024-02-13T19:27:04.711Z"
      },
      {
        "duration": 138,
        "start_time": "2024-02-13T19:27:35.733Z"
      },
      {
        "duration": 52,
        "start_time": "2024-02-13T19:28:07.324Z"
      },
      {
        "duration": 504,
        "start_time": "2024-02-13T19:28:47.783Z"
      },
      {
        "duration": 315,
        "start_time": "2024-02-13T19:28:57.272Z"
      },
      {
        "duration": 14707,
        "start_time": "2024-02-13T19:29:06.418Z"
      },
      {
        "duration": 286891,
        "start_time": "2024-02-13T19:29:44.381Z"
      },
      {
        "duration": 3410,
        "start_time": "2024-02-13T19:42:16.519Z"
      },
      {
        "duration": 3852,
        "start_time": "2024-02-13T19:42:40.274Z"
      },
      {
        "duration": 3711,
        "start_time": "2024-02-13T19:43:31.456Z"
      },
      {
        "duration": 545,
        "start_time": "2024-02-13T19:43:48.562Z"
      },
      {
        "duration": 432,
        "start_time": "2024-02-13T19:43:56.892Z"
      },
      {
        "duration": 358,
        "start_time": "2024-02-13T19:44:06.572Z"
      },
      {
        "duration": 4,
        "start_time": "2024-02-13T19:58:03.997Z"
      },
      {
        "duration": 10868,
        "start_time": "2024-02-13T20:02:48.784Z"
      },
      {
        "duration": 4464938,
        "start_time": "2024-02-13T20:03:03.310Z"
      },
      {
        "duration": 4,
        "start_time": "2024-02-13T21:18:50.614Z"
      },
      {
        "duration": 4,
        "start_time": "2024-02-13T21:18:55.531Z"
      },
      {
        "duration": 10014,
        "start_time": "2024-02-13T21:20:35.202Z"
      },
      {
        "duration": 24142,
        "start_time": "2024-02-13T21:20:50.182Z"
      },
      {
        "duration": 5,
        "start_time": "2024-02-13T21:22:22.620Z"
      },
      {
        "duration": 939,
        "start_time": "2024-02-13T21:22:23.640Z"
      },
      {
        "duration": 157,
        "start_time": "2024-02-13T21:22:24.581Z"
      },
      {
        "duration": 255,
        "start_time": "2024-02-13T21:22:24.739Z"
      },
      {
        "duration": 114,
        "start_time": "2024-02-13T21:22:26.237Z"
      },
      {
        "duration": 315,
        "start_time": "2024-02-13T21:22:27.088Z"
      },
      {
        "duration": 687,
        "start_time": "2024-02-13T21:22:27.496Z"
      },
      {
        "duration": 146,
        "start_time": "2024-02-13T21:22:28.296Z"
      },
      {
        "duration": 112,
        "start_time": "2024-02-13T21:22:29.680Z"
      },
      {
        "duration": 75,
        "start_time": "2024-02-13T21:22:30.415Z"
      },
      {
        "duration": 93,
        "start_time": "2024-02-13T21:22:31.162Z"
      },
      {
        "duration": 116,
        "start_time": "2024-02-13T21:22:31.766Z"
      },
      {
        "duration": 91,
        "start_time": "2024-02-13T21:22:33.040Z"
      },
      {
        "duration": 30,
        "start_time": "2024-02-13T21:22:33.373Z"
      },
      {
        "duration": 37,
        "start_time": "2024-02-13T21:22:34.320Z"
      },
      {
        "duration": 387,
        "start_time": "2024-02-13T21:22:34.569Z"
      },
      {
        "duration": 169,
        "start_time": "2024-02-13T21:22:35.112Z"
      },
      {
        "duration": 72,
        "start_time": "2024-02-13T21:22:35.434Z"
      },
      {
        "duration": 822,
        "start_time": "2024-02-13T21:22:35.980Z"
      },
      {
        "duration": 139,
        "start_time": "2024-02-13T21:22:36.804Z"
      },
      {
        "duration": 124,
        "start_time": "2024-02-13T21:22:37.083Z"
      },
      {
        "duration": 690,
        "start_time": "2024-02-13T21:22:37.303Z"
      },
      {
        "duration": 118,
        "start_time": "2024-02-13T21:22:37.995Z"
      },
      {
        "duration": 103,
        "start_time": "2024-02-13T21:22:38.122Z"
      },
      {
        "duration": 2032,
        "start_time": "2024-02-13T21:22:38.400Z"
      },
      {
        "duration": 32,
        "start_time": "2024-02-13T21:22:40.434Z"
      },
      {
        "duration": 133,
        "start_time": "2024-02-13T21:22:41.834Z"
      },
      {
        "duration": 76,
        "start_time": "2024-02-13T21:22:42.213Z"
      },
      {
        "duration": 807,
        "start_time": "2024-02-13T21:22:42.771Z"
      },
      {
        "duration": 665,
        "start_time": "2024-02-13T21:22:44.161Z"
      },
      {
        "duration": 131,
        "start_time": "2024-02-13T21:22:46.013Z"
      },
      {
        "duration": 57,
        "start_time": "2024-02-13T21:22:46.411Z"
      },
      {
        "duration": 15,
        "start_time": "2024-02-13T21:22:46.824Z"
      },
      {
        "duration": 3,
        "start_time": "2024-02-13T21:22:47.305Z"
      },
      {
        "duration": 5488,
        "start_time": "2024-02-13T21:22:47.693Z"
      },
      {
        "duration": 119,
        "start_time": "2024-02-13T21:22:53.183Z"
      },
      {
        "duration": 565,
        "start_time": "2024-02-13T21:22:53.303Z"
      },
      {
        "duration": 16,
        "start_time": "2024-02-13T21:22:53.870Z"
      },
      {
        "duration": 83,
        "start_time": "2024-02-13T21:22:53.888Z"
      },
      {
        "duration": 5,
        "start_time": "2024-02-13T21:22:53.973Z"
      },
      {
        "duration": 514,
        "start_time": "2024-02-13T21:22:53.980Z"
      },
      {
        "duration": 4,
        "start_time": "2024-02-13T21:22:55.056Z"
      },
      {
        "duration": 4660,
        "start_time": "2024-02-13T21:22:55.426Z"
      },
      {
        "duration": 43,
        "start_time": "2024-02-13T21:23:00.088Z"
      },
      {
        "duration": 8,
        "start_time": "2024-02-13T21:23:01.275Z"
      },
      {
        "duration": 38,
        "start_time": "2024-02-13T21:23:01.920Z"
      },
      {
        "duration": 417,
        "start_time": "2024-02-13T21:23:03.230Z"
      },
      {
        "duration": 25,
        "start_time": "2024-02-13T21:23:04.334Z"
      },
      {
        "duration": 22,
        "start_time": "2024-02-13T21:23:04.754Z"
      },
      {
        "duration": 7,
        "start_time": "2024-02-13T21:23:05.303Z"
      },
      {
        "duration": 18,
        "start_time": "2024-02-13T21:23:05.943Z"
      },
      {
        "duration": 20,
        "start_time": "2024-02-13T21:23:06.590Z"
      },
      {
        "duration": 93,
        "start_time": "2024-02-13T21:23:07.788Z"
      },
      {
        "duration": 13,
        "start_time": "2024-02-13T21:23:08.298Z"
      },
      {
        "duration": 143,
        "start_time": "2024-02-13T21:23:21.313Z"
      },
      {
        "duration": 16,
        "start_time": "2024-02-13T21:23:22.134Z"
      },
      {
        "duration": 90,
        "start_time": "2024-02-13T21:23:23.654Z"
      },
      {
        "duration": 2,
        "start_time": "2024-02-13T21:23:38.778Z"
      },
      {
        "duration": 68,
        "start_time": "2024-02-13T21:23:40.734Z"
      },
      {
        "duration": 1090,
        "start_time": "2024-02-13T21:23:45.381Z"
      },
      {
        "duration": 555,
        "start_time": "2024-02-13T21:23:48.577Z"
      },
      {
        "duration": 345,
        "start_time": "2024-02-13T21:23:53.420Z"
      },
      {
        "duration": 3,
        "start_time": "2024-02-13T21:24:00.134Z"
      },
      {
        "duration": 1500985,
        "start_time": "2024-02-13T21:24:20.751Z"
      },
      {
        "duration": 1603,
        "start_time": "2024-02-14T07:15:38.838Z"
      },
      {
        "duration": 1086,
        "start_time": "2024-02-14T07:15:40.443Z"
      },
      {
        "duration": 136,
        "start_time": "2024-02-14T07:15:42.569Z"
      },
      {
        "duration": 264,
        "start_time": "2024-02-14T07:15:43.859Z"
      },
      {
        "duration": 103,
        "start_time": "2024-02-14T07:15:45.549Z"
      },
      {
        "duration": 295,
        "start_time": "2024-02-14T07:15:47.803Z"
      },
      {
        "duration": 582,
        "start_time": "2024-02-14T07:15:48.253Z"
      },
      {
        "duration": 122,
        "start_time": "2024-02-14T07:15:53.499Z"
      },
      {
        "duration": 92,
        "start_time": "2024-02-14T07:16:05.622Z"
      },
      {
        "duration": 73,
        "start_time": "2024-02-14T07:16:11.971Z"
      },
      {
        "duration": 72,
        "start_time": "2024-02-14T07:16:12.930Z"
      },
      {
        "duration": 95,
        "start_time": "2024-02-14T07:16:13.779Z"
      },
      {
        "duration": 84,
        "start_time": "2024-02-14T07:16:15.749Z"
      },
      {
        "duration": 20,
        "start_time": "2024-02-14T07:16:17.304Z"
      },
      {
        "duration": 40,
        "start_time": "2024-02-14T07:16:19.409Z"
      },
      {
        "duration": 405,
        "start_time": "2024-02-14T07:16:20.059Z"
      },
      {
        "duration": 171,
        "start_time": "2024-02-14T07:16:29.178Z"
      },
      {
        "duration": 51,
        "start_time": "2024-02-14T07:16:29.972Z"
      },
      {
        "duration": 563,
        "start_time": "2024-02-14T07:16:31.120Z"
      },
      {
        "duration": 121,
        "start_time": "2024-02-14T07:16:35.782Z"
      },
      {
        "duration": 108,
        "start_time": "2024-02-14T07:16:36.892Z"
      },
      {
        "duration": 658,
        "start_time": "2024-02-14T07:16:37.449Z"
      },
      {
        "duration": 94,
        "start_time": "2024-02-14T07:16:38.320Z"
      },
      {
        "duration": 80,
        "start_time": "2024-02-14T07:16:47.803Z"
      },
      {
        "duration": 1798,
        "start_time": "2024-02-14T07:16:48.929Z"
      },
      {
        "duration": 26,
        "start_time": "2024-02-14T07:16:50.735Z"
      },
      {
        "duration": 100,
        "start_time": "2024-02-14T07:16:51.461Z"
      },
      {
        "duration": 60,
        "start_time": "2024-02-14T07:16:58.873Z"
      },
      {
        "duration": 621,
        "start_time": "2024-02-14T07:17:03.499Z"
      },
      {
        "duration": 558,
        "start_time": "2024-02-14T07:17:06.679Z"
      },
      {
        "duration": 110,
        "start_time": "2024-02-14T07:17:10.797Z"
      },
      {
        "duration": 42,
        "start_time": "2024-02-14T07:17:11.842Z"
      },
      {
        "duration": 6,
        "start_time": "2024-02-14T07:17:12.429Z"
      },
      {
        "duration": 3,
        "start_time": "2024-02-14T07:17:14.140Z"
      },
      {
        "duration": 4626,
        "start_time": "2024-02-14T07:17:15.601Z"
      },
      {
        "duration": 83,
        "start_time": "2024-02-14T07:17:24.051Z"
      },
      {
        "duration": 553,
        "start_time": "2024-02-14T07:17:31.798Z"
      },
      {
        "duration": 13,
        "start_time": "2024-02-14T07:17:33.911Z"
      },
      {
        "duration": 16,
        "start_time": "2024-02-14T07:19:13.658Z"
      },
      {
        "duration": 47,
        "start_time": "2024-02-14T07:19:31.270Z"
      },
      {
        "duration": 6,
        "start_time": "2024-02-14T07:19:33.791Z"
      },
      {
        "duration": 329,
        "start_time": "2024-02-14T07:19:36.428Z"
      },
      {
        "duration": 3,
        "start_time": "2024-02-14T07:19:42.961Z"
      },
      {
        "duration": 3880,
        "start_time": "2024-02-14T07:19:43.332Z"
      },
      {
        "duration": 39,
        "start_time": "2024-02-14T07:19:47.214Z"
      },
      {
        "duration": 5,
        "start_time": "2024-02-14T07:20:08.811Z"
      },
      {
        "duration": 22,
        "start_time": "2024-02-14T07:20:09.831Z"
      },
      {
        "duration": 329,
        "start_time": "2024-02-14T07:20:34.761Z"
      },
      {
        "duration": 18,
        "start_time": "2024-02-14T07:20:43.362Z"
      },
      {
        "duration": 18,
        "start_time": "2024-02-14T07:20:43.798Z"
      },
      {
        "duration": 8,
        "start_time": "2024-02-14T07:20:46.221Z"
      },
      {
        "duration": 20,
        "start_time": "2024-02-14T07:20:47.341Z"
      },
      {
        "duration": 17,
        "start_time": "2024-02-14T07:20:48.372Z"
      },
      {
        "duration": 73,
        "start_time": "2024-02-14T07:20:52.222Z"
      },
      {
        "duration": 11,
        "start_time": "2024-02-14T07:20:53.131Z"
      },
      {
        "duration": 120,
        "start_time": "2024-02-14T07:20:54.152Z"
      },
      {
        "duration": 18,
        "start_time": "2024-02-14T07:21:01.582Z"
      },
      {
        "duration": 71,
        "start_time": "2024-02-14T07:21:05.200Z"
      },
      {
        "duration": 4,
        "start_time": "2024-02-14T07:44:59.320Z"
      },
      {
        "duration": 834,
        "start_time": "2024-02-14T07:45:00.391Z"
      },
      {
        "duration": 129,
        "start_time": "2024-02-14T07:45:03.084Z"
      },
      {
        "duration": 217,
        "start_time": "2024-02-14T07:45:03.925Z"
      },
      {
        "duration": 94,
        "start_time": "2024-02-14T07:45:04.936Z"
      },
      {
        "duration": 273,
        "start_time": "2024-02-14T07:45:05.339Z"
      },
      {
        "duration": 673,
        "start_time": "2024-02-14T07:45:05.617Z"
      },
      {
        "duration": 129,
        "start_time": "2024-02-14T07:45:06.292Z"
      },
      {
        "duration": 93,
        "start_time": "2024-02-14T07:45:07.258Z"
      },
      {
        "duration": 56,
        "start_time": "2024-02-14T07:45:07.447Z"
      },
      {
        "duration": 73,
        "start_time": "2024-02-14T07:45:08.048Z"
      },
      {
        "duration": 113,
        "start_time": "2024-02-14T07:45:08.540Z"
      },
      {
        "duration": 83,
        "start_time": "2024-02-14T07:45:09.239Z"
      },
      {
        "duration": 23,
        "start_time": "2024-02-14T07:45:09.438Z"
      },
      {
        "duration": 34,
        "start_time": "2024-02-14T07:45:09.948Z"
      },
      {
        "duration": 324,
        "start_time": "2024-02-14T07:45:10.147Z"
      },
      {
        "duration": 121,
        "start_time": "2024-02-14T07:45:10.648Z"
      },
      {
        "duration": 47,
        "start_time": "2024-02-14T07:45:10.861Z"
      },
      {
        "duration": 526,
        "start_time": "2024-02-14T07:45:11.252Z"
      },
      {
        "duration": 125,
        "start_time": "2024-02-14T07:45:11.780Z"
      },
      {
        "duration": 129,
        "start_time": "2024-02-14T07:45:12.004Z"
      },
      {
        "duration": 631,
        "start_time": "2024-02-14T07:45:12.747Z"
      },
      {
        "duration": 97,
        "start_time": "2024-02-14T07:45:13.380Z"
      },
      {
        "duration": 80,
        "start_time": "2024-02-14T07:45:13.738Z"
      },
      {
        "duration": 1906,
        "start_time": "2024-02-14T07:45:14.488Z"
      },
      {
        "duration": 37,
        "start_time": "2024-02-14T07:45:16.396Z"
      },
      {
        "duration": 100,
        "start_time": "2024-02-14T07:45:16.908Z"
      },
      {
        "duration": 60,
        "start_time": "2024-02-14T07:45:17.468Z"
      },
      {
        "duration": 657,
        "start_time": "2024-02-14T07:45:17.947Z"
      },
      {
        "duration": 556,
        "start_time": "2024-02-14T07:45:19.027Z"
      },
      {
        "duration": 113,
        "start_time": "2024-02-14T07:45:19.724Z"
      },
      {
        "duration": 47,
        "start_time": "2024-02-14T07:45:20.028Z"
      },
      {
        "duration": 7,
        "start_time": "2024-02-14T07:45:20.478Z"
      },
      {
        "duration": 3,
        "start_time": "2024-02-14T07:45:20.886Z"
      },
      {
        "duration": 4623,
        "start_time": "2024-02-14T07:45:21.278Z"
      },
      {
        "duration": 98,
        "start_time": "2024-02-14T07:45:25.902Z"
      },
      {
        "duration": 482,
        "start_time": "2024-02-14T07:45:26.002Z"
      },
      {
        "duration": 12,
        "start_time": "2024-02-14T07:45:26.898Z"
      },
      {
        "duration": 48,
        "start_time": "2024-02-14T07:45:27.364Z"
      },
      {
        "duration": 7,
        "start_time": "2024-02-14T07:45:28.550Z"
      },
      {
        "duration": 317,
        "start_time": "2024-02-14T07:45:28.979Z"
      },
      {
        "duration": 3,
        "start_time": "2024-02-14T07:45:29.996Z"
      },
      {
        "duration": 3890,
        "start_time": "2024-02-14T07:45:30.228Z"
      },
      {
        "duration": 41,
        "start_time": "2024-02-14T07:45:34.120Z"
      },
      {
        "duration": 5,
        "start_time": "2024-02-14T07:45:34.163Z"
      },
      {
        "duration": 23,
        "start_time": "2024-02-14T07:45:34.169Z"
      },
      {
        "duration": 342,
        "start_time": "2024-02-14T07:45:34.194Z"
      },
      {
        "duration": 21,
        "start_time": "2024-02-14T07:45:34.538Z"
      },
      {
        "duration": 17,
        "start_time": "2024-02-14T07:45:34.561Z"
      },
      {
        "duration": 5,
        "start_time": "2024-02-14T07:45:34.579Z"
      },
      {
        "duration": 38,
        "start_time": "2024-02-14T07:45:34.585Z"
      },
      {
        "duration": 17,
        "start_time": "2024-02-14T07:45:34.625Z"
      },
      {
        "duration": 71,
        "start_time": "2024-02-14T07:45:35.092Z"
      },
      {
        "duration": 10,
        "start_time": "2024-02-14T07:45:35.813Z"
      },
      {
        "duration": 125,
        "start_time": "2024-02-14T07:45:36.014Z"
      },
      {
        "duration": 15,
        "start_time": "2024-02-14T07:45:38.947Z"
      },
      {
        "duration": 72,
        "start_time": "2024-02-14T07:45:40.577Z"
      },
      {
        "duration": 2,
        "start_time": "2024-02-14T07:45:54.198Z"
      },
      {
        "duration": 163,
        "start_time": "2024-02-14T07:45:59.657Z"
      },
      {
        "duration": 59,
        "start_time": "2024-02-14T07:46:15.427Z"
      },
      {
        "duration": 72,
        "start_time": "2024-02-14T07:46:22.445Z"
      },
      {
        "duration": 588,
        "start_time": "2024-02-14T07:46:50.685Z"
      },
      {
        "duration": 85,
        "start_time": "2024-02-14T07:48:21.116Z"
      },
      {
        "duration": 774,
        "start_time": "2024-02-14T07:48:29.499Z"
      },
      {
        "duration": 449,
        "start_time": "2024-02-14T07:48:44.948Z"
      },
      {
        "duration": 310,
        "start_time": "2024-02-14T07:48:55.425Z"
      },
      {
        "duration": 17149,
        "start_time": "2024-02-14T07:57:01.081Z"
      },
      {
        "duration": 3,
        "start_time": "2024-02-14T07:58:04.499Z"
      },
      {
        "duration": 17140,
        "start_time": "2024-02-14T07:59:02.699Z"
      },
      {
        "duration": 3,
        "start_time": "2024-02-14T07:59:38.062Z"
      },
      {
        "duration": 3,
        "start_time": "2024-02-14T08:00:27.810Z"
      },
      {
        "duration": 177153,
        "start_time": "2024-02-14T08:01:03.299Z"
      },
      {
        "duration": 4,
        "start_time": "2024-02-14T08:04:08.671Z"
      },
      {
        "duration": 4,
        "start_time": "2024-02-14T08:13:37.616Z"
      },
      {
        "duration": 758,
        "start_time": "2024-02-14T08:13:39.348Z"
      },
      {
        "duration": 132,
        "start_time": "2024-02-14T08:13:40.378Z"
      },
      {
        "duration": 209,
        "start_time": "2024-02-14T08:13:40.945Z"
      },
      {
        "duration": 102,
        "start_time": "2024-02-14T08:13:42.116Z"
      },
      {
        "duration": 245,
        "start_time": "2024-02-14T08:13:43.048Z"
      },
      {
        "duration": 513,
        "start_time": "2024-02-14T08:13:43.395Z"
      },
      {
        "duration": 113,
        "start_time": "2024-02-14T08:13:44.519Z"
      },
      {
        "duration": 120,
        "start_time": "2024-02-14T08:13:46.140Z"
      },
      {
        "duration": 56,
        "start_time": "2024-02-14T08:13:46.456Z"
      },
      {
        "duration": 72,
        "start_time": "2024-02-14T08:13:47.428Z"
      },
      {
        "duration": 91,
        "start_time": "2024-02-14T08:13:49.647Z"
      },
      {
        "duration": 75,
        "start_time": "2024-02-14T08:13:50.695Z"
      },
      {
        "duration": 19,
        "start_time": "2024-02-14T08:13:50.990Z"
      },
      {
        "duration": 33,
        "start_time": "2024-02-14T08:13:52.246Z"
      },
      {
        "duration": 303,
        "start_time": "2024-02-14T08:13:52.799Z"
      },
      {
        "duration": 114,
        "start_time": "2024-02-14T08:13:54.617Z"
      },
      {
        "duration": 55,
        "start_time": "2024-02-14T08:13:55.039Z"
      },
      {
        "duration": 665,
        "start_time": "2024-02-14T08:14:06.277Z"
      },
      {
        "duration": 119,
        "start_time": "2024-02-14T08:14:07.848Z"
      },
      {
        "duration": 106,
        "start_time": "2024-02-14T08:14:08.596Z"
      },
      {
        "duration": 622,
        "start_time": "2024-02-14T08:14:08.796Z"
      },
      {
        "duration": 98,
        "start_time": "2024-02-14T08:14:09.420Z"
      },
      {
        "duration": 81,
        "start_time": "2024-02-14T08:14:10.086Z"
      },
      {
        "duration": 1885,
        "start_time": "2024-02-14T08:14:10.727Z"
      },
      {
        "duration": 28,
        "start_time": "2024-02-14T08:14:12.614Z"
      },
      {
        "duration": 121,
        "start_time": "2024-02-14T08:14:12.644Z"
      },
      {
        "duration": 69,
        "start_time": "2024-02-14T08:14:12.767Z"
      },
      {
        "duration": 666,
        "start_time": "2024-02-14T08:14:12.837Z"
      },
      {
        "duration": 581,
        "start_time": "2024-02-14T08:14:13.506Z"
      },
      {
        "duration": 106,
        "start_time": "2024-02-14T08:14:14.275Z"
      },
      {
        "duration": 36,
        "start_time": "2024-02-14T08:14:14.616Z"
      },
      {
        "duration": 6,
        "start_time": "2024-02-14T08:14:15.117Z"
      },
      {
        "duration": 3,
        "start_time": "2024-02-14T08:14:16.107Z"
      },
      {
        "duration": 4734,
        "start_time": "2024-02-14T08:14:16.397Z"
      },
      {
        "duration": 99,
        "start_time": "2024-02-14T08:14:21.133Z"
      },
      {
        "duration": 474,
        "start_time": "2024-02-14T08:14:21.233Z"
      },
      {
        "duration": 16,
        "start_time": "2024-02-14T08:14:21.709Z"
      },
      {
        "duration": 50,
        "start_time": "2024-02-14T08:14:21.726Z"
      },
      {
        "duration": 7,
        "start_time": "2024-02-14T08:14:26.806Z"
      },
      {
        "duration": 410,
        "start_time": "2024-02-14T08:14:32.037Z"
      },
      {
        "duration": 4,
        "start_time": "2024-02-14T08:14:33.396Z"
      },
      {
        "duration": 3903,
        "start_time": "2024-02-14T08:14:34.016Z"
      },
      {
        "duration": 29,
        "start_time": "2024-02-14T08:14:37.920Z"
      },
      {
        "duration": 6,
        "start_time": "2024-02-14T08:14:40.838Z"
      },
      {
        "duration": 23,
        "start_time": "2024-02-14T08:14:41.199Z"
      },
      {
        "duration": 344,
        "start_time": "2024-02-14T08:14:41.987Z"
      },
      {
        "duration": 18,
        "start_time": "2024-02-14T08:14:42.494Z"
      },
      {
        "duration": 18,
        "start_time": "2024-02-14T08:14:42.695Z"
      },
      {
        "duration": 5,
        "start_time": "2024-02-14T08:14:44.866Z"
      },
      {
        "duration": 18,
        "start_time": "2024-02-14T08:14:45.717Z"
      },
      {
        "duration": 18,
        "start_time": "2024-02-14T08:14:46.554Z"
      },
      {
        "duration": 73,
        "start_time": "2024-02-14T08:14:47.797Z"
      },
      {
        "duration": 10,
        "start_time": "2024-02-14T08:14:48.096Z"
      },
      {
        "duration": 140,
        "start_time": "2024-02-14T08:14:48.446Z"
      },
      {
        "duration": 14,
        "start_time": "2024-02-14T08:14:49.157Z"
      },
      {
        "duration": 72,
        "start_time": "2024-02-14T08:14:49.534Z"
      },
      {
        "duration": 2,
        "start_time": "2024-02-14T08:15:15.861Z"
      },
      {
        "duration": 75,
        "start_time": "2024-02-14T08:15:16.853Z"
      },
      {
        "duration": 789,
        "start_time": "2024-02-14T08:15:18.168Z"
      },
      {
        "duration": 425,
        "start_time": "2024-02-14T08:15:22.684Z"
      },
      {
        "duration": 298,
        "start_time": "2024-02-14T08:15:24.177Z"
      },
      {
        "duration": 3,
        "start_time": "2024-02-14T08:15:25.943Z"
      },
      {
        "duration": 4,
        "start_time": "2024-02-14T08:31:39.373Z"
      },
      {
        "duration": 766,
        "start_time": "2024-02-14T08:31:40.885Z"
      },
      {
        "duration": 145,
        "start_time": "2024-02-14T08:31:42.016Z"
      },
      {
        "duration": 223,
        "start_time": "2024-02-14T08:31:43.235Z"
      },
      {
        "duration": 94,
        "start_time": "2024-02-14T08:31:44.515Z"
      },
      {
        "duration": 254,
        "start_time": "2024-02-14T08:31:46.053Z"
      },
      {
        "duration": 499,
        "start_time": "2024-02-14T08:31:46.835Z"
      },
      {
        "duration": 110,
        "start_time": "2024-02-14T08:31:48.036Z"
      },
      {
        "duration": 99,
        "start_time": "2024-02-14T08:31:49.956Z"
      },
      {
        "duration": 56,
        "start_time": "2024-02-14T08:31:50.463Z"
      },
      {
        "duration": 80,
        "start_time": "2024-02-14T08:31:51.275Z"
      },
      {
        "duration": 97,
        "start_time": "2024-02-14T08:31:51.995Z"
      },
      {
        "duration": 76,
        "start_time": "2024-02-14T08:31:53.383Z"
      },
      {
        "duration": 21,
        "start_time": "2024-02-14T08:31:53.835Z"
      },
      {
        "duration": 34,
        "start_time": "2024-02-14T08:31:54.893Z"
      },
      {
        "duration": 313,
        "start_time": "2024-02-14T08:31:55.223Z"
      },
      {
        "duration": 106,
        "start_time": "2024-02-14T08:31:55.766Z"
      },
      {
        "duration": 74,
        "start_time": "2024-02-14T08:31:56.119Z"
      },
      {
        "duration": 522,
        "start_time": "2024-02-14T08:31:56.627Z"
      },
      {
        "duration": 118,
        "start_time": "2024-02-14T08:31:57.223Z"
      },
      {
        "duration": 113,
        "start_time": "2024-02-14T08:31:58.396Z"
      },
      {
        "duration": 610,
        "start_time": "2024-02-14T08:31:58.761Z"
      },
      {
        "duration": 90,
        "start_time": "2024-02-14T08:32:00.053Z"
      },
      {
        "duration": 84,
        "start_time": "2024-02-14T08:32:00.836Z"
      },
      {
        "duration": 1828,
        "start_time": "2024-02-14T08:32:01.604Z"
      },
      {
        "duration": 25,
        "start_time": "2024-02-14T08:32:03.434Z"
      },
      {
        "duration": 218,
        "start_time": "2024-02-14T08:32:09.202Z"
      },
      {
        "duration": 60,
        "start_time": "2024-02-14T08:32:09.955Z"
      },
      {
        "duration": 643,
        "start_time": "2024-02-14T08:32:12.198Z"
      },
      {
        "duration": 600,
        "start_time": "2024-02-14T08:32:13.687Z"
      },
      {
        "duration": 118,
        "start_time": "2024-02-14T08:32:16.145Z"
      },
      {
        "duration": 43,
        "start_time": "2024-02-14T08:32:16.986Z"
      },
      {
        "duration": 7,
        "start_time": "2024-02-14T08:32:38.884Z"
      },
      {
        "duration": 5,
        "start_time": "2024-02-14T08:32:39.601Z"
      },
      {
        "duration": 4691,
        "start_time": "2024-02-14T08:32:40.116Z"
      },
      {
        "duration": 96,
        "start_time": "2024-02-14T08:33:12.611Z"
      },
      {
        "duration": 444,
        "start_time": "2024-02-14T08:33:13.855Z"
      },
      {
        "duration": 22,
        "start_time": "2024-02-14T08:33:14.300Z"
      },
      {
        "duration": 53,
        "start_time": "2024-02-14T08:33:14.593Z"
      },
      {
        "duration": 5,
        "start_time": "2024-02-14T08:33:15.776Z"
      },
      {
        "duration": 332,
        "start_time": "2024-02-14T08:33:16.034Z"
      },
      {
        "duration": 4,
        "start_time": "2024-02-14T08:33:16.571Z"
      },
      {
        "duration": 3910,
        "start_time": "2024-02-14T08:33:16.735Z"
      },
      {
        "duration": 40,
        "start_time": "2024-02-14T08:33:20.647Z"
      },
      {
        "duration": 6,
        "start_time": "2024-02-14T08:33:20.688Z"
      },
      {
        "duration": 42,
        "start_time": "2024-02-14T08:33:20.696Z"
      },
      {
        "duration": 340,
        "start_time": "2024-02-14T08:33:20.740Z"
      },
      {
        "duration": 19,
        "start_time": "2024-02-14T08:33:21.082Z"
      },
      {
        "duration": 27,
        "start_time": "2024-02-14T08:33:21.103Z"
      },
      {
        "duration": 15,
        "start_time": "2024-02-14T08:33:21.131Z"
      },
      {
        "duration": 26,
        "start_time": "2024-02-14T08:33:21.147Z"
      },
      {
        "duration": 21,
        "start_time": "2024-02-14T08:33:21.175Z"
      },
      {
        "duration": 73,
        "start_time": "2024-02-14T08:33:21.406Z"
      },
      {
        "duration": 11,
        "start_time": "2024-02-14T08:33:21.585Z"
      },
      {
        "duration": 138,
        "start_time": "2024-02-14T08:33:21.895Z"
      },
      {
        "duration": 14,
        "start_time": "2024-02-14T08:33:22.543Z"
      },
      {
        "duration": 70,
        "start_time": "2024-02-14T08:33:22.815Z"
      },
      {
        "duration": 2,
        "start_time": "2024-02-14T08:33:23.895Z"
      },
      {
        "duration": 79,
        "start_time": "2024-02-14T08:33:24.687Z"
      },
      {
        "duration": 730,
        "start_time": "2024-02-14T08:33:25.306Z"
      },
      {
        "duration": 420,
        "start_time": "2024-02-14T08:33:26.455Z"
      },
      {
        "duration": 288,
        "start_time": "2024-02-14T08:33:27.823Z"
      },
      {
        "duration": 3,
        "start_time": "2024-02-14T08:33:38.035Z"
      },
      {
        "duration": 167027,
        "start_time": "2024-02-14T08:33:44.204Z"
      },
      {
        "duration": 29934,
        "start_time": "2024-02-14T08:43:29.214Z"
      },
      {
        "duration": 3,
        "start_time": "2024-02-14T08:46:33.325Z"
      },
      {
        "duration": 15901,
        "start_time": "2024-02-14T08:46:41.353Z"
      },
      {
        "duration": 13745,
        "start_time": "2024-02-14T08:54:07.974Z"
      },
      {
        "duration": 17619,
        "start_time": "2024-02-14T08:54:57.003Z"
      },
      {
        "duration": 12234,
        "start_time": "2024-02-14T09:01:12.184Z"
      },
      {
        "duration": 104692,
        "start_time": "2024-02-14T09:01:53.965Z"
      },
      {
        "duration": 10412,
        "start_time": "2024-02-14T09:06:05.817Z"
      },
      {
        "duration": 159494,
        "start_time": "2024-02-14T09:06:31.444Z"
      },
      {
        "duration": 47,
        "start_time": "2024-02-14T09:32:02.343Z"
      },
      {
        "duration": 7,
        "start_time": "2024-02-14T09:32:32.085Z"
      },
      {
        "duration": 1446,
        "start_time": "2024-02-14T09:32:42.203Z"
      },
      {
        "duration": 76,
        "start_time": "2024-02-14T09:32:52.335Z"
      },
      {
        "duration": 5,
        "start_time": "2024-02-14T09:33:08.076Z"
      },
      {
        "duration": 1114,
        "start_time": "2024-02-14T09:33:08.828Z"
      },
      {
        "duration": 137,
        "start_time": "2024-02-14T09:33:09.944Z"
      },
      {
        "duration": 285,
        "start_time": "2024-02-14T09:33:10.082Z"
      },
      {
        "duration": 119,
        "start_time": "2024-02-14T09:33:10.369Z"
      },
      {
        "duration": 292,
        "start_time": "2024-02-14T09:33:10.490Z"
      },
      {
        "duration": 595,
        "start_time": "2024-02-14T09:33:10.784Z"
      },
      {
        "duration": 112,
        "start_time": "2024-02-14T09:33:11.381Z"
      },
      {
        "duration": 91,
        "start_time": "2024-02-14T09:33:11.865Z"
      },
      {
        "duration": 55,
        "start_time": "2024-02-14T09:33:12.066Z"
      },
      {
        "duration": 73,
        "start_time": "2024-02-14T09:33:12.508Z"
      },
      {
        "duration": 92,
        "start_time": "2024-02-14T09:33:12.942Z"
      },
      {
        "duration": 81,
        "start_time": "2024-02-14T09:33:13.538Z"
      },
      {
        "duration": 22,
        "start_time": "2024-02-14T09:33:13.726Z"
      },
      {
        "duration": 45,
        "start_time": "2024-02-14T09:33:14.324Z"
      },
      {
        "duration": 391,
        "start_time": "2024-02-14T09:33:14.555Z"
      },
      {
        "duration": 191,
        "start_time": "2024-02-14T09:33:14.948Z"
      },
      {
        "duration": 48,
        "start_time": "2024-02-14T09:33:15.167Z"
      },
      {
        "duration": 590,
        "start_time": "2024-02-14T09:33:15.593Z"
      },
      {
        "duration": 124,
        "start_time": "2024-02-14T09:33:16.185Z"
      },
      {
        "duration": 111,
        "start_time": "2024-02-14T09:33:16.386Z"
      },
      {
        "duration": 616,
        "start_time": "2024-02-14T09:33:16.573Z"
      },
      {
        "duration": 97,
        "start_time": "2024-02-14T09:33:17.191Z"
      },
      {
        "duration": 81,
        "start_time": "2024-02-14T09:33:17.374Z"
      },
      {
        "duration": 1854,
        "start_time": "2024-02-14T09:33:17.796Z"
      },
      {
        "duration": 29,
        "start_time": "2024-02-14T09:33:19.653Z"
      },
      {
        "duration": 118,
        "start_time": "2024-02-14T09:33:19.684Z"
      },
      {
        "duration": 66,
        "start_time": "2024-02-14T09:33:19.804Z"
      },
      {
        "duration": 640,
        "start_time": "2024-02-14T09:33:19.872Z"
      },
      {
        "duration": 624,
        "start_time": "2024-02-14T09:33:20.518Z"
      },
      {
        "duration": 119,
        "start_time": "2024-02-14T09:33:21.143Z"
      },
      {
        "duration": 54,
        "start_time": "2024-02-14T09:33:21.263Z"
      },
      {
        "duration": 7,
        "start_time": "2024-02-14T09:33:21.319Z"
      },
      {
        "duration": 22,
        "start_time": "2024-02-14T09:33:21.327Z"
      },
      {
        "duration": 4798,
        "start_time": "2024-02-14T09:33:21.351Z"
      },
      {
        "duration": 110,
        "start_time": "2024-02-14T09:33:26.151Z"
      },
      {
        "duration": 516,
        "start_time": "2024-02-14T09:33:26.262Z"
      },
      {
        "duration": 14,
        "start_time": "2024-02-14T09:33:26.780Z"
      },
      {
        "duration": 66,
        "start_time": "2024-02-14T09:33:26.796Z"
      },
      {
        "duration": 6,
        "start_time": "2024-02-14T09:33:26.864Z"
      },
      {
        "duration": 327,
        "start_time": "2024-02-14T09:33:26.872Z"
      },
      {
        "duration": 4,
        "start_time": "2024-02-14T09:33:27.201Z"
      },
      {
        "duration": 3930,
        "start_time": "2024-02-14T09:33:27.206Z"
      },
      {
        "duration": 38,
        "start_time": "2024-02-14T09:33:31.138Z"
      },
      {
        "duration": 6,
        "start_time": "2024-02-14T09:33:31.178Z"
      },
      {
        "duration": 67,
        "start_time": "2024-02-14T09:33:31.186Z"
      },
      {
        "duration": 339,
        "start_time": "2024-02-14T09:33:40.293Z"
      },
      {
        "duration": 22,
        "start_time": "2024-02-14T09:33:40.755Z"
      },
      {
        "duration": 21,
        "start_time": "2024-02-14T09:33:40.976Z"
      },
      {
        "duration": 6,
        "start_time": "2024-02-14T09:33:41.308Z"
      },
      {
        "duration": 27,
        "start_time": "2024-02-14T09:33:41.747Z"
      },
      {
        "duration": 19,
        "start_time": "2024-02-14T09:33:42.129Z"
      },
      {
        "duration": 75,
        "start_time": "2024-02-14T09:33:42.928Z"
      },
      {
        "duration": 11,
        "start_time": "2024-02-14T09:33:43.369Z"
      },
      {
        "duration": 124,
        "start_time": "2024-02-14T09:33:43.667Z"
      },
      {
        "duration": 20,
        "start_time": "2024-02-14T09:33:44.558Z"
      },
      {
        "duration": 83,
        "start_time": "2024-02-14T09:33:45.634Z"
      },
      {
        "duration": 3,
        "start_time": "2024-02-14T09:33:46.985Z"
      },
      {
        "duration": 80,
        "start_time": "2024-02-14T09:33:47.949Z"
      },
      {
        "duration": 752,
        "start_time": "2024-02-14T09:33:48.715Z"
      },
      {
        "duration": 465,
        "start_time": "2024-02-14T09:33:49.493Z"
      },
      {
        "duration": 294,
        "start_time": "2024-02-14T09:33:51.396Z"
      },
      {
        "duration": 179823,
        "start_time": "2024-02-14T09:35:02.596Z"
      },
      {
        "duration": 10199,
        "start_time": "2024-02-14T09:38:02.421Z"
      },
      {
        "duration": 11281,
        "start_time": "2024-02-14T09:40:54.843Z"
      },
      {
        "duration": 0,
        "start_time": "2024-02-14T09:41:06.126Z"
      },
      {
        "duration": 2,
        "start_time": "2024-02-14T09:41:47.996Z"
      },
      {
        "duration": 16438,
        "start_time": "2024-02-14T09:41:56.585Z"
      },
      {
        "duration": 13000,
        "start_time": "2024-02-14T09:42:13.025Z"
      },
      {
        "duration": 1321139,
        "start_time": "2024-02-14T09:42:28.923Z"
      },
      {
        "duration": 3,
        "start_time": "2024-02-14T10:04:32.380Z"
      },
      {
        "duration": 61820,
        "start_time": "2024-02-14T10:04:38.957Z"
      },
      {
        "duration": 17,
        "start_time": "2024-02-14T10:07:05.592Z"
      },
      {
        "duration": 4,
        "start_time": "2024-02-14T10:07:36.469Z"
      },
      {
        "duration": 1590,
        "start_time": "2024-02-14T12:28:24.025Z"
      },
      {
        "duration": 2847,
        "start_time": "2024-02-14T12:28:26.223Z"
      },
      {
        "duration": 150,
        "start_time": "2024-02-14T12:28:29.072Z"
      },
      {
        "duration": 298,
        "start_time": "2024-02-14T12:28:29.224Z"
      },
      {
        "duration": 102,
        "start_time": "2024-02-14T12:28:29.524Z"
      },
      {
        "duration": 305,
        "start_time": "2024-02-14T12:28:29.628Z"
      },
      {
        "duration": 596,
        "start_time": "2024-02-14T12:28:29.935Z"
      },
      {
        "duration": 123,
        "start_time": "2024-02-14T12:28:30.533Z"
      },
      {
        "duration": 108,
        "start_time": "2024-02-14T12:28:30.658Z"
      },
      {
        "duration": 62,
        "start_time": "2024-02-14T12:28:30.768Z"
      },
      {
        "duration": 84,
        "start_time": "2024-02-14T12:28:30.832Z"
      },
      {
        "duration": 119,
        "start_time": "2024-02-14T12:28:30.918Z"
      },
      {
        "duration": 92,
        "start_time": "2024-02-14T12:28:31.447Z"
      },
      {
        "duration": 29,
        "start_time": "2024-02-14T12:28:31.657Z"
      },
      {
        "duration": 34,
        "start_time": "2024-02-14T12:28:32.244Z"
      },
      {
        "duration": 384,
        "start_time": "2024-02-14T12:28:32.387Z"
      },
      {
        "duration": 187,
        "start_time": "2024-02-14T12:28:32.773Z"
      },
      {
        "duration": 72,
        "start_time": "2024-02-14T12:28:32.962Z"
      },
      {
        "duration": 571,
        "start_time": "2024-02-14T12:28:33.327Z"
      },
      {
        "duration": 130,
        "start_time": "2024-02-14T12:28:33.901Z"
      },
      {
        "duration": 120,
        "start_time": "2024-02-14T12:28:34.060Z"
      },
      {
        "duration": 616,
        "start_time": "2024-02-14T12:28:34.246Z"
      },
      {
        "duration": 105,
        "start_time": "2024-02-14T12:28:34.863Z"
      },
      {
        "duration": 97,
        "start_time": "2024-02-14T12:28:34.970Z"
      },
      {
        "duration": 1868,
        "start_time": "2024-02-14T12:28:35.156Z"
      },
      {
        "duration": 24,
        "start_time": "2024-02-14T12:28:37.026Z"
      },
      {
        "duration": 117,
        "start_time": "2024-02-14T12:28:37.052Z"
      },
      {
        "duration": 66,
        "start_time": "2024-02-14T12:28:37.170Z"
      },
      {
        "duration": 667,
        "start_time": "2024-02-14T12:28:37.238Z"
      },
      {
        "duration": 596,
        "start_time": "2024-02-14T12:28:37.906Z"
      },
      {
        "duration": 120,
        "start_time": "2024-02-14T12:28:38.504Z"
      },
      {
        "duration": 43,
        "start_time": "2024-02-14T12:28:38.625Z"
      },
      {
        "duration": 8,
        "start_time": "2024-02-14T12:28:38.669Z"
      },
      {
        "duration": 3,
        "start_time": "2024-02-14T12:28:39.267Z"
      },
      {
        "duration": 4743,
        "start_time": "2024-02-14T12:28:39.478Z"
      },
      {
        "duration": 97,
        "start_time": "2024-02-14T12:28:44.223Z"
      },
      {
        "duration": 531,
        "start_time": "2024-02-14T12:28:44.322Z"
      },
      {
        "duration": 13,
        "start_time": "2024-02-14T12:28:44.855Z"
      },
      {
        "duration": 70,
        "start_time": "2024-02-14T12:28:44.869Z"
      },
      {
        "duration": 5,
        "start_time": "2024-02-14T12:28:44.941Z"
      },
      {
        "duration": 364,
        "start_time": "2024-02-14T12:28:44.947Z"
      },
      {
        "duration": 3,
        "start_time": "2024-02-14T12:28:45.312Z"
      },
      {
        "duration": 3985,
        "start_time": "2024-02-14T12:28:45.317Z"
      },
      {
        "duration": 34,
        "start_time": "2024-02-14T12:28:49.305Z"
      },
      {
        "duration": 7,
        "start_time": "2024-02-14T12:28:49.340Z"
      },
      {
        "duration": 38,
        "start_time": "2024-02-14T12:28:49.348Z"
      },
      {
        "duration": 329,
        "start_time": "2024-02-14T12:28:49.387Z"
      },
      {
        "duration": 19,
        "start_time": "2024-02-14T12:28:49.717Z"
      },
      {
        "duration": 18,
        "start_time": "2024-02-14T12:28:49.738Z"
      },
      {
        "duration": 6,
        "start_time": "2024-02-14T12:28:49.757Z"
      },
      {
        "duration": 44,
        "start_time": "2024-02-14T12:28:49.764Z"
      },
      {
        "duration": 25,
        "start_time": "2024-02-14T12:28:49.810Z"
      },
      {
        "duration": 84,
        "start_time": "2024-02-14T12:28:49.836Z"
      },
      {
        "duration": 11,
        "start_time": "2024-02-14T12:28:49.921Z"
      },
      {
        "duration": 142,
        "start_time": "2024-02-14T12:28:49.933Z"
      },
      {
        "duration": 25,
        "start_time": "2024-02-14T12:28:50.077Z"
      },
      {
        "duration": 96,
        "start_time": "2024-02-14T12:28:50.105Z"
      },
      {
        "duration": 2,
        "start_time": "2024-02-14T12:28:50.237Z"
      },
      {
        "duration": 82,
        "start_time": "2024-02-14T12:28:50.905Z"
      },
      {
        "duration": 761,
        "start_time": "2024-02-14T12:28:51.437Z"
      },
      {
        "duration": 462,
        "start_time": "2024-02-14T12:28:52.200Z"
      },
      {
        "duration": 302,
        "start_time": "2024-02-14T12:28:53.257Z"
      },
      {
        "duration": 3,
        "start_time": "2024-02-14T12:30:14.496Z"
      },
      {
        "duration": 4,
        "start_time": "2024-02-14T12:31:08.196Z"
      },
      {
        "duration": 5,
        "start_time": "2024-02-14T12:31:40.570Z"
      },
      {
        "duration": 3,
        "start_time": "2024-02-14T12:32:14.899Z"
      },
      {
        "duration": 11,
        "start_time": "2024-02-14T12:32:28.969Z"
      },
      {
        "duration": 10,
        "start_time": "2024-02-14T12:33:34.445Z"
      },
      {
        "duration": 63024,
        "start_time": "2024-02-14T12:39:24.747Z"
      },
      {
        "duration": 116,
        "start_time": "2024-02-14T12:42:23.080Z"
      },
      {
        "duration": 207,
        "start_time": "2024-02-14T12:42:32.424Z"
      },
      {
        "duration": 200,
        "start_time": "2024-02-14T12:42:42.842Z"
      },
      {
        "duration": 1239,
        "start_time": "2024-02-15T09:06:56.019Z"
      },
      {
        "duration": 850,
        "start_time": "2024-02-15T09:06:57.260Z"
      },
      {
        "duration": 152,
        "start_time": "2024-02-15T09:06:58.112Z"
      },
      {
        "duration": 289,
        "start_time": "2024-02-15T09:06:58.266Z"
      },
      {
        "duration": 102,
        "start_time": "2024-02-15T09:06:58.556Z"
      },
      {
        "duration": 317,
        "start_time": "2024-02-15T09:06:58.659Z"
      },
      {
        "duration": 587,
        "start_time": "2024-02-15T09:06:58.977Z"
      },
      {
        "duration": 124,
        "start_time": "2024-02-15T09:06:59.566Z"
      },
      {
        "duration": 103,
        "start_time": "2024-02-15T09:06:59.691Z"
      },
      {
        "duration": 57,
        "start_time": "2024-02-15T09:06:59.797Z"
      },
      {
        "duration": 97,
        "start_time": "2024-02-15T09:06:59.856Z"
      },
      {
        "duration": 106,
        "start_time": "2024-02-15T09:06:59.954Z"
      },
      {
        "duration": 96,
        "start_time": "2024-02-15T09:07:00.061Z"
      },
      {
        "duration": 31,
        "start_time": "2024-02-15T09:07:00.158Z"
      },
      {
        "duration": 85,
        "start_time": "2024-02-15T09:07:00.191Z"
      },
      {
        "duration": 397,
        "start_time": "2024-02-15T09:07:00.277Z"
      },
      {
        "duration": 125,
        "start_time": "2024-02-15T09:07:00.675Z"
      },
      {
        "duration": 63,
        "start_time": "2024-02-15T09:07:00.801Z"
      },
      {
        "duration": 626,
        "start_time": "2024-02-15T09:07:00.865Z"
      },
      {
        "duration": 140,
        "start_time": "2024-02-15T09:07:01.493Z"
      },
      {
        "duration": 122,
        "start_time": "2024-02-15T09:07:01.635Z"
      },
      {
        "duration": 649,
        "start_time": "2024-02-15T09:07:01.759Z"
      },
      {
        "duration": 151,
        "start_time": "2024-02-15T09:07:02.409Z"
      },
      {
        "duration": 89,
        "start_time": "2024-02-15T09:07:02.561Z"
      },
      {
        "duration": 1931,
        "start_time": "2024-02-15T09:07:02.651Z"
      },
      {
        "duration": 33,
        "start_time": "2024-02-15T09:07:04.586Z"
      },
      {
        "duration": 119,
        "start_time": "2024-02-15T09:07:04.621Z"
      },
      {
        "duration": 71,
        "start_time": "2024-02-15T09:07:04.743Z"
      },
      {
        "duration": 673,
        "start_time": "2024-02-15T09:07:04.816Z"
      },
      {
        "duration": 653,
        "start_time": "2024-02-15T09:07:05.491Z"
      },
      {
        "duration": 127,
        "start_time": "2024-02-15T09:07:06.146Z"
      },
      {
        "duration": 51,
        "start_time": "2024-02-15T09:07:06.275Z"
      },
      {
        "duration": 6,
        "start_time": "2024-02-15T09:07:06.328Z"
      },
      {
        "duration": 3,
        "start_time": "2024-02-15T09:07:06.335Z"
      },
      {
        "duration": 5043,
        "start_time": "2024-02-15T09:07:06.339Z"
      },
      {
        "duration": 89,
        "start_time": "2024-02-15T09:07:11.388Z"
      },
      {
        "duration": 16,
        "start_time": "2024-02-15T09:07:34.106Z"
      },
      {
        "duration": 1680,
        "start_time": "2024-02-15T12:50:36.682Z"
      },
      {
        "duration": 1165,
        "start_time": "2024-02-15T12:50:38.363Z"
      },
      {
        "duration": 146,
        "start_time": "2024-02-15T12:50:39.530Z"
      },
      {
        "duration": 305,
        "start_time": "2024-02-15T12:50:39.679Z"
      },
      {
        "duration": 104,
        "start_time": "2024-02-15T12:50:40.542Z"
      },
      {
        "duration": 319,
        "start_time": "2024-02-15T12:50:41.135Z"
      },
      {
        "duration": 613,
        "start_time": "2024-02-15T12:50:41.456Z"
      },
      {
        "duration": 138,
        "start_time": "2024-02-15T12:50:42.071Z"
      },
      {
        "duration": 102,
        "start_time": "2024-02-15T12:50:43.235Z"
      },
      {
        "duration": 73,
        "start_time": "2024-02-15T12:50:43.448Z"
      },
      {
        "duration": 79,
        "start_time": "2024-02-15T12:50:44.129Z"
      },
      {
        "duration": 115,
        "start_time": "2024-02-15T12:50:44.774Z"
      },
      {
        "duration": 88,
        "start_time": "2024-02-15T12:50:45.553Z"
      },
      {
        "duration": 29,
        "start_time": "2024-02-15T12:50:45.784Z"
      },
      {
        "duration": 36,
        "start_time": "2024-02-15T12:50:46.690Z"
      },
      {
        "duration": 415,
        "start_time": "2024-02-15T12:50:47.014Z"
      },
      {
        "duration": 189,
        "start_time": "2024-02-15T12:50:51.922Z"
      },
      {
        "duration": 48,
        "start_time": "2024-02-15T12:50:52.338Z"
      },
      {
        "duration": 579,
        "start_time": "2024-02-15T12:50:53.144Z"
      },
      {
        "duration": 132,
        "start_time": "2024-02-15T12:50:54.173Z"
      },
      {
        "duration": 113,
        "start_time": "2024-02-15T12:50:55.141Z"
      },
      {
        "duration": 633,
        "start_time": "2024-02-15T12:51:01.661Z"
      },
      {
        "duration": 136,
        "start_time": "2024-02-15T12:51:02.931Z"
      },
      {
        "duration": 87,
        "start_time": "2024-02-15T12:51:03.975Z"
      },
      {
        "duration": 1949,
        "start_time": "2024-02-15T12:51:05.583Z"
      },
      {
        "duration": 37,
        "start_time": "2024-02-15T12:51:09.387Z"
      },
      {
        "duration": 109,
        "start_time": "2024-02-15T12:51:10.618Z"
      },
      {
        "duration": 63,
        "start_time": "2024-02-15T12:51:10.944Z"
      },
      {
        "duration": 646,
        "start_time": "2024-02-15T12:51:11.252Z"
      },
      {
        "duration": 646,
        "start_time": "2024-02-15T12:51:15.730Z"
      },
      {
        "duration": 117,
        "start_time": "2024-02-15T12:51:18.395Z"
      },
      {
        "duration": 35,
        "start_time": "2024-02-15T12:51:40.580Z"
      },
      {
        "duration": 6,
        "start_time": "2024-02-15T12:51:41.003Z"
      },
      {
        "duration": 3,
        "start_time": "2024-02-15T12:51:42.351Z"
      },
      {
        "duration": 4996,
        "start_time": "2024-02-15T12:51:42.803Z"
      },
      {
        "duration": 97,
        "start_time": "2024-02-15T12:51:47.801Z"
      },
      {
        "duration": 78,
        "start_time": "2024-02-15T12:53:47.027Z"
      },
      {
        "duration": 556,
        "start_time": "2024-02-15T12:53:53.508Z"
      },
      {
        "duration": 448,
        "start_time": "2024-02-15T12:54:19.520Z"
      },
      {
        "duration": 15,
        "start_time": "2024-02-15T12:54:56.183Z"
      },
      {
        "duration": 49,
        "start_time": "2024-02-15T12:54:58.206Z"
      },
      {
        "duration": 7,
        "start_time": "2024-02-15T12:55:01.985Z"
      },
      {
        "duration": 334,
        "start_time": "2024-02-15T12:55:03.624Z"
      },
      {
        "duration": 3,
        "start_time": "2024-02-15T12:55:06.200Z"
      },
      {
        "duration": 4252,
        "start_time": "2024-02-15T12:55:06.864Z"
      },
      {
        "duration": 31,
        "start_time": "2024-02-15T12:55:11.118Z"
      },
      {
        "duration": 7,
        "start_time": "2024-02-15T12:55:11.151Z"
      },
      {
        "duration": 23,
        "start_time": "2024-02-15T12:55:11.160Z"
      },
      {
        "duration": 350,
        "start_time": "2024-02-15T12:55:12.651Z"
      },
      {
        "duration": 21,
        "start_time": "2024-02-15T12:55:15.836Z"
      },
      {
        "duration": 18,
        "start_time": "2024-02-15T12:55:16.849Z"
      },
      {
        "duration": 5,
        "start_time": "2024-02-15T12:55:18.520Z"
      },
      {
        "duration": 16,
        "start_time": "2024-02-15T12:55:22.167Z"
      },
      {
        "duration": 19,
        "start_time": "2024-02-15T12:55:22.747Z"
      },
      {
        "duration": 76,
        "start_time": "2024-02-15T12:55:26.237Z"
      },
      {
        "duration": 11,
        "start_time": "2024-02-15T12:55:27.368Z"
      },
      {
        "duration": 137,
        "start_time": "2024-02-15T12:55:31.364Z"
      },
      {
        "duration": 812,
        "start_time": "2024-02-15T12:58:05.668Z"
      },
      {
        "duration": 144,
        "start_time": "2024-02-15T12:58:06.482Z"
      },
      {
        "duration": 223,
        "start_time": "2024-02-15T12:58:06.628Z"
      },
      {
        "duration": 97,
        "start_time": "2024-02-15T12:58:06.853Z"
      },
      {
        "duration": 244,
        "start_time": "2024-02-15T12:58:07.201Z"
      },
      {
        "duration": 511,
        "start_time": "2024-02-15T12:58:08.020Z"
      },
      {
        "duration": 120,
        "start_time": "2024-02-15T12:58:08.650Z"
      },
      {
        "duration": 100,
        "start_time": "2024-02-15T12:58:10.381Z"
      },
      {
        "duration": 71,
        "start_time": "2024-02-15T12:58:11.038Z"
      },
      {
        "duration": 76,
        "start_time": "2024-02-15T12:58:11.699Z"
      },
      {
        "duration": 89,
        "start_time": "2024-02-15T12:58:12.923Z"
      },
      {
        "duration": 85,
        "start_time": "2024-02-15T12:58:14.724Z"
      },
      {
        "duration": 22,
        "start_time": "2024-02-15T12:58:15.792Z"
      },
      {
        "duration": 35,
        "start_time": "2024-02-15T12:58:16.964Z"
      },
      {
        "duration": 320,
        "start_time": "2024-02-15T12:58:17.583Z"
      },
      {
        "duration": 111,
        "start_time": "2024-02-15T12:58:22.002Z"
      },
      {
        "duration": 47,
        "start_time": "2024-02-15T12:58:22.397Z"
      },
      {
        "duration": 569,
        "start_time": "2024-02-15T12:58:25.331Z"
      },
      {
        "duration": 128,
        "start_time": "2024-02-15T12:58:26.837Z"
      },
      {
        "duration": 111,
        "start_time": "2024-02-15T12:58:29.812Z"
      },
      {
        "duration": 624,
        "start_time": "2024-02-15T12:58:31.922Z"
      },
      {
        "duration": 103,
        "start_time": "2024-02-15T12:58:32.753Z"
      },
      {
        "duration": 80,
        "start_time": "2024-02-15T12:58:34.515Z"
      },
      {
        "duration": 1968,
        "start_time": "2024-02-15T12:58:36.306Z"
      },
      {
        "duration": 26,
        "start_time": "2024-02-15T12:58:38.276Z"
      },
      {
        "duration": 106,
        "start_time": "2024-02-15T12:58:42.162Z"
      },
      {
        "duration": 77,
        "start_time": "2024-02-15T12:58:45.440Z"
      },
      {
        "duration": 641,
        "start_time": "2024-02-15T12:58:48.134Z"
      },
      {
        "duration": 572,
        "start_time": "2024-02-15T12:58:58.587Z"
      },
      {
        "duration": 179,
        "start_time": "2024-02-15T12:59:30.338Z"
      },
      {
        "duration": 14,
        "start_time": "2024-02-15T12:59:37.939Z"
      },
      {
        "duration": 33,
        "start_time": "2024-02-15T12:59:48.950Z"
      },
      {
        "duration": 6,
        "start_time": "2024-02-15T12:59:49.480Z"
      },
      {
        "duration": 3,
        "start_time": "2024-02-15T12:59:50.865Z"
      },
      {
        "duration": 4963,
        "start_time": "2024-02-15T12:59:51.079Z"
      },
      {
        "duration": 125,
        "start_time": "2024-02-15T12:59:56.044Z"
      },
      {
        "duration": 450,
        "start_time": "2024-02-15T12:59:56.170Z"
      },
      {
        "duration": 14,
        "start_time": "2024-02-15T12:59:56.622Z"
      },
      {
        "duration": 56,
        "start_time": "2024-02-15T12:59:56.637Z"
      },
      {
        "duration": 5,
        "start_time": "2024-02-15T12:59:56.695Z"
      },
      {
        "duration": 378,
        "start_time": "2024-02-15T12:59:56.714Z"
      },
      {
        "duration": 4,
        "start_time": "2024-02-15T12:59:57.094Z"
      },
      {
        "duration": 4343,
        "start_time": "2024-02-15T12:59:57.099Z"
      },
      {
        "duration": 34,
        "start_time": "2024-02-15T13:00:01.444Z"
      },
      {
        "duration": 24,
        "start_time": "2024-02-15T13:00:01.480Z"
      },
      {
        "duration": 60,
        "start_time": "2024-02-15T13:00:01.506Z"
      },
      {
        "duration": 337,
        "start_time": "2024-02-15T13:00:01.568Z"
      },
      {
        "duration": 21,
        "start_time": "2024-02-15T13:00:01.915Z"
      },
      {
        "duration": 24,
        "start_time": "2024-02-15T13:00:01.937Z"
      },
      {
        "duration": 5,
        "start_time": "2024-02-15T13:00:04.703Z"
      },
      {
        "duration": 16,
        "start_time": "2024-02-15T13:00:05.110Z"
      },
      {
        "duration": 21,
        "start_time": "2024-02-15T13:00:05.689Z"
      },
      {
        "duration": 77,
        "start_time": "2024-02-15T13:00:08.956Z"
      },
      {
        "duration": 11,
        "start_time": "2024-02-15T13:00:09.306Z"
      },
      {
        "duration": 139,
        "start_time": "2024-02-15T13:00:09.748Z"
      },
      {
        "duration": 22,
        "start_time": "2024-02-15T13:00:15.391Z"
      },
      {
        "duration": 71,
        "start_time": "2024-02-15T13:00:16.612Z"
      },
      {
        "duration": 4,
        "start_time": "2024-02-15T13:02:11.767Z"
      },
      {
        "duration": 105,
        "start_time": "2024-02-15T13:10:37.553Z"
      },
      {
        "duration": 96,
        "start_time": "2024-02-15T13:10:44.153Z"
      },
      {
        "duration": 92,
        "start_time": "2024-02-15T13:11:03.763Z"
      },
      {
        "duration": 2,
        "start_time": "2024-02-15T13:11:10.388Z"
      },
      {
        "duration": 88,
        "start_time": "2024-02-15T13:11:11.475Z"
      },
      {
        "duration": 521,
        "start_time": "2024-02-15T13:11:14.660Z"
      },
      {
        "duration": 11,
        "start_time": "2024-02-15T13:11:24.345Z"
      },
      {
        "duration": 4,
        "start_time": "2024-02-15T13:11:32.202Z"
      },
      {
        "duration": 94,
        "start_time": "2024-02-15T13:12:34.190Z"
      },
      {
        "duration": 90,
        "start_time": "2024-02-15T13:12:38.959Z"
      },
      {
        "duration": 766,
        "start_time": "2024-02-15T13:13:44.818Z"
      },
      {
        "duration": 11,
        "start_time": "2024-02-15T13:16:08.153Z"
      },
      {
        "duration": 12,
        "start_time": "2024-02-15T13:17:21.647Z"
      },
      {
        "duration": 9,
        "start_time": "2024-02-15T13:18:00.399Z"
      },
      {
        "duration": 12,
        "start_time": "2024-02-15T13:21:30.952Z"
      },
      {
        "duration": 59,
        "start_time": "2024-02-15T13:23:09.492Z"
      },
      {
        "duration": 71,
        "start_time": "2024-02-15T13:23:20.525Z"
      },
      {
        "duration": 251,
        "start_time": "2024-02-15T13:23:35.188Z"
      },
      {
        "duration": 4,
        "start_time": "2024-02-15T13:23:47.170Z"
      },
      {
        "duration": 9,
        "start_time": "2024-02-15T13:25:09.052Z"
      },
      {
        "duration": 8,
        "start_time": "2024-02-15T13:25:14.493Z"
      },
      {
        "duration": 9,
        "start_time": "2024-02-15T13:25:17.668Z"
      },
      {
        "duration": 5,
        "start_time": "2024-02-15T13:25:45.546Z"
      },
      {
        "duration": 9,
        "start_time": "2024-02-15T13:27:18.595Z"
      },
      {
        "duration": 9,
        "start_time": "2024-02-15T13:27:34.103Z"
      },
      {
        "duration": 9,
        "start_time": "2024-02-15T13:27:38.132Z"
      },
      {
        "duration": 10,
        "start_time": "2024-02-15T13:29:45.676Z"
      },
      {
        "duration": 4,
        "start_time": "2024-02-15T13:31:10.712Z"
      },
      {
        "duration": 5888,
        "start_time": "2024-02-15T13:31:28.772Z"
      },
      {
        "duration": 5797,
        "start_time": "2024-02-15T13:32:34.362Z"
      },
      {
        "duration": 85,
        "start_time": "2024-02-15T13:33:17.938Z"
      },
      {
        "duration": 75,
        "start_time": "2024-02-15T13:33:42.438Z"
      },
      {
        "duration": 6283,
        "start_time": "2024-02-15T13:33:55.947Z"
      },
      {
        "duration": 8,
        "start_time": "2024-02-15T13:36:02.629Z"
      },
      {
        "duration": 1180,
        "start_time": "2024-02-15T13:36:07.561Z"
      },
      {
        "duration": 250,
        "start_time": "2024-02-15T13:38:32.261Z"
      },
      {
        "duration": 268,
        "start_time": "2024-02-15T13:39:09.699Z"
      },
      {
        "duration": 718,
        "start_time": "2024-02-15T13:41:57.890Z"
      },
      {
        "duration": 751,
        "start_time": "2024-02-15T13:43:16.174Z"
      },
      {
        "duration": 904,
        "start_time": "2024-02-15T13:45:13.824Z"
      },
      {
        "duration": 1180,
        "start_time": "2024-02-15T13:45:51.509Z"
      },
      {
        "duration": 1204,
        "start_time": "2024-02-15T13:46:03.829Z"
      },
      {
        "duration": 1375,
        "start_time": "2024-02-15T13:46:12.268Z"
      },
      {
        "duration": 856,
        "start_time": "2024-02-15T13:47:23.152Z"
      },
      {
        "duration": 68,
        "start_time": "2024-02-15T13:50:16.082Z"
      },
      {
        "duration": 1849,
        "start_time": "2024-02-15T13:50:22.524Z"
      },
      {
        "duration": 46,
        "start_time": "2024-02-15T13:51:41.177Z"
      },
      {
        "duration": 1345,
        "start_time": "2024-02-15T13:51:46.652Z"
      },
      {
        "duration": 1097,
        "start_time": "2024-02-15T13:51:47.999Z"
      },
      {
        "duration": 152,
        "start_time": "2024-02-15T13:51:49.097Z"
      },
      {
        "duration": 297,
        "start_time": "2024-02-15T13:51:49.250Z"
      },
      {
        "duration": 107,
        "start_time": "2024-02-15T13:51:49.549Z"
      },
      {
        "duration": 324,
        "start_time": "2024-02-15T13:51:49.765Z"
      },
      {
        "duration": 660,
        "start_time": "2024-02-15T13:51:50.091Z"
      },
      {
        "duration": 128,
        "start_time": "2024-02-15T13:51:50.752Z"
      },
      {
        "duration": 94,
        "start_time": "2024-02-15T13:51:51.323Z"
      },
      {
        "duration": 78,
        "start_time": "2024-02-15T13:51:51.532Z"
      },
      {
        "duration": 76,
        "start_time": "2024-02-15T13:51:52.046Z"
      },
      {
        "duration": 95,
        "start_time": "2024-02-15T13:51:52.429Z"
      },
      {
        "duration": 84,
        "start_time": "2024-02-15T13:51:52.959Z"
      },
      {
        "duration": 25,
        "start_time": "2024-02-15T13:51:53.402Z"
      },
      {
        "duration": 36,
        "start_time": "2024-02-15T13:51:53.998Z"
      },
      {
        "duration": 394,
        "start_time": "2024-02-15T13:51:54.291Z"
      },
      {
        "duration": 173,
        "start_time": "2024-02-15T13:51:55.259Z"
      },
      {
        "duration": 66,
        "start_time": "2024-02-15T13:51:55.467Z"
      },
      {
        "duration": 594,
        "start_time": "2024-02-15T13:51:55.865Z"
      },
      {
        "duration": 129,
        "start_time": "2024-02-15T13:51:56.461Z"
      },
      {
        "duration": 113,
        "start_time": "2024-02-15T13:51:56.596Z"
      },
      {
        "duration": 622,
        "start_time": "2024-02-15T13:51:56.792Z"
      },
      {
        "duration": 102,
        "start_time": "2024-02-15T13:51:57.416Z"
      },
      {
        "duration": 80,
        "start_time": "2024-02-15T13:51:57.519Z"
      },
      {
        "duration": 1946,
        "start_time": "2024-02-15T13:51:57.808Z"
      },
      {
        "duration": 25,
        "start_time": "2024-02-15T13:51:59.756Z"
      },
      {
        "duration": 123,
        "start_time": "2024-02-15T13:51:59.783Z"
      },
      {
        "duration": 65,
        "start_time": "2024-02-15T13:51:59.908Z"
      },
      {
        "duration": 672,
        "start_time": "2024-02-15T13:51:59.975Z"
      },
      {
        "duration": 625,
        "start_time": "2024-02-15T13:52:00.649Z"
      },
      {
        "duration": 178,
        "start_time": "2024-02-15T13:52:01.276Z"
      },
      {
        "duration": 41,
        "start_time": "2024-02-15T13:52:01.455Z"
      },
      {
        "duration": 6,
        "start_time": "2024-02-15T13:52:01.743Z"
      },
      {
        "duration": 4,
        "start_time": "2024-02-15T13:52:02.171Z"
      },
      {
        "duration": 4866,
        "start_time": "2024-02-15T13:52:02.404Z"
      },
      {
        "duration": 102,
        "start_time": "2024-02-15T13:52:07.272Z"
      },
      {
        "duration": 547,
        "start_time": "2024-02-15T13:52:07.376Z"
      },
      {
        "duration": 14,
        "start_time": "2024-02-15T13:52:07.926Z"
      },
      {
        "duration": 54,
        "start_time": "2024-02-15T13:52:07.941Z"
      },
      {
        "duration": 6,
        "start_time": "2024-02-15T13:52:08.014Z"
      },
      {
        "duration": 357,
        "start_time": "2024-02-15T13:52:08.022Z"
      },
      {
        "duration": 3,
        "start_time": "2024-02-15T13:52:08.380Z"
      },
      {
        "duration": 4181,
        "start_time": "2024-02-15T13:52:08.464Z"
      },
      {
        "duration": 31,
        "start_time": "2024-02-15T13:52:12.647Z"
      },
      {
        "duration": 5,
        "start_time": "2024-02-15T13:52:12.680Z"
      },
      {
        "duration": 39,
        "start_time": "2024-02-15T13:52:12.687Z"
      },
      {
        "duration": 335,
        "start_time": "2024-02-15T13:52:12.728Z"
      },
      {
        "duration": 19,
        "start_time": "2024-02-15T13:52:13.064Z"
      },
      {
        "duration": 35,
        "start_time": "2024-02-15T13:52:13.084Z"
      },
      {
        "duration": 5,
        "start_time": "2024-02-15T13:52:13.121Z"
      },
      {
        "duration": 21,
        "start_time": "2024-02-15T13:52:13.128Z"
      },
      {
        "duration": 19,
        "start_time": "2024-02-15T13:52:13.466Z"
      },
      {
        "duration": 76,
        "start_time": "2024-02-15T13:52:14.873Z"
      },
      {
        "duration": 11,
        "start_time": "2024-02-15T13:52:15.060Z"
      },
      {
        "duration": 171,
        "start_time": "2024-02-15T13:52:15.531Z"
      },
      {
        "duration": 15,
        "start_time": "2024-02-15T13:52:17.425Z"
      },
      {
        "duration": 76,
        "start_time": "2024-02-15T13:52:18.242Z"
      },
      {
        "duration": 2,
        "start_time": "2024-02-15T13:52:19.835Z"
      },
      {
        "duration": 86,
        "start_time": "2024-02-15T13:52:20.767Z"
      },
      {
        "duration": 776,
        "start_time": "2024-02-15T13:52:21.633Z"
      },
      {
        "duration": 4804,
        "start_time": "2024-02-15T13:52:38.573Z"
      },
      {
        "duration": 4827,
        "start_time": "2024-02-15T13:53:03.548Z"
      },
      {
        "duration": 82,
        "start_time": "2024-02-15T13:57:30.773Z"
      },
      {
        "duration": 4,
        "start_time": "2024-02-15T13:58:13.080Z"
      },
      {
        "duration": 12,
        "start_time": "2024-02-15T13:58:58.394Z"
      },
      {
        "duration": 3,
        "start_time": "2024-02-15T14:02:34.762Z"
      },
      {
        "duration": 3,
        "start_time": "2024-02-15T14:02:45.821Z"
      },
      {
        "duration": 1427,
        "start_time": "2024-02-15T14:04:33.698Z"
      },
      {
        "duration": 1118,
        "start_time": "2024-02-15T14:04:35.127Z"
      },
      {
        "duration": 149,
        "start_time": "2024-02-15T14:04:36.247Z"
      },
      {
        "duration": 288,
        "start_time": "2024-02-15T14:04:36.398Z"
      },
      {
        "duration": 109,
        "start_time": "2024-02-15T14:04:36.687Z"
      },
      {
        "duration": 322,
        "start_time": "2024-02-15T14:04:36.798Z"
      },
      {
        "duration": 594,
        "start_time": "2024-02-15T14:04:37.122Z"
      },
      {
        "duration": 122,
        "start_time": "2024-02-15T14:04:37.718Z"
      },
      {
        "duration": 102,
        "start_time": "2024-02-15T14:04:38.239Z"
      },
      {
        "duration": 55,
        "start_time": "2024-02-15T14:04:38.422Z"
      },
      {
        "duration": 82,
        "start_time": "2024-02-15T14:04:38.813Z"
      },
      {
        "duration": 92,
        "start_time": "2024-02-15T14:04:39.203Z"
      },
      {
        "duration": 84,
        "start_time": "2024-02-15T14:04:39.805Z"
      },
      {
        "duration": 27,
        "start_time": "2024-02-15T14:04:40.292Z"
      },
      {
        "duration": 35,
        "start_time": "2024-02-15T14:04:40.873Z"
      },
      {
        "duration": 409,
        "start_time": "2024-02-15T14:04:41.099Z"
      },
      {
        "duration": 177,
        "start_time": "2024-02-15T14:04:42.032Z"
      },
      {
        "duration": 69,
        "start_time": "2024-02-15T14:04:42.224Z"
      },
      {
        "duration": 576,
        "start_time": "2024-02-15T14:04:42.607Z"
      },
      {
        "duration": 121,
        "start_time": "2024-02-15T14:04:43.184Z"
      },
      {
        "duration": 111,
        "start_time": "2024-02-15T14:04:43.321Z"
      },
      {
        "duration": 607,
        "start_time": "2024-02-15T14:04:43.546Z"
      },
      {
        "duration": 106,
        "start_time": "2024-02-15T14:04:44.155Z"
      },
      {
        "duration": 97,
        "start_time": "2024-02-15T14:04:44.263Z"
      },
      {
        "duration": 1897,
        "start_time": "2024-02-15T14:04:44.630Z"
      },
      {
        "duration": 25,
        "start_time": "2024-02-15T14:04:46.529Z"
      },
      {
        "duration": 127,
        "start_time": "2024-02-15T14:04:46.555Z"
      },
      {
        "duration": 65,
        "start_time": "2024-02-15T14:04:46.684Z"
      },
      {
        "duration": 629,
        "start_time": "2024-02-15T14:04:46.750Z"
      },
      {
        "duration": 597,
        "start_time": "2024-02-15T14:04:47.380Z"
      },
      {
        "duration": 180,
        "start_time": "2024-02-15T14:04:47.979Z"
      },
      {
        "duration": 54,
        "start_time": "2024-02-15T14:04:48.160Z"
      },
      {
        "duration": 7,
        "start_time": "2024-02-15T14:04:48.216Z"
      },
      {
        "duration": 4,
        "start_time": "2024-02-15T14:04:48.225Z"
      },
      {
        "duration": 4780,
        "start_time": "2024-02-15T14:04:48.230Z"
      },
      {
        "duration": 109,
        "start_time": "2024-02-15T14:04:53.011Z"
      },
      {
        "duration": 537,
        "start_time": "2024-02-15T14:04:53.123Z"
      },
      {
        "duration": 15,
        "start_time": "2024-02-15T14:04:53.661Z"
      },
      {
        "duration": 77,
        "start_time": "2024-02-15T14:04:53.677Z"
      },
      {
        "duration": 6,
        "start_time": "2024-02-15T14:04:53.757Z"
      },
      {
        "duration": 357,
        "start_time": "2024-02-15T14:04:53.765Z"
      },
      {
        "duration": 3,
        "start_time": "2024-02-15T14:04:54.124Z"
      },
      {
        "duration": 4072,
        "start_time": "2024-02-15T14:04:54.128Z"
      },
      {
        "duration": 45,
        "start_time": "2024-02-15T14:04:58.202Z"
      },
      {
        "duration": 5,
        "start_time": "2024-02-15T14:04:58.250Z"
      },
      {
        "duration": 25,
        "start_time": "2024-02-15T14:04:58.256Z"
      },
      {
        "duration": 349,
        "start_time": "2024-02-15T14:04:58.282Z"
      },
      {
        "duration": 19,
        "start_time": "2024-02-15T14:04:58.632Z"
      },
      {
        "duration": 19,
        "start_time": "2024-02-15T14:04:58.652Z"
      },
      {
        "duration": 5,
        "start_time": "2024-02-15T14:04:58.672Z"
      },
      {
        "duration": 41,
        "start_time": "2024-02-15T14:04:58.679Z"
      },
      {
        "duration": 19,
        "start_time": "2024-02-15T14:04:58.721Z"
      },
      {
        "duration": 94,
        "start_time": "2024-02-15T14:04:58.742Z"
      },
      {
        "duration": 12,
        "start_time": "2024-02-15T14:04:58.839Z"
      },
      {
        "duration": 149,
        "start_time": "2024-02-15T14:04:58.853Z"
      },
      {
        "duration": 13,
        "start_time": "2024-02-15T14:05:06.529Z"
      },
      {
        "duration": 75,
        "start_time": "2024-02-15T14:05:06.991Z"
      },
      {
        "duration": 3,
        "start_time": "2024-02-15T14:05:11.198Z"
      },
      {
        "duration": 90,
        "start_time": "2024-02-15T14:05:11.758Z"
      },
      {
        "duration": 3,
        "start_time": "2024-02-15T14:05:17.583Z"
      },
      {
        "duration": 726,
        "start_time": "2024-02-15T14:05:19.360Z"
      },
      {
        "duration": 855,
        "start_time": "2024-02-15T14:05:30.119Z"
      },
      {
        "duration": 816,
        "start_time": "2024-02-15T14:10:14.765Z"
      },
      {
        "duration": 12,
        "start_time": "2024-02-15T14:10:55.308Z"
      },
      {
        "duration": 3,
        "start_time": "2024-02-15T14:11:29.294Z"
      },
      {
        "duration": 11,
        "start_time": "2024-02-15T14:11:35.771Z"
      },
      {
        "duration": 2139,
        "start_time": "2024-02-15T14:11:45.143Z"
      },
      {
        "duration": 11,
        "start_time": "2024-02-15T14:13:08.890Z"
      },
      {
        "duration": 767,
        "start_time": "2024-02-15T14:13:43.383Z"
      },
      {
        "duration": 769,
        "start_time": "2024-02-15T14:14:26.452Z"
      },
      {
        "duration": 1658,
        "start_time": "2024-02-15T14:18:15.369Z"
      },
      {
        "duration": 1678,
        "start_time": "2024-02-15T14:18:43.815Z"
      },
      {
        "duration": 1445,
        "start_time": "2024-02-15T14:19:50.495Z"
      },
      {
        "duration": 2499,
        "start_time": "2024-02-15T14:23:13.625Z"
      },
      {
        "duration": 4,
        "start_time": "2024-02-15T14:24:10.002Z"
      },
      {
        "duration": 13,
        "start_time": "2024-02-15T14:24:46.726Z"
      },
      {
        "duration": 18,
        "start_time": "2024-02-15T14:25:21.536Z"
      },
      {
        "duration": 79,
        "start_time": "2024-02-15T14:25:49.907Z"
      },
      {
        "duration": 3,
        "start_time": "2024-02-15T14:25:50.548Z"
      },
      {
        "duration": 739,
        "start_time": "2024-02-15T14:25:51.440Z"
      },
      {
        "duration": 10,
        "start_time": "2024-02-15T14:25:53.216Z"
      },
      {
        "duration": 2421,
        "start_time": "2024-02-15T14:25:53.929Z"
      },
      {
        "duration": 13,
        "start_time": "2024-02-15T14:26:02.056Z"
      },
      {
        "duration": 180492,
        "start_time": "2024-02-15T14:31:23.041Z"
      },
      {
        "duration": 3,
        "start_time": "2024-02-15T14:34:33.901Z"
      },
      {
        "duration": 18970,
        "start_time": "2024-02-15T14:35:57.360Z"
      },
      {
        "duration": 11,
        "start_time": "2024-02-15T14:37:38.957Z"
      },
      {
        "duration": 14847,
        "start_time": "2024-02-15T14:38:24.969Z"
      },
      {
        "duration": 49,
        "start_time": "2024-02-15T14:50:28.941Z"
      },
      {
        "duration": 1433,
        "start_time": "2024-02-15T14:50:41.611Z"
      },
      {
        "duration": 1091,
        "start_time": "2024-02-15T14:50:43.046Z"
      },
      {
        "duration": 140,
        "start_time": "2024-02-15T14:50:44.139Z"
      },
      {
        "duration": 283,
        "start_time": "2024-02-15T14:50:44.281Z"
      },
      {
        "duration": 101,
        "start_time": "2024-02-15T14:50:44.566Z"
      },
      {
        "duration": 319,
        "start_time": "2024-02-15T14:50:44.668Z"
      },
      {
        "duration": 617,
        "start_time": "2024-02-15T14:50:44.989Z"
      },
      {
        "duration": 126,
        "start_time": "2024-02-15T14:50:45.607Z"
      },
      {
        "duration": 108,
        "start_time": "2024-02-15T14:50:45.737Z"
      },
      {
        "duration": 57,
        "start_time": "2024-02-15T14:50:45.898Z"
      },
      {
        "duration": 78,
        "start_time": "2024-02-15T14:50:46.294Z"
      },
      {
        "duration": 91,
        "start_time": "2024-02-15T14:50:46.690Z"
      },
      {
        "duration": 85,
        "start_time": "2024-02-15T14:50:47.274Z"
      },
      {
        "duration": 20,
        "start_time": "2024-02-15T14:50:47.462Z"
      },
      {
        "duration": 35,
        "start_time": "2024-02-15T14:50:48.185Z"
      },
      {
        "duration": 397,
        "start_time": "2024-02-15T14:50:48.375Z"
      },
      {
        "duration": 171,
        "start_time": "2024-02-15T14:50:49.424Z"
      },
      {
        "duration": 44,
        "start_time": "2024-02-15T14:50:49.597Z"
      },
      {
        "duration": 566,
        "start_time": "2024-02-15T14:50:50.049Z"
      },
      {
        "duration": 125,
        "start_time": "2024-02-15T14:50:50.617Z"
      },
      {
        "duration": 114,
        "start_time": "2024-02-15T14:50:50.851Z"
      },
      {
        "duration": 646,
        "start_time": "2024-02-15T14:50:51.062Z"
      },
      {
        "duration": 89,
        "start_time": "2024-02-15T14:50:51.710Z"
      },
      {
        "duration": 89,
        "start_time": "2024-02-15T14:50:51.802Z"
      },
      {
        "duration": 1887,
        "start_time": "2024-02-15T14:50:52.126Z"
      },
      {
        "duration": 25,
        "start_time": "2024-02-15T14:50:54.015Z"
      },
      {
        "duration": 121,
        "start_time": "2024-02-15T14:50:54.042Z"
      },
      {
        "duration": 71,
        "start_time": "2024-02-15T14:50:54.165Z"
      },
      {
        "duration": 672,
        "start_time": "2024-02-15T14:50:54.238Z"
      },
      {
        "duration": 603,
        "start_time": "2024-02-15T14:50:54.912Z"
      },
      {
        "duration": 171,
        "start_time": "2024-02-15T14:50:55.516Z"
      },
      {
        "duration": 46,
        "start_time": "2024-02-15T14:50:55.689Z"
      },
      {
        "duration": 6,
        "start_time": "2024-02-15T14:50:55.737Z"
      },
      {
        "duration": 5,
        "start_time": "2024-02-15T14:50:55.744Z"
      },
      {
        "duration": 4884,
        "start_time": "2024-02-15T14:50:55.751Z"
      },
      {
        "duration": 132,
        "start_time": "2024-02-15T14:51:00.637Z"
      },
      {
        "duration": 558,
        "start_time": "2024-02-15T14:51:00.771Z"
      },
      {
        "duration": 14,
        "start_time": "2024-02-15T14:51:01.332Z"
      },
      {
        "duration": 98,
        "start_time": "2024-02-15T14:51:01.348Z"
      },
      {
        "duration": 58,
        "start_time": "2024-02-15T14:51:01.448Z"
      },
      {
        "duration": 409,
        "start_time": "2024-02-15T14:51:01.508Z"
      },
      {
        "duration": 4,
        "start_time": "2024-02-15T14:51:01.919Z"
      },
      {
        "duration": 4163,
        "start_time": "2024-02-15T14:51:01.925Z"
      },
      {
        "duration": 43,
        "start_time": "2024-02-15T14:51:06.090Z"
      },
      {
        "duration": 5,
        "start_time": "2024-02-15T14:51:06.134Z"
      },
      {
        "duration": 34,
        "start_time": "2024-02-15T14:51:06.140Z"
      },
      {
        "duration": 343,
        "start_time": "2024-02-15T14:51:06.176Z"
      },
      {
        "duration": 25,
        "start_time": "2024-02-15T14:51:06.521Z"
      },
      {
        "duration": 35,
        "start_time": "2024-02-15T14:51:06.548Z"
      },
      {
        "duration": 5,
        "start_time": "2024-02-15T14:51:06.585Z"
      },
      {
        "duration": 25,
        "start_time": "2024-02-15T14:51:06.592Z"
      },
      {
        "duration": 18,
        "start_time": "2024-02-15T14:51:06.619Z"
      },
      {
        "duration": 93,
        "start_time": "2024-02-15T14:51:06.639Z"
      },
      {
        "duration": 13,
        "start_time": "2024-02-15T14:51:06.735Z"
      },
      {
        "duration": 142,
        "start_time": "2024-02-15T14:51:06.808Z"
      },
      {
        "duration": 13,
        "start_time": "2024-02-15T14:51:08.553Z"
      },
      {
        "duration": 71,
        "start_time": "2024-02-15T14:51:08.843Z"
      },
      {
        "duration": 2,
        "start_time": "2024-02-15T14:51:10.463Z"
      },
      {
        "duration": 87,
        "start_time": "2024-02-15T14:51:10.814Z"
      },
      {
        "duration": 3,
        "start_time": "2024-02-15T14:51:11.077Z"
      },
      {
        "duration": 753,
        "start_time": "2024-02-15T14:51:11.621Z"
      },
      {
        "duration": 9,
        "start_time": "2024-02-15T14:51:12.376Z"
      },
      {
        "duration": 2457,
        "start_time": "2024-02-15T14:51:12.387Z"
      },
      {
        "duration": 14,
        "start_time": "2024-02-15T14:51:14.846Z"
      },
      {
        "duration": 3,
        "start_time": "2024-02-15T14:51:15.167Z"
      },
      {
        "duration": 158278,
        "start_time": "2024-02-15T14:51:16.052Z"
      },
      {
        "duration": 22683,
        "start_time": "2024-02-15T14:53:54.332Z"
      },
      {
        "duration": 13779,
        "start_time": "2024-02-15T14:54:22.737Z"
      },
      {
        "duration": 1593,
        "start_time": "2024-02-16T08:53:40.955Z"
      },
      {
        "duration": 1124,
        "start_time": "2024-02-16T08:53:42.550Z"
      },
      {
        "duration": 142,
        "start_time": "2024-02-16T08:53:43.675Z"
      },
      {
        "duration": 287,
        "start_time": "2024-02-16T08:53:43.819Z"
      },
      {
        "duration": 98,
        "start_time": "2024-02-16T08:53:44.108Z"
      },
      {
        "duration": 321,
        "start_time": "2024-02-16T08:53:44.207Z"
      },
      {
        "duration": 635,
        "start_time": "2024-02-16T08:53:44.529Z"
      },
      {
        "duration": 120,
        "start_time": "2024-02-16T08:53:45.166Z"
      },
      {
        "duration": 93,
        "start_time": "2024-02-16T08:53:45.549Z"
      },
      {
        "duration": 58,
        "start_time": "2024-02-16T08:53:45.727Z"
      },
      {
        "duration": 73,
        "start_time": "2024-02-16T08:53:46.283Z"
      },
      {
        "duration": 97,
        "start_time": "2024-02-16T08:53:46.677Z"
      },
      {
        "duration": 83,
        "start_time": "2024-02-16T08:53:47.255Z"
      },
      {
        "duration": 28,
        "start_time": "2024-02-16T08:53:47.476Z"
      },
      {
        "duration": 35,
        "start_time": "2024-02-16T08:53:49.770Z"
      },
      {
        "duration": 444,
        "start_time": "2024-02-16T08:53:50.401Z"
      },
      {
        "duration": 193,
        "start_time": "2024-02-16T08:53:55.461Z"
      },
      {
        "duration": 52,
        "start_time": "2024-02-16T08:53:56.038Z"
      },
      {
        "duration": 625,
        "start_time": "2024-02-16T08:53:57.294Z"
      },
      {
        "duration": 131,
        "start_time": "2024-02-16T08:53:58.650Z"
      },
      {
        "duration": 124,
        "start_time": "2024-02-16T08:53:59.930Z"
      },
      {
        "duration": 615,
        "start_time": "2024-02-16T08:54:02.103Z"
      },
      {
        "duration": 132,
        "start_time": "2024-02-16T08:54:03.068Z"
      },
      {
        "duration": 84,
        "start_time": "2024-02-16T08:54:04.170Z"
      },
      {
        "duration": 1871,
        "start_time": "2024-02-16T08:54:06.799Z"
      },
      {
        "duration": 37,
        "start_time": "2024-02-16T08:54:08.671Z"
      },
      {
        "duration": 103,
        "start_time": "2024-02-16T08:54:17.185Z"
      },
      {
        "duration": 78,
        "start_time": "2024-02-16T08:54:17.679Z"
      },
      {
        "duration": 610,
        "start_time": "2024-02-16T08:54:18.211Z"
      },
      {
        "duration": 617,
        "start_time": "2024-02-16T08:54:22.750Z"
      },
      {
        "duration": 24,
        "start_time": "2024-02-16T08:54:57.517Z"
      },
      {
        "duration": 1618,
        "start_time": "2024-02-16T08:55:06.245Z"
      },
      {
        "duration": 6,
        "start_time": "2024-02-16T08:55:52.201Z"
      },
      {
        "duration": 3,
        "start_time": "2024-02-16T08:55:52.840Z"
      },
      {
        "duration": 4685,
        "start_time": "2024-02-16T08:55:53.267Z"
      },
      {
        "duration": 82,
        "start_time": "2024-02-16T08:55:57.954Z"
      },
      {
        "duration": 545,
        "start_time": "2024-02-16T08:55:58.037Z"
      },
      {
        "duration": 13,
        "start_time": "2024-02-16T08:55:58.585Z"
      },
      {
        "duration": 47,
        "start_time": "2024-02-16T08:55:59.763Z"
      },
      {
        "duration": 6,
        "start_time": "2024-02-16T08:56:01.760Z"
      },
      {
        "duration": 325,
        "start_time": "2024-02-16T08:56:01.955Z"
      },
      {
        "duration": 4,
        "start_time": "2024-02-16T08:56:02.539Z"
      },
      {
        "duration": 3880,
        "start_time": "2024-02-16T08:56:02.945Z"
      },
      {
        "duration": 29,
        "start_time": "2024-02-16T08:56:06.827Z"
      },
      {
        "duration": 6,
        "start_time": "2024-02-16T08:56:08.374Z"
      },
      {
        "duration": 22,
        "start_time": "2024-02-16T08:56:09.351Z"
      },
      {
        "duration": 339,
        "start_time": "2024-02-16T08:56:10.603Z"
      },
      {
        "duration": 18,
        "start_time": "2024-02-16T08:56:11.601Z"
      },
      {
        "duration": 16,
        "start_time": "2024-02-16T08:56:11.990Z"
      },
      {
        "duration": 5,
        "start_time": "2024-02-16T08:57:45.744Z"
      },
      {
        "duration": 15,
        "start_time": "2024-02-16T08:57:46.597Z"
      },
      {
        "duration": 17,
        "start_time": "2024-02-16T08:57:48.277Z"
      },
      {
        "duration": 76,
        "start_time": "2024-02-16T08:57:50.666Z"
      },
      {
        "duration": 11,
        "start_time": "2024-02-16T08:57:55.089Z"
      },
      {
        "duration": 126,
        "start_time": "2024-02-16T08:57:58.234Z"
      },
      {
        "duration": 11,
        "start_time": "2024-02-16T08:58:04.208Z"
      },
      {
        "duration": 65,
        "start_time": "2024-02-16T08:58:05.281Z"
      },
      {
        "duration": 3,
        "start_time": "2024-02-16T08:58:18.684Z"
      },
      {
        "duration": 58,
        "start_time": "2024-02-16T08:58:20.083Z"
      },
      {
        "duration": 3,
        "start_time": "2024-02-16T08:58:39.863Z"
      },
      {
        "duration": 668,
        "start_time": "2024-02-16T08:58:44.601Z"
      },
      {
        "duration": 9,
        "start_time": "2024-02-16T08:58:46.863Z"
      },
      {
        "duration": 2273,
        "start_time": "2024-02-16T08:58:48.766Z"
      },
      {
        "duration": 13,
        "start_time": "2024-02-16T08:58:51.905Z"
      },
      {
        "duration": 3,
        "start_time": "2024-02-16T09:03:45.570Z"
      },
      {
        "duration": 11553,
        "start_time": "2024-02-16T09:03:57.819Z"
      }
    ],
    "kernelspec": {
      "display_name": "Python 3 (ipykernel)",
      "language": "python",
      "name": "python3"
    },
    "language_info": {
      "codemirror_mode": {
        "name": "ipython",
        "version": 3
      },
      "file_extension": ".py",
      "mimetype": "text/x-python",
      "name": "python",
      "nbconvert_exporter": "python",
      "pygments_lexer": "ipython3",
      "version": "3.11.7"
    },
    "toc": {
      "base_numbering": 1,
      "nav_menu": {},
      "number_sections": true,
      "sideBar": true,
      "skip_h1_title": true,
      "title_cell": "Table of Contents",
      "title_sidebar": "Contents",
      "toc_cell": false,
      "toc_position": {
        "height": "calc(100% - 180px)",
        "left": "10px",
        "top": "150px",
        "width": "181.8px"
      },
      "toc_section_display": true,
      "toc_window_display": true
    },
    "colab": {
      "provenance": [],
      "toc_visible": true
    }
  },
  "nbformat": 4,
  "nbformat_minor": 0
}